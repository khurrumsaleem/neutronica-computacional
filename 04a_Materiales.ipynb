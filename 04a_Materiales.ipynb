{
  "nbformat": 4,
  "nbformat_minor": 0,
  "metadata": {
    "kernelspec": {
      "display_name": "Python 3",
      "language": "python",
      "name": "python3"
    },
    "language_info": {
      "codemirror_mode": {
        "name": "ipython",
        "version": 3
      },
      "file_extension": ".py",
      "mimetype": "text/x-python",
      "name": "python",
      "nbconvert_exporter": "python",
      "pygments_lexer": "ipython3",
      "version": "3.6.7"
    },
    "colab": {
      "name": "Materiales.ipynb",
      "version": "0.3.2",
      "provenance": [],
      "collapsed_sections": [],
      "toc_visible": true
    }
  },
  "cells": [
    {
      "cell_type": "code",
      "metadata": {
        "id": "y6qkm2MGXCoN",
        "colab_type": "code",
        "colab": {
          "base_uri": "https://localhost:8080/",
          "height": 61
        },
        "outputId": "d919c5ff-b63f-4f42-a6d9-2d7d83462b9e"
      },
      "source": [
        "#\n",
        "# Executing this cell you will install OpenMC and the nuclear\n",
        "# data libraries in this instance of the Google Colaboratory virtual machine.\n",
        "# The process takes about 2 minutes.\n",
        "#\n",
        "\n",
        "def install_openmc():\n",
        "  #\n",
        "  # Clone source code from Github, make and install\n",
        "  #\n",
        "  \n",
        "  import os\n",
        "  \n",
        "  if not os.path.isdir('/content'):\n",
        "    print(\"Esta función instala OpenMC en una instancia de Google Colaboratory.\")\n",
        "    print(\"Para instalar localmente siga las instrucciones de la documentacion:\")\n",
        "    print(\"http://docs.openmc.org/en/stable/quickinstall.html\")\n",
        "    return\n",
        "  \n",
        "  %cd -q /content\n",
        "  print(\"Obtaining OpenMC source code from Github...\")\n",
        "  !git  --no-pager clone https://github.com/mit-crpg/openmc.git &> /dev/null\n",
        "  %cd -q openmc\n",
        "  !git --no-pager checkout master &> /dev/null\n",
        "  !mkdir build\n",
        "  %cd -q build\n",
        "  print(\"Running cmake...\")\n",
        "  !cmake ../ -DPYTHON_EXECUTABLE=/usr/bin/python3 -DCMAKE_INSTALL_PREFIX=/usr/local &> /dev/null\n",
        "  print(\"Running make...\")\n",
        "  !make -j &> /dev/null\n",
        "  print(\"Running make install...\")\n",
        "  !make install &> /dev/null\n",
        "  import sys\n",
        "  sys.path.append('/usr/local/lib/python3.6/dist-packages/openmc-0.10.0-py3.6-linux-x86_64.egg')\n",
        "  sys.path.append('/usr/local/lib/python3.6/site-packages/')\n",
        "  %cd -q /content\n",
        "\n",
        "def install_data_from_onedrive():\n",
        "  #\n",
        "  # Download preprocessed HDF5 files from OneDrive (faster).\n",
        "  #\n",
        "  import os\n",
        "  \n",
        "  if not os.path.isdir('/content'):\n",
        "    print(\"Esta función instala los datos nucleares de OpenMC en una instancia de Google Colaboratory.\")\n",
        "    print(\"Para instalar localmente siga las instrucciones de la documentacion:\")\n",
        "    print(\"http://docs.openmc.org/en/stable/quickinstall.html\")\n",
        "    return\n",
        "  %cd -q /content\n",
        "  print(\"Obtaining HDF5 files from OneDrive...\")\n",
        "  !wget -O nndc_hdf5.tar.gz \"https://onedrive.live.com/download?cid=22422A8EEA2A85B9&resid=22422A8EEA2A85B9%21105&authkey=AHL6xwYFXDwEzkk\" &> /dev/null\n",
        "  print(\"Uncompressing...\")\n",
        "  !tar xzvf nndc_hdf5.tar.gz &> /dev/null\n",
        "    \n",
        "from time import time\n",
        "t1 = time()\n",
        "install_openmc()\n",
        "install_data_from_onedrive()\n",
        "t2 = time()\n",
        "print(\"Installed OpenMC in {:.2f} minutes\".format((t2-t1)/60.0))\n"
      ],
      "execution_count": 0,
      "outputs": [
        {
          "output_type": "stream",
          "text": [
            "Obtaining OpenMC source code from Github...\n"
          ],
          "name": "stdout"
        }
      ]
    },
    {
      "cell_type": "markdown",
      "metadata": {
        "id": "vNkloqMZWf76",
        "colab_type": "text"
      },
      "source": [
        "# Ejemplos de definición de materiales en OpenMC"
      ]
    },
    {
      "cell_type": "markdown",
      "metadata": {
        "id": "ZQe7t28HWf77",
        "colab_type": "text"
      },
      "source": [
        "Comenzamos importando el módulo `openmc`, contiene el API (applicationg programming interface) para generar el input de OpenMC."
      ]
    },
    {
      "cell_type": "code",
      "metadata": {
        "id": "1AdH-6N-Wf78",
        "colab_type": "code",
        "colab": {}
      },
      "source": [
        "import openmc"
      ],
      "execution_count": 0,
      "outputs": []
    },
    {
      "cell_type": "markdown",
      "metadata": {
        "id": "tZKmiMZYWf8B",
        "colab_type": "text"
      },
      "source": [
        "La definición de materiales en openmc se realiza llamando a la función `Material()`:"
      ]
    },
    {
      "cell_type": "code",
      "metadata": {
        "id": "ji2xRO0sWf8E",
        "colab_type": "code",
        "colab": {}
      },
      "source": [
        "agua = openmc.Material()"
      ],
      "execution_count": 0,
      "outputs": []
    },
    {
      "cell_type": "markdown",
      "metadata": {
        "id": "RTQMPvAGWf8I",
        "colab_type": "text"
      },
      "source": [
        "Una vez definido el material podemos utilizar el método `.add_nuclide()` para agregar nucleidos a la composición:"
      ]
    },
    {
      "cell_type": "code",
      "metadata": {
        "id": "YD_WC1ePWf8J",
        "colab_type": "code",
        "colab": {}
      },
      "source": [
        "agua.add_nuclide('H1', 2.0, 'ao')"
      ],
      "execution_count": 0,
      "outputs": []
    },
    {
      "cell_type": "markdown",
      "metadata": {
        "id": "3Ls8bpgyWf8M",
        "colab_type": "text"
      },
      "source": [
        "El primer primer parámetro de `.add_nuclide()` es el nucleido a agregar, en este caso $^1$H, el segundo la fracción de la composición que representa, y el tercer parámetro las unidades de la fracción indicada. `ao` es fracción en cantidad de átomos, y `wo` es fracción en peso. "
      ]
    },
    {
      "cell_type": "markdown",
      "metadata": {
        "id": "jtAUxSysWf8M",
        "colab_type": "text"
      },
      "source": [
        "Para definir la densidad del material utilizamos el método `.set_density()`:"
      ]
    },
    {
      "cell_type": "code",
      "metadata": {
        "id": "24uUUtwCWf8N",
        "colab_type": "code",
        "colab": {}
      },
      "source": [
        "agua.set_density('g/cm3', 1.0)"
      ],
      "execution_count": 0,
      "outputs": []
    },
    {
      "cell_type": "markdown",
      "metadata": {
        "id": "YU2a3mU3Wf8Q",
        "colab_type": "text"
      },
      "source": [
        "Otras unidades posibles para la densidad son átomos por barn*cm (`'atom/b-cm'`) o kg por m$^3$ (`'kg/m3'`)."
      ]
    },
    {
      "cell_type": "markdown",
      "metadata": {
        "id": "u0mT_78gWf8Q",
        "colab_type": "text"
      },
      "source": [
        "Se pueden agregar también elementos a la composición con el método `.add_element()`:"
      ]
    },
    {
      "cell_type": "code",
      "metadata": {
        "id": "h28CXjpPWf8R",
        "colab_type": "code",
        "colab": {}
      },
      "source": [
        "agua.add_element('O', 1.0, 'ao')"
      ],
      "execution_count": 0,
      "outputs": []
    },
    {
      "cell_type": "markdown",
      "metadata": {
        "id": "SUe7iTdsWf8T",
        "colab_type": "text"
      },
      "source": [
        "Al exportar la información en fomato `xml` para ejecutar OpenMC, el API convierte estas composiciones a la distribución isotópica que corresponda a la biblioteca de datos nucleares que se haya especificado ya que algunas bibliotecas poseen datos para los elemenos, otras para todos sus isótopos y otras sólo para algunos. Por ejemplo, si bien el oxígeno natural contiene $^{16}$O, $^{17}$O y $^{18}$O no todas las bibliotecas poseen datos para todos los isótopos, por lo que la composición puede variar."
      ]
    },
    {
      "cell_type": "markdown",
      "metadata": {
        "id": "IKguaNJ6Wf8V",
        "colab_type": "text"
      },
      "source": [
        "**Cuando se calculan benchmarks es recomendable especificar en forma explícita la fracción de cada nucleido presente para evitar ambiguedades**"
      ]
    },
    {
      "cell_type": "markdown",
      "metadata": {
        "id": "RgLxpUtSWf8V",
        "colab_type": "text"
      },
      "source": [
        "## Datos nucleares térmicos"
      ]
    },
    {
      "cell_type": "markdown",
      "metadata": {
        "id": "m_gWTVEJWf8W",
        "colab_type": "text"
      },
      "source": [
        "El tratamiento default para la sección eficaz de scattering para neutrones térmicos es el de gas libre a la temperatura de la celda o material. En caso de que la biblioteca tenga secciones eficaces de scattering térmico, estas pueden especificarse en la definición del material utilizando el método `.add_s_alpha_beta()`:"
      ]
    },
    {
      "cell_type": "code",
      "metadata": {
        "id": "zptORnOfWf8Y",
        "colab_type": "code",
        "colab": {}
      },
      "source": [
        "agua.add_s_alpha_beta(\"c_H_in_H2O\")"
      ],
      "execution_count": 0,
      "outputs": []
    },
    {
      "cell_type": "markdown",
      "metadata": {
        "id": "89qe3bN1Wf8b",
        "colab_type": "text"
      },
      "source": [
        "Ahora, la definición del material incluirá el reemplazo para energías térmicas de la sección eficaz de scattering del $^{1}$H por la definida en la biblioteca `c_H_in_H2O`."
      ]
    },
    {
      "cell_type": "markdown",
      "metadata": {
        "id": "3W8-IxxqWf8c",
        "colab_type": "text"
      },
      "source": [
        "## Nomenclatura de nucleidos, elementos y compuestos"
      ]
    },
    {
      "cell_type": "markdown",
      "metadata": {
        "id": "aN5jIzROWf8d",
        "colab_type": "text"
      },
      "source": [
        "La nomenclatura utilizada en OpenMC proviene de [GND](https://www.oecd-nea.org/science/wpec/sg38/Meetings/2016_May/tlh4gnd-main.pdf), que es un formato que en el futuro reemplazará a ENDF. En el pasado la especificación de nucleidos se realizaba mediante números enteros (ZAID o MAT). Esto fue reemplazado por strings siguiendo el siguiente criterio:\n",
        "\n",
        "* Elementos: `Sym0` (el símbolo químico seguido de 0). Por ejemplo, `C0`, `Al0`.\n",
        "* Nucleidos: `SymA` (el símbolo químico del elemento seguido del número atómico. Por ejemplo, `C12`, `Al27`. \n",
        "* Estados excitados: `SymA_eN` (donde N es el número de nivel excitado). Por ejemplo, `V51_e2`.\n",
        "* Estados metastables: `SymA_mN` (donde N es el número de estado metastable). Por ejemplo, `Am242_m1`.\n",
        "* Compuestos: `c_nombre` (donde nombre es un string que identifica el compuesto). Por ejemplo, `c_H_in_H2O`."
      ]
    },
    {
      "cell_type": "markdown",
      "metadata": {
        "id": "PXfAimbmWf8e",
        "colab_type": "text"
      },
      "source": [
        "## Temperaturas"
      ]
    },
    {
      "cell_type": "markdown",
      "metadata": {
        "id": "J77uhv2iWf8e",
        "colab_type": "text"
      },
      "source": [
        "La temperatura de las distintas regiones de la simulación se indica en OpenMC como una propiedad de las celdas. Pero, si uno tiene un material cuya temperatura es única, puede indicarse con el atributo `.temperature`. A diferencia de otros códigos Monte Carlo, la unidad de temperatura es el Kelvin:"
      ]
    },
    {
      "cell_type": "code",
      "metadata": {
        "id": "hkKRZERZWf8f",
        "colab_type": "code",
        "colab": {}
      },
      "source": [
        "agua.temperatura = 293 # K"
      ],
      "execution_count": 0,
      "outputs": []
    },
    {
      "cell_type": "markdown",
      "metadata": {
        "id": "DRHoG5WmWf8h",
        "colab_type": "text"
      },
      "source": [
        "Si todo el sistema está a una única temperatura, esta puede especificarse en forma global en los parámetros de simulación (settings). La temperatura indicada por celda tiene preeminencia sobre la temperatura de los materiales, y la temperatura de los materiales tiene preeminencia sobre la temperatura fijada en forma global."
      ]
    },
    {
      "cell_type": "markdown",
      "metadata": {
        "id": "LlQPPvoTWf8i",
        "colab_type": "text"
      },
      "source": [
        "## Colección de materiales y generación del input xml"
      ]
    },
    {
      "cell_type": "markdown",
      "metadata": {
        "id": "34FWQkpRWf8j",
        "colab_type": "text"
      },
      "source": [
        "Previo a generar el input para correr es necesario generar una colección de materiales utilizando la función `Materials()`:"
      ]
    },
    {
      "cell_type": "code",
      "metadata": {
        "id": "zJzQbAD_Wf8k",
        "colab_type": "code",
        "colab": {}
      },
      "source": [
        "mats = openmc.Materials()\n",
        "mats.append(agua)"
      ],
      "execution_count": 0,
      "outputs": []
    },
    {
      "cell_type": "markdown",
      "metadata": {
        "id": "Th01jd5YWf8m",
        "colab_type": "text"
      },
      "source": [
        "o, en forma equivalente:"
      ]
    },
    {
      "cell_type": "code",
      "metadata": {
        "id": "q5TvjCmgWf8n",
        "colab_type": "code",
        "colab": {}
      },
      "source": [
        "mats = openmc.Materials([agua])"
      ],
      "execution_count": 0,
      "outputs": []
    },
    {
      "cell_type": "markdown",
      "metadata": {
        "id": "H_on7h4rWf8p",
        "colab_type": "text"
      },
      "source": [
        "La generación del input xml se realiza con el método `.export_to_xml()`:"
      ]
    },
    {
      "cell_type": "code",
      "metadata": {
        "id": "zZQ7hJwVWf8q",
        "colab_type": "code",
        "colab": {}
      },
      "source": [
        "mats.export_to_xml()"
      ],
      "execution_count": 0,
      "outputs": []
    },
    {
      "cell_type": "markdown",
      "metadata": {
        "id": "Fhj3h_o7Wf8s",
        "colab_type": "text"
      },
      "source": [
        "Y podemos ver el archivo generado:"
      ]
    },
    {
      "cell_type": "code",
      "metadata": {
        "id": "l43LUSMZWf8u",
        "colab_type": "code",
        "colab": {}
      },
      "source": [
        "!cat materials.xml"
      ],
      "execution_count": 0,
      "outputs": []
    },
    {
      "cell_type": "code",
      "metadata": {
        "id": "Mz6jTLgBWf8y",
        "colab_type": "code",
        "colab": {}
      },
      "source": [
        "agua.get_nuclide_densities()"
      ],
      "execution_count": 0,
      "outputs": []
    },
    {
      "cell_type": "markdown",
      "metadata": {
        "id": "vm16KyAKc3v_",
        "colab_type": "text"
      },
      "source": [
        "El objeto de tipo `Materials` tiene una propiedad, `.cross_sections` donde puede indicarse a OpenMC la ubicación de las secciones eficaces."
      ]
    },
    {
      "cell_type": "code",
      "metadata": {
        "id": "RL_TiZG6Wf83",
        "colab_type": "code",
        "colab": {}
      },
      "source": [
        "mats.cross_sections = \"/content/nndc_hdf5/cross_sections.xml\""
      ],
      "execution_count": 0,
      "outputs": []
    },
    {
      "cell_type": "code",
      "metadata": {
        "id": "tVi0UGAeWf87",
        "colab_type": "code",
        "colab": {}
      },
      "source": [
        "mats.export_to_xml()"
      ],
      "execution_count": 0,
      "outputs": []
    },
    {
      "cell_type": "code",
      "metadata": {
        "id": "45HNPuOzWf8-",
        "colab_type": "code",
        "colab": {}
      },
      "source": [
        "!cat materials.xml"
      ],
      "execution_count": 0,
      "outputs": []
    },
    {
      "cell_type": "markdown",
      "metadata": {
        "id": "2q7kl80Ydbkl",
        "colab_type": "text"
      },
      "source": [
        "Resumiendo, la definición del material agua isótopo por isótopo, es la siguiente:"
      ]
    },
    {
      "cell_type": "code",
      "metadata": {
        "id": "P52RhvGRWf9J",
        "colab_type": "code",
        "colab": {}
      },
      "source": [
        "agua = openmc.Material()\n",
        "agua.add_nuclide(\"H1\", 2.0*(1.0- 0.0115e-2), 'ao')\n",
        "agua.add_nuclide(\"H2\", 2.0*0.0115e-2, 'ao')\n",
        "agua.add_nuclide(\"O16\", 1.0-0.038e-2, 'ao')\n",
        "agua.add_nuclide(\"O17\", 0.038e-2, 'ao')\n",
        "agua.add_s_alpha_beta(\"c_H_in_H2O\")\n",
        "agua.set_density('g/cm3', 1.0)"
      ],
      "execution_count": 0,
      "outputs": []
    },
    {
      "cell_type": "code",
      "metadata": {
        "id": "0t9aPTo_Wf9L",
        "colab_type": "code",
        "colab": {}
      },
      "source": [
        "mats = openmc.Materials()\n",
        "mats.cross_sections = \"/content/nndc_hdf5/cross_sections.xml\"\n",
        "mats.add_material(agua)\n",
        "mats.export_to_xml()"
      ],
      "execution_count": 0,
      "outputs": []
    },
    {
      "cell_type": "code",
      "metadata": {
        "id": "z6LNnTp9YX3M",
        "colab_type": "code",
        "colab": {}
      },
      "source": [
        "!cat materials.xml"
      ],
      "execution_count": 0,
      "outputs": []
    },
    {
      "cell_type": "code",
      "metadata": {
        "id": "P-rSRexxj1bk",
        "colab_type": "code",
        "colab": {}
      },
      "source": [
        ""
      ],
      "execution_count": 0,
      "outputs": []
    }
  ]
}