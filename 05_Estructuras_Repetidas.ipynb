{
  "nbformat": 4,
  "nbformat_minor": 0,
  "metadata": {
    "kernelspec": {
      "display_name": "Python 3",
      "language": "python",
      "name": "python3"
    },
    "language_info": {
      "codemirror_mode": {
        "name": "ipython",
        "version": 3
      },
      "file_extension": ".py",
      "mimetype": "text/x-python",
      "name": "python",
      "nbconvert_exporter": "python",
      "pygments_lexer": "ipython3",
      "version": "3.6.7"
    },
    "colab": {
      "name": "Estructuras_Repetidas.ipynb",
      "version": "0.3.2",
      "provenance": []
    }
  },
  "cells": [
    {
      "cell_type": "markdown",
      "metadata": {
        "id": "d48Cu7Eg_vi7",
        "colab_type": "text"
      },
      "source": [
        "## Instalación de OpenMC"
      ]
    },
    {
      "cell_type": "code",
      "metadata": {
        "id": "KTYSh9hu_i0i",
        "colab_type": "code",
        "colab": {}
      },
      "source": [
        "#\n",
        "# Executing this cell you will install OpenMC and the nuclear\n",
        "# data libraries in this instance of the Google Colaboratory virtual machine.\n",
        "# The process takes about 2 minutes.\n",
        "#\n",
        "\n",
        "def install_openmc():\n",
        "  #\n",
        "  # Clone source code from Github, make and install\n",
        "  #\n",
        "  \n",
        "  import os\n",
        "  \n",
        "  if not os.path.isdir('/content'):\n",
        "    print(\"Esta función instala OpenMC en una instancia de Google Colaboratory.\")\n",
        "    print(\"Para instalar localmente siga las instrucciones de la documentacion:\")\n",
        "    print(\"http://docs.openmc.org/en/stable/quickinstall.html\")\n",
        "    return\n",
        "  \n",
        "  %cd -q /content\n",
        "  print(\"Obtaining OpenMC source code from Github...\")\n",
        "  !git  --no-pager clone https://github.com/mit-crpg/openmc.git &> /dev/null\n",
        "  %cd -q openmc\n",
        "  !git --no-pager checkout master &> /dev/null\n",
        "  !mkdir build\n",
        "  %cd -q build\n",
        "  print(\"Running cmake...\")\n",
        "  !cmake ../ -DPYTHON_EXECUTABLE=/usr/bin/python3 -DCMAKE_INSTALL_PREFIX=/usr/local &> /dev/null\n",
        "  print(\"Running make...\")\n",
        "  !make -j &> /dev/null\n",
        "  print(\"Running make install...\")\n",
        "  !make install &> /dev/null\n",
        "  import sys\n",
        "  sys.path.append('/usr/local/lib/python3.6/dist-packages/openmc-0.10.0-py3.6-linux-x86_64.egg')\n",
        "  sys.path.append('/usr/local/lib/python3.6/site-packages/')\n",
        "  \n",
        "  !apt update &> /dev/null\n",
        "  !apt install python3-vtk7 imagemagick &> /dev/null\n",
        "  \n",
        "  %cd -q /content\n",
        "\n",
        "def install_data_from_onedrive():\n",
        "  #\n",
        "  # Download preprocessed HDF5 files from OneDrive (faster).\n",
        "  #\n",
        "  import os\n",
        "  \n",
        "  if not os.path.isdir('/content'):\n",
        "    print(\"Esta función instala los datos nucleares de OpenMC en una instancia de Google Colaboratory.\")\n",
        "    print(\"Para instalar localmente siga las instrucciones de la documentacion:\")\n",
        "    print(\"http://docs.openmc.org/en/stable/quickinstall.html\")\n",
        "    return\n",
        "  %cd -q /content\n",
        "  print(\"Obtaining HDF5 files from OneDrive...\")\n",
        "  !wget -O nndc_hdf5.tar.gz \"https://onedrive.live.com/download?cid=22422A8EEA2A85B9&resid=22422A8EEA2A85B9%21105&authkey=AHL6xwYFXDwEzkk\" &> /dev/null\n",
        "  print(\"Uncompressing...\")\n",
        "  !tar xzvf nndc_hdf5.tar.gz &> /dev/null\n",
        "    \n",
        "from time import time\n",
        "t1 = time()\n",
        "install_openmc()\n",
        "install_data_from_onedrive()\n",
        "t2 = time()\n",
        "print(\"Installed OpenMC in {:.2f} minutes\".format((t2-t1)/60.0))\n"
      ],
      "execution_count": 0,
      "outputs": []
    },
    {
      "cell_type": "markdown",
      "metadata": {
        "id": "6pNIU0Fn_XE-",
        "colab_type": "text"
      },
      "source": [
        "# Estructuras repetidas"
      ]
    },
    {
      "cell_type": "code",
      "metadata": {
        "id": "8wYvc2Np_XFE",
        "colab_type": "code",
        "colab": {}
      },
      "source": [
        "import openmc\n",
        "import numpy as np\n",
        "%pylab inline"
      ],
      "execution_count": 0,
      "outputs": []
    },
    {
      "cell_type": "markdown",
      "metadata": {
        "id": "LulTm4p__XFX",
        "colab_type": "text"
      },
      "source": [
        "Vamos a definir un esquema de cuatro celdas en el plano $(x,y)$, una conteniendo una barra de combustible hexagonal, otra una barra de combustible de sección cuadrada y otra de sección cilíndrica."
      ]
    },
    {
      "cell_type": "code",
      "metadata": {
        "id": "XMpUcWZj_XFa",
        "colab_type": "code",
        "colab": {}
      },
      "source": [
        "agua = openmc.Material()\n",
        "agua.add_nuclide(\"H1\", 2.0, \"ao\")\n",
        "agua.add_nuclide(\"O16\", 1.0, \"ao\")\n",
        "agua.set_density(\"g/cm3\", 1.0)\n",
        "fuel = openmc.Material()\n",
        "fuel.add_nuclide(\"U235\", 2.0, \"ao\")\n",
        "fuel.add_nuclide(\"O16\", 1.0, \"ao\")\n",
        "fuel.set_density(\"g/cm3\", 10.0)"
      ],
      "execution_count": 0,
      "outputs": []
    },
    {
      "cell_type": "markdown",
      "metadata": {
        "id": "PvXlLJjR_XFj",
        "colab_type": "text"
      },
      "source": [
        "Esta es la definición de una barra de sección hexagonal (infinita en $z$) con apotema $5.0$ cm.\n",
        "\n",
        "Aquí vamos a usar la ecuación del plano de normal $\\vec{n}$ que pasa por el punto $\\vec{p}$:\n",
        "\n",
        "$$\n",
        "n_x(x-p_x)+n_y(y-p_y)+n_z(z-p_z)=0 \n",
        "$$\n",
        "\n",
        "$$\n",
        "n_x x + n_y y + n_z z = n_x p_x+n_y p_y+n_z p_z\n",
        "$$\n",
        "\n",
        "Por lo que los parámetros $A$, $B$, $C$ y$D$ de la [definición del plano en OpenMC](https://openmc.readthedocs.io/en/stable/pythonapi/generated/openmc.Plane.html#openmc.Plane) son:\n",
        "\n",
        "$$\n",
        "A = n_x p_x\n",
        "$$\n",
        "\n",
        "$$\n",
        "B = n_y p_y\n",
        "$$\n",
        "\n",
        "$$\n",
        "C = n_z p_z\n",
        "$$\n",
        "\n",
        "$$\n",
        "D = n_x p_x+n_y p_y+n_z p_z\n",
        "$$"
      ]
    },
    {
      "cell_type": "code",
      "metadata": {
        "id": "ZCdnN5M2_XFl",
        "colab_type": "code",
        "colab": {}
      },
      "source": [
        "apotema = 5.0 \n",
        "lado = apotema*2.0/np.sqrt(3)\n",
        "\n",
        "ang = 30.0*np.pi/180.0\n",
        "n = np.array([np.cos(ang), np.sin(ang), 0])\n",
        "x0 = np.array([lado,0,0])\n",
        "plano1 = openmc.Plane(A=n[0],B=n[1],C=n[2],D=np.dot(n, x0))\n",
        "\n",
        "ang = 90.0*np.pi/180.0\n",
        "n = np.array([np.cos(ang), np.sin(ang), 0])\n",
        "x0 = np.array([0,apotema,0])\n",
        "plano2 = openmc.Plane(A=n[0],B=n[1],C=n[2],D=np.dot(n, x0))\n",
        "\n",
        "ang = 150.0*np.pi/180.0\n",
        "n = np.array([np.cos(ang), np.sin(ang), 0])\n",
        "x0 = np.array([-lado,0,0])\n",
        "plano3 = openmc.Plane(A=n[0],B=n[1],C=n[2],D=np.dot(n, x0))\n",
        "\n",
        "ang = 210.0*np.pi/180.0\n",
        "n = np.array([np.cos(ang), np.sin(ang), 0])\n",
        "x0 = np.array([-lado,0,0])\n",
        "plano4 = openmc.Plane(A=n[0],B=n[1],C=n[2],D=np.dot(n, x0))\n",
        "\n",
        "ang = 270.0*np.pi/180.0\n",
        "n = np.array([np.cos(ang), np.sin(ang), 0])\n",
        "x0 = np.array([0,-apotema,0])\n",
        "plano5 = openmc.Plane(A=n[0],B=n[1],C=n[2],D=np.dot(n, x0))\n",
        "\n",
        "ang = 330.0*np.pi/180.0\n",
        "n = np.array([np.cos(ang), np.sin(ang), 0])\n",
        "x0 = np.array([+lado,0,0])\n",
        "plano6 = openmc.Plane(A=n[0],B=n[1],C=n[2],D=np.dot(n, x0))\n",
        "\n",
        "hexa  = openmc.Cell(region=-plano1 & -plano2 & \\\n",
        "                           -plano3 & -plano4 & \\\n",
        "                           -plano5 & -plano6, fill=fuel)\n",
        "fuera_hexa = openmc.Cell(region=+plano1 | +plano2 | \\\n",
        "                                +plano3 | +plano4 | \\\n",
        "                                +plano5 | +plano6, fill=agua)\n",
        "uni1 = openmc.Universe(cells=[hexa,fuera_hexa])"
      ],
      "execution_count": 0,
      "outputs": []
    },
    {
      "cell_type": "markdown",
      "metadata": {
        "id": "CgSMYSEF_XFs",
        "colab_type": "text"
      },
      "source": [
        "Al utilizar el método `.plot()` para graficar un universo podemos especificar cómo se van a asignar los colores con el parámetro `color_by=` (el default es `\"cell\"`, pero vamos a colorear por material). La asignación de colores a materiales se realiza con el parámetro `colors=`, que recibe un diccionario cuyos índices son materiales:"
      ]
    },
    {
      "cell_type": "code",
      "metadata": {
        "id": "KZX481kG_XFv",
        "colab_type": "code",
        "colab": {}
      },
      "source": [
        "uni1.plot(width=(20,20), color_by='material', colors={fuel:\"Gray\", agua:\"Blue\"})"
      ],
      "execution_count": 0,
      "outputs": []
    },
    {
      "cell_type": "markdown",
      "metadata": {
        "id": "mPAXKsQ2_XF5",
        "colab_type": "text"
      },
      "source": [
        "La definición de la celda hexagonal puede hacerse en forma más sencilla usando la función [openmc.model.get_hexagonal_prism()](https://openmc.readthedocs.io/en/stable/pythonapi/generated/openmc.model.get_hexagonal_prism.html#openmc.model.get_hexagonal_prism) que devuelve directamente el interior de un prisma hexagonal infinito:"
      ]
    },
    {
      "cell_type": "code",
      "metadata": {
        "id": "waV-IrXF_XF8",
        "colab_type": "code",
        "colab": {}
      },
      "source": [
        "apotema = 5.0 \n",
        "lado = apotema*2.0/np.sqrt(3)\n",
        "\n",
        "region = openmc.model.get_hexagonal_prism(edge_length=lado, orientation='x')\n",
        "hexa  = openmc.Cell(region=region, fill=fuel)\n",
        "fuera_hexa = openmc.Cell(region=~region, fill=agua)\n",
        "uni1 = openmc.Universe(cells=[hexa,fuera_hexa])\n",
        "uni1.plot(width=(20,20), color_by='material', colors={fuel:\"Gray\", agua:\"Blue\"})"
      ],
      "execution_count": 0,
      "outputs": []
    },
    {
      "cell_type": "markdown",
      "metadata": {
        "id": "ItlHCVdT_XGS",
        "colab_type": "text"
      },
      "source": [
        "Esta es la definción de una barra de sección cuadrada (infinita en $z$):"
      ]
    },
    {
      "cell_type": "code",
      "metadata": {
        "id": "GVO9VLFQ_XGU",
        "colab_type": "code",
        "colab": {}
      },
      "source": [
        "plano11 = openmc.XPlane(x0 = -5)\n",
        "plano12 = openmc.XPlane(x0 = +5)\n",
        "plano13 = openmc.YPlane(y0 = -5)\n",
        "plano14 = openmc.YPlane(y0 = +5)\n",
        "box       = openmc.Cell(region=+plano11 & -plano12 & +plano13 & -plano14, fill=fuel)\n",
        "fuera_box = openmc.Cell(region=-plano11 | +plano12 | -plano13 | +plano14, fill=agua)\n",
        "uni2 = openmc.Universe(cells=[box, fuera_box])\n",
        "uni2.plot(width=(20,20), color_by='material', colors={fuel:\"Gray\", agua:\"Blue\"})"
      ],
      "execution_count": 0,
      "outputs": []
    },
    {
      "cell_type": "markdown",
      "metadata": {
        "id": "v7um9Nmrl6c0",
        "colab_type": "text"
      },
      "source": [
        "La definición de la celda de sección rectangular puede hacerse en forma más sencilla usando la función [openmc.model.get_rectangular_prism()](https://openmc.readthedocs.io/en/stable/pythonapi/generated/openmc.model.get_rectangular_prism.html) que devuelve directamente el interior de un prisma rectangular infinito:"
      ]
    },
    {
      "cell_type": "code",
      "metadata": {
        "id": "9lA6wFQalczY",
        "colab_type": "code",
        "colab": {}
      },
      "source": [
        "lado = 10\n",
        "region = openmc.model.get_rectangular_prism(lado, lado)\n",
        "box  = openmc.Cell(region=region, fill=fuel)\n",
        "fuera_box = openmc.Cell(region=~region, fill=agua)\n",
        "uni2 = openmc.Universe(cells=[box, fuera_box])"
      ],
      "execution_count": 0,
      "outputs": []
    },
    {
      "cell_type": "code",
      "metadata": {
        "id": "uGpAB0Ye_XGf",
        "colab_type": "code",
        "colab": {}
      },
      "source": [
        "uni2.plot(width=(20,20), color_by='material', colors={fuel:\"Gray\", agua:\"Blue\"})"
      ],
      "execution_count": 0,
      "outputs": []
    },
    {
      "cell_type": "markdown",
      "metadata": {
        "id": "G18Du1m__XGw",
        "colab_type": "text"
      },
      "source": [
        "Y la definición de una barra de sección cilíndrica"
      ]
    },
    {
      "cell_type": "code",
      "metadata": {
        "id": "JDGCSFNX_XGx",
        "colab_type": "code",
        "colab": {}
      },
      "source": [
        "zcil = openmc.ZCylinder(R=5)\n",
        "cil       = openmc.Cell(region=-zcil, fill=fuel)\n",
        "fuera_cil = openmc.Cell(region=+zcil, fill=agua)\n",
        "uni3 = openmc.Universe(cells=[cil, fuera_cil])\n",
        "uni3.plot(width=(20,20), color_by='material', colors={fuel:\"Gray\", agua:\"Blue\"})"
      ],
      "execution_count": 0,
      "outputs": []
    },
    {
      "cell_type": "markdown",
      "metadata": {
        "id": "zscwX5PY_XHD",
        "colab_type": "text"
      },
      "source": [
        "Ahora vamos a definir las cuatro celdas que vamos a llenar con los universos predefinidos. Esto se hace asignando al parámetro `fill=` un universo en lugar de un material. Como los universos están definidos en el origen, debemos aplicar una traslación con para correr el universo a la posición final. Esto se hace asignando un valor al atributo `.translation`:"
      ]
    },
    {
      "cell_type": "code",
      "metadata": {
        "id": "4f856WHC_XHE",
        "colab_type": "code",
        "colab": {}
      },
      "source": [
        "plano21 = openmc.XPlane(x0 = 0)\n",
        "plano22 = openmc.XPlane(x0 = 15)\n",
        "plano23 = openmc.XPlane(x0 = 30)\n",
        "plano31 = openmc.YPlane(y0 = 0)\n",
        "plano32 = openmc.YPlane(y0 = 15)\n",
        "plano33 = openmc.YPlane(y0 = 30)\n",
        "\n",
        "cel1 = openmc.Cell(region=+plano21 & -plano22 & +plano31 & -plano32, fill=uni1)\n",
        "cel1.translation = [+7.5,+7.5,0]\n",
        "\n",
        "cel2 = openmc.Cell(region=+plano22 & -plano23 & +plano31 & -plano32, fill=uni2)\n",
        "cel2.translation = [+22.5,+7.5,0]\n",
        "\n",
        "cel3 = openmc.Cell(region=+plano21 & -plano22 & +plano32 & -plano33, fill=uni3)\n",
        "cel3.translation = [+7.5,+22.5,0]\n",
        "\n",
        "cel4 = openmc.Cell(region=+plano22 & -plano23 & +plano32 & -plano33, fill=agua)\n",
        "\n",
        "uni4 = openmc.Universe(cells=[cel1, cel2, cel3, cel4])"
      ],
      "execution_count": 0,
      "outputs": []
    },
    {
      "cell_type": "code",
      "metadata": {
        "id": "NWysiBV1_XHK",
        "colab_type": "code",
        "colab": {}
      },
      "source": [
        "uni4.plot(width=(50,50), origin=(15,15,0), color_by='material', colors={fuel:\"Gray\", agua:\"Blue\"})"
      ],
      "execution_count": 0,
      "outputs": []
    },
    {
      "cell_type": "markdown",
      "metadata": {
        "id": "pvFcsuXH_XHS",
        "colab_type": "text"
      },
      "source": [
        "Si bien esto se puede hacer en forma repetida utilizando loops de Python, OpenMC posee también estructuras repetidas: los arreglos regulares denominados *lattices*. OpenMC posee dos tipos de lattices: rectangulares, que se definen con la función `RectLattice()`, y hexagonales que se definen con la función `HexLattice()`. Los lattices definen un arreglo matricial que se llena con universos, por lo que para definir una celda homogénea necesitamos definir un universo homogéneo:"
      ]
    },
    {
      "cell_type": "code",
      "metadata": {
        "id": "4TcoUTCE_XHT",
        "colab_type": "code",
        "colab": {}
      },
      "source": [
        "cel_agua = openmc.Cell(fill=agua)\n",
        "uni_agua = openmc.Universe(cells=[cel_agua])"
      ],
      "execution_count": 0,
      "outputs": []
    },
    {
      "cell_type": "markdown",
      "metadata": {
        "id": "SgLNJRBC_XHa",
        "colab_type": "text"
      },
      "source": [
        "(En otros códigos Monte Carlo, como MCNP, los lattices son tipos de celdas y poseen un material default que se asigna a las celdas vacías. En OpenMC los lattices existen en forma independiente de las celdas, por lo que no puede asignarseles materiales)."
      ]
    },
    {
      "cell_type": "markdown",
      "metadata": {
        "id": "RV-MpTIJ_XHc",
        "colab_type": "text"
      },
      "source": [
        "La definición de un lattice rectangular requiere la definición de la esquina inferior izquierda (con el atributo `.lower_left`) y el paso o *pitch* del arreglo (con el atributo `.pitch`). La asignación de universos se hace colocando en el atributo `.universes` una lista de listas conteniendo los universos que llenan el lattice:"
      ]
    },
    {
      "cell_type": "code",
      "metadata": {
        "id": "GQsrR1ve_XHc",
        "colab_type": "code",
        "colab": {}
      },
      "source": [
        "lat1 = openmc.RectLattice()\n",
        "lat1.lower_left = (0.0,0.0, 0.0)\n",
        "lat1.pitch = (15.0, 15.0)\n",
        "lat1.universes = [[uni3, uni_agua],\\\n",
        "                  [uni1, uni2]]"
      ],
      "execution_count": 0,
      "outputs": []
    },
    {
      "cell_type": "markdown",
      "metadata": {
        "id": "VR7V_mhX_XHm",
        "colab_type": "text"
      },
      "source": [
        "(Para definir un lattice en 3D se hace lo mismo, pero se asigna una tercera dimension al pitch, que será el paso en $z$. La definición de universos se hace con una lista triplemente anidada, donde cada lista `[[],[]]` corresponde a un nivel en $z$)"
      ]
    },
    {
      "cell_type": "code",
      "metadata": {
        "id": "XIMpTlFG_XHn",
        "colab_type": "code",
        "colab": {}
      },
      "source": [
        "cel_lat1 = openmc.Cell(region=+plano21 & -plano23 & +plano31 & -plano33, fill=lat1)\n",
        "uni5 = openmc.Universe(cells=[cel_lat1])\n",
        "uni5.plot(width=(50,50), origin=(15,15,0), color_by='material', colors={fuel:\"Gray\", agua:\"Blue\"})"
      ],
      "execution_count": 0,
      "outputs": []
    },
    {
      "cell_type": "markdown",
      "metadata": {
        "id": "eCLcjO7B_XH1",
        "colab_type": "text"
      },
      "source": [
        "Como el ejemplo es sencillo no se aprecia la simplificación. Pero, la ventaja de los lattices es más clara cuando se quieren definir arreglos de dimensiones mayores. Por ejemplo, para definir un arreglo de combustibles de $9 \\times 9$:"
      ]
    },
    {
      "cell_type": "code",
      "metadata": {
        "id": "7EGDRZa0_XH4",
        "colab_type": "code",
        "colab": {}
      },
      "source": [
        "lat2 = openmc.RectLattice()\n",
        "lat2.lower_left = (0.0,0.0, 0.0)\n",
        "lat2.pitch = (20.0, 20.0)\n",
        "lat2.universes = [[uni3, uni3, uni3, uni_agua, uni_agua, uni_agua, uni3, uni3, uni3],\\\n",
        "                  [uni3, uni3, uni3, uni_agua, uni_agua, uni_agua, uni3, uni3, uni3],\\\n",
        "                  [uni3, uni3, uni3, uni_agua, uni_agua, uni_agua, uni3, uni3, uni3],\\\n",
        "                  [uni1, uni1, uni1, uni2,     uni2,     uni2,     uni1, uni1, uni1],\\\n",
        "                  [uni1, uni1, uni1, uni2,     uni2,     uni2,     uni1, uni1, uni1],\\\n",
        "                  [uni1, uni1, uni1, uni2,     uni2,     uni2,     uni1, uni1, uni1],\\\n",
        "                  [uni3, uni3, uni3, uni_agua, uni_agua, uni_agua, uni3, uni3, uni3],\\\n",
        "                  [uni3, uni3, uni3, uni_agua, uni_agua, uni_agua, uni3, uni3, uni3],\\\n",
        "                  [uni3, uni3, uni3, uni_agua, uni_agua, uni_agua, uni3, uni3, uni3]]\n"
      ],
      "execution_count": 0,
      "outputs": []
    },
    {
      "cell_type": "code",
      "metadata": {
        "id": "GDXiem7j_XIB",
        "colab_type": "code",
        "colab": {}
      },
      "source": [
        "plano24 = openmc.XPlane(x0 =9*20)\n",
        "plano34 = openmc.YPlane(y0 =9*20)\n",
        "cel_lat2 = openmc.Cell(region=+plano21 & -plano24 & +plano31 & -plano34, fill=lat2)\n",
        "uni6 = openmc.Universe(cells=[cel_lat2])\n",
        "uni6.plot(width=(10*20,10*20), origin=(4.5*20,4.5*20,0), \\\n",
        "          color_by='material', colors={fuel:\"Gray\", agua:\"Blue\"})"
      ],
      "execution_count": 0,
      "outputs": []
    },
    {
      "cell_type": "markdown",
      "metadata": {
        "id": "gFI5rsoj_XIT",
        "colab_type": "text"
      },
      "source": [
        "Los arreglos hexagonales son similares, pero el pitch define una distancia entre anillos concéntricos de combustible (nótese que el pitch es una tupla de un valor, no un escalar). Si se asigna un segundo valor al pitch será la separación entre planos en $z$. El llenado de los índices se realiza de la corona exterior a la corona interior. Para ayudar con el proceso, los lattices hexagonales poseen el método `.show_indices()` que devuelve las posiciones de los índices para una determinada cantidad de anillos."
      ]
    },
    {
      "cell_type": "code",
      "metadata": {
        "id": "ji4MGYR7_XIW",
        "colab_type": "code",
        "colab": {}
      },
      "source": [
        "lat3 = openmc.HexLattice()\n",
        "lat3.center=(4.5*15, 4.5*15)\n",
        "lat3.pitch=(20,)\n",
        "print(lat3.show_indices(3))\n",
        "lat3.universes = [[uni1, uni1, uni1, uni1, uni1, uni1, uni1, uni1, uni1, uni1, uni1, uni1],\\\n",
        "                  [uni3, uni3, uni3, uni3, uni3, uni3],\\\n",
        "                  [uni2]]\n",
        "cel_lat3 = openmc.Cell(region=+plano21 & -plano24 & +plano31 & -plano34, fill=lat3)\n",
        "uni7 = openmc.Universe(cells=[cel_lat3])\n",
        "uni7.plot(width=(10*15,10*15), origin=(4.5*15,4.5*15,0), \\\n",
        "          color_by='material', colors={fuel:\"Gray\", agua:\"Blue\"})"
      ],
      "execution_count": 0,
      "outputs": []
    },
    {
      "cell_type": "markdown",
      "metadata": {
        "id": "LkqaIdBH_XIk",
        "colab_type": "text"
      },
      "source": [
        "Ahora vamos a hacer un modelo completo en base al lattice hexagonal. El primer paso va a ser rodear de agua los elementos combustibles para poder después utilizar esto como relleno para una celda cilíndrica de radio $R=60$ cm:"
      ]
    },
    {
      "cell_type": "code",
      "metadata": {
        "id": "msPZuzA6_XIm",
        "colab_type": "code",
        "colab": {}
      },
      "source": [
        "lat4 = openmc.HexLattice()\n",
        "lat4.center=(0, 0)\n",
        "lat4.pitch=(20,)\n",
        "print(lat4.show_indices(5))"
      ],
      "execution_count": 0,
      "outputs": []
    },
    {
      "cell_type": "code",
      "metadata": {
        "id": "NykD0iG9_XIu",
        "colab_type": "code",
        "colab": {}
      },
      "source": [
        "cil41 = openmc.ZCylinder(R=60, boundary_type=\"vacuum\")\n",
        "plano51 = openmc.ZPlane(z0=-60, boundary_type=\"vacuum\")\n",
        "plano52 = openmc.ZPlane(z0=+60, boundary_type=\"vacuum\")\n",
        "lat4.universes = [[uni_agua]*24,\\\n",
        "                  [uni_agua]*18,\\\n",
        "                  [uni1]*12,\\\n",
        "                  [uni3]*6,\\\n",
        "                  [uni2]]\n",
        "cel_lat4 = openmc.Cell(region=-cil41&+plano51&-plano52, fill=lat4)\n",
        "uni8 = openmc.Universe(cells=[cel_lat4])\n",
        "uni8.plot(width=(120,120), \\\n",
        "          color_by='material', colors={fuel:\"Gray\", agua:\"Blue\"})\n",
        "uni8.plot(width=(120,120))"
      ],
      "execution_count": 0,
      "outputs": []
    },
    {
      "cell_type": "markdown",
      "metadata": {
        "id": "Zovrivtx_XI3",
        "colab_type": "text"
      },
      "source": [
        "(Una forma más sencilla de hacer lo mismo sería definir el universo default que llena las posiciones no especificadas del lattice. Esto se hace con el atributo `.outer` del lattice.)"
      ]
    },
    {
      "cell_type": "markdown",
      "metadata": {
        "id": "UAz6B020_XI4",
        "colab_type": "text"
      },
      "source": [
        "Para verificar la geometría vamos a realizar un plot con el graficador del código (no el de Python). Para esto hay que crear un objeto tipo `Plot()` que luego se exportará al archivo `plots.xml`. Entre los parámetros a indicar hay que colocar el origen y dimensiones del gráfico y también la cantidad de píxeles en cada dimension:"
      ]
    },
    {
      "cell_type": "code",
      "metadata": {
        "id": "g5c4mS-Z_XI6",
        "colab_type": "code",
        "colab": {}
      },
      "source": [
        "geom = openmc.Geometry(root_universe=uni8)\n",
        "geom.export_to_xml()\n",
        "mats = openmc.Materials([agua, fuel])\n",
        "mats.cross_sections=\"/content/nndc_hdf5/cross_sections.xml\"\n",
        "mats.export_to_xml()"
      ],
      "execution_count": 0,
      "outputs": []
    },
    {
      "cell_type": "code",
      "metadata": {
        "id": "TGdyrDuj_XJE",
        "colab_type": "code",
        "colab": {}
      },
      "source": [
        "plot2D = openmc.Plot()\n",
        "plot2D.origin = (0, 0, 0)\n",
        "plot2D.width = (150., 150.)\n",
        "plot2D.pixels = (600, 600)\n",
        "plot2D.id = 1\n",
        "plot2D.filename = \"grafico\"\n",
        "plots = openmc.Plots([plot2D])\n",
        "plots.export_to_xml()\n",
        "openmc.plot_geometry()"
      ],
      "execution_count": 0,
      "outputs": []
    },
    {
      "cell_type": "markdown",
      "metadata": {
        "id": "fh-X9ue8_XJN",
        "colab_type": "text"
      },
      "source": [
        "OpenMC genera un gráfico en formato ppm, que puede convertirse a otros formatos con el comando de Linux `convert`:"
      ]
    },
    {
      "cell_type": "code",
      "metadata": {
        "id": "LEJC55b4_XJO",
        "colab_type": "code",
        "colab": {}
      },
      "source": [
        "!convert grafico.ppm grafico.png"
      ],
      "execution_count": 0,
      "outputs": []
    },
    {
      "cell_type": "markdown",
      "metadata": {
        "id": "NEa26O58_XJR",
        "colab_type": "text"
      },
      "source": [
        "y graficarse en el notebook:"
      ]
    },
    {
      "cell_type": "code",
      "metadata": {
        "id": "tYBGBAxH_XJS",
        "colab_type": "code",
        "colab": {}
      },
      "source": [
        "img = imread(\"grafico.png\")\n",
        "imshow(img)"
      ],
      "execution_count": 0,
      "outputs": []
    },
    {
      "cell_type": "markdown",
      "metadata": {
        "id": "1KayBytFXn2A",
        "colab_type": "text"
      },
      "source": [
        "Estos gráficos también pueden realizarse con el método `openmc.plot_inline()`:"
      ]
    },
    {
      "cell_type": "code",
      "metadata": {
        "id": "nY2KRyMzXnRh",
        "colab_type": "code",
        "colab": {}
      },
      "source": [
        "openmc.plot_inline(plot2D)"
      ],
      "execution_count": 0,
      "outputs": []
    },
    {
      "cell_type": "markdown",
      "metadata": {
        "id": "EvwmIOfA_XJY",
        "colab_type": "text"
      },
      "source": [
        "El mismo método puede utilizarse para realizar gráficos 3D. En 3D el gráfico estará compuesto de *voxeles* (pixeles tridimensionales). Si el modelo es homogéneo en una dirección puede ponerse un sólo voxel para utilizar menos memoria:"
      ]
    },
    {
      "cell_type": "code",
      "metadata": {
        "id": "XU5QSPsh_XJa",
        "colab_type": "code",
        "colab": {}
      },
      "source": [
        "plot3D = openmc.Plot()\n",
        "plot3D.type = 'voxel'\n",
        "plot3D.origin = (0, 0, 0)\n",
        "plot3D.width = (150., 150., 150.)\n",
        "plot3D.pixels = (600, 600, 1)\n",
        "plot3D.id = 2\n",
        "plot3D.filename = \"grafico3D\"\n",
        "plots = openmc.Plots([plot3D])\n",
        "plots.export_to_xml()\n",
        "openmc.plot_geometry()"
      ],
      "execution_count": 0,
      "outputs": []
    },
    {
      "cell_type": "markdown",
      "metadata": {
        "id": "s-UkEx8p_XJi",
        "colab_type": "text"
      },
      "source": [
        "El archivo resultante (un archivo binario en formato HDF5) puede convertirse a format VTK para graficar con Paraview:"
      ]
    },
    {
      "cell_type": "code",
      "metadata": {
        "id": "z7N6SLG3_XJj",
        "colab_type": "code",
        "colab": {}
      },
      "source": [
        "!openmc-voxel-to-silovtk -o grafico3D grafico3D.h5 "
      ],
      "execution_count": 0,
      "outputs": []
    },
    {
      "cell_type": "markdown",
      "metadata": {
        "id": "-YylG87y_XJp",
        "colab_type": "text"
      },
      "source": [
        "El proceso para visualizar en Paraview es:\n",
        "\n",
        "* Abrir archivo `grafico3D.vti`.\n",
        "* Cambiar la visibilidad haciendo click en el ojo al lado de `grafico3D.vti` en el *Pipeline browser* .\n",
        "* En la barra de herramientas *Active Variable Controls* cambiar \"Solid Colors\" por \"id\" y \"Outline\" por \"Surface\".\n",
        "* En *Properties* presionar \"Apply\".\n",
        "* Conn el menú \"Filters -> Common -> Clip\" pueden realizarse cortes de la geometría en los distintos ejes para visualizar el interior."
      ]
    },
    {
      "cell_type": "code",
      "metadata": {
        "id": "gkiCWllI_XJq",
        "colab_type": "code",
        "colab": {}
      },
      "source": [
        "from google.colab import files\n",
        "files.download(\"grafico3D.vti\")"
      ],
      "execution_count": 0,
      "outputs": []
    },
    {
      "cell_type": "code",
      "metadata": {
        "id": "muGlWlyIi8YK",
        "colab_type": "code",
        "colab": {}
      },
      "source": [
        ""
      ],
      "execution_count": 0,
      "outputs": []
    }
  ]
}