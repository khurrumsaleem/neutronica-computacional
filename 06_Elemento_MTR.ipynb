{
  "nbformat": 4,
  "nbformat_minor": 0,
  "metadata": {
    "kernelspec": {
      "display_name": "Python 3",
      "language": "python",
      "name": "python3"
    },
    "language_info": {
      "codemirror_mode": {
        "name": "ipython",
        "version": 3
      },
      "file_extension": ".py",
      "mimetype": "text/x-python",
      "name": "python",
      "nbconvert_exporter": "python",
      "pygments_lexer": "ipython3",
      "version": "3.6.7"
    },
    "colab": {
      "name": "Elemento MTR.ipynb",
      "version": "0.3.2",
      "provenance": []
    }
  },
  "cells": [
    {
      "cell_type": "markdown",
      "metadata": {
        "id": "d48Cu7Eg_vi7",
        "colab_type": "text"
      },
      "source": [
        "## Instalación de OpenMC"
      ]
    },
    {
      "cell_type": "code",
      "metadata": {
        "id": "KTYSh9hu_i0i",
        "colab_type": "code",
        "colab": {}
      },
      "source": [
        "#\n",
        "# Executing this cell you will install OpenMC and the nuclear\n",
        "# data libraries in this instance of the Google Colaboratory virtual machine.\n",
        "# The process takes about 2 minutes.\n",
        "#\n",
        "\n",
        "def install_openmc():\n",
        "  #\n",
        "  # Clone source code from Github, make and install\n",
        "  #\n",
        "  \n",
        "  import os\n",
        "  \n",
        "  if not os.path.isdir('/content'):\n",
        "    print(\"Esta función instala OpenMC en una instancia de Google Colaboratory.\")\n",
        "    print(\"Para instalar localmente siga las instrucciones de la documentacion:\")\n",
        "    print(\"http://docs.openmc.org/en/stable/quickinstall.html\")\n",
        "    return\n",
        "  \n",
        "  %cd -q /content\n",
        "  print(\"Obtaining OpenMC source code from Github...\")\n",
        "  !git  --no-pager clone https://github.com/mit-crpg/openmc.git &> /dev/null\n",
        "  %cd -q openmc\n",
        "  !git --no-pager checkout master &> /dev/null\n",
        "  !mkdir build\n",
        "  %cd -q build\n",
        "  print(\"Running cmake...\")\n",
        "  !cmake ../ -DPYTHON_EXECUTABLE=/usr/bin/python3 -DCMAKE_INSTALL_PREFIX=/usr/local &> /dev/null\n",
        "  print(\"Running make...\")\n",
        "  !make -j &> /dev/null\n",
        "  print(\"Running make install...\")\n",
        "  !make install &> /dev/null\n",
        "  import sys\n",
        "  sys.path.append('/usr/local/lib/python3.6/dist-packages/openmc-0.10.0-py3.6-linux-x86_64.egg')\n",
        "  sys.path.append('/usr/local/lib/python3.6/site-packages/')\n",
        "  \n",
        "  !apt update\n",
        "  !apt install python3-vtk7 imagemagick\n",
        "  \n",
        "  %cd -q /content\n",
        "\n",
        "def install_data_from_onedrive():\n",
        "  #\n",
        "  # Download preprocessed HDF5 files from OneDrive (faster).\n",
        "  #\n",
        "  import os\n",
        "  \n",
        "  if not os.path.isdir('/content'):\n",
        "    print(\"Esta función instala los datos nucleares de OpenMC en una instancia de Google Colaboratory.\")\n",
        "    print(\"Para instalar localmente siga las instrucciones de la documentacion:\")\n",
        "    print(\"http://docs.openmc.org/en/stable/quickinstall.html\")\n",
        "    return\n",
        "  %cd -q /content\n",
        "  print(\"Obtaining HDF5 files from OneDrive...\")\n",
        "  !wget -O nndc_hdf5.tar.gz \"https://onedrive.live.com/download?cid=22422A8EEA2A85B9&resid=22422A8EEA2A85B9%21105&authkey=AHL6xwYFXDwEzkk\" &> /dev/null\n",
        "  print(\"Uncompressing...\")\n",
        "  !tar xzvf nndc_hdf5.tar.gz &> /dev/null\n",
        "    \n",
        "from time import time\n",
        "t1 = time()\n",
        "install_openmc()\n",
        "install_data_from_onedrive()\n",
        "t2 = time()\n",
        "print(\"Installed OpenMC in {:.2f} minutes\".format((t2-t1)/60.0))\n"
      ],
      "execution_count": 0,
      "outputs": []
    },
    {
      "cell_type": "markdown",
      "metadata": {
        "id": "6pNIU0Fn_XE-",
        "colab_type": "text"
      },
      "source": [
        "# Ejemplo: Elemento combustible MTR"
      ]
    },
    {
      "cell_type": "code",
      "metadata": {
        "id": "8wYvc2Np_XFE",
        "colab_type": "code",
        "colab": {}
      },
      "source": [
        "import openmc\n",
        "import numpy as np\n",
        "%pylab inline"
      ],
      "execution_count": 0,
      "outputs": []
    },
    {
      "cell_type": "markdown",
      "metadata": {
        "id": "LulTm4p__XFX",
        "colab_type": "text"
      },
      "source": [
        "Vamos a modelar un elemento combustible tipo MTR. La definición que vamos a utilizar es la del apéndice F del [TECDOC 233](https://www.iaea.org/publications/484/research-reactor-core-conversion-from-the-use-of-highly-enriched-uranium-fuels-guidebook) \"Research Reactor Core Conversion from the Use of Highly Enriched Uranium Fuels: Guidebook\"."
      ]
    },
    {
      "cell_type": "markdown",
      "metadata": {
        "id": "iWX0zVKKiFu_",
        "colab_type": "text"
      },
      "source": [
        "Comenzamos definiendo los materiales. Utilizaremos las composiciones que corresponden al elemento de HEU:"
      ]
    },
    {
      "cell_type": "code",
      "metadata": {
        "id": "XMpUcWZj_XFa",
        "colab_type": "code",
        "colab": {}
      },
      "source": [
        "enriquecimiento = 0.93 # gU235/gU\n",
        "m_U235 = 280 # g\n",
        "vol_plate = 0.063*6.3*60 # cm^3\n",
        "n_plates = 23\n",
        "rho_U235 = m_U235/(vol_plate*n_plates)\n",
        "rho_U = rho_U235/enriquecimiento\n",
        "w_U = 0.21 # gU/gmeat\n",
        "rho_meat = rho_U/w_U\n",
        "\n",
        "mat_agua = openmc.Material()\n",
        "mat_agua.add_nuclide(\"H1\", 2.0, \"ao\")\n",
        "mat_agua.add_nuclide(\"O16\", 1.0, \"ao\")\n",
        "mat_agua.add_s_alpha_beta(\"c_H_in_H2O\")\n",
        "mat_agua.set_density(\"g/cm3\", 1.0)\n",
        "\n",
        "mat_graphite = openmc.Material()\n",
        "mat_graphite.add_nuclide(\"C0\", 1.0, \"ao\")\n",
        "mat_graphite.add_s_alpha_beta(\"c_Graphite\")\n",
        "mat_graphite.set_density(\"g/cm3\", 1.7)\n",
        "\n",
        "mat_meat = openmc.Material()\n",
        "mat_meat.add_nuclide(\"U235\", enriquecimiento*w_U, \"wo\")\n",
        "mat_meat.add_nuclide(\"U238\", (1.0-enriquecimiento)*w_U, \"wo\")\n",
        "mat_meat.add_nuclide(\"Al27\", 1.0-w_U, \"wo\")\n",
        "mat_meat.set_density(\"g/cm3\", rho_meat)\n",
        "\n",
        "mat_al = openmc.Material()\n",
        "mat_al.add_nuclide(\"Al27\", 1.0, \"ao\")\n",
        "mat_al.set_density(\"g/cm3\", 2.7)\n",
        "\n",
        "mats = openmc.Materials([mat_agua, mat_meat, mat_al, mat_graphite])\n",
        "mats.cross_sections = \"/content/nndc_hdf5/cross_sections.xml\"\n",
        "mats.export_to_xml()"
      ],
      "execution_count": 0,
      "outputs": []
    },
    {
      "cell_type": "markdown",
      "metadata": {
        "id": "vBLs_-vsila3",
        "colab_type": "text"
      },
      "source": [
        "Luego modelamos la placa combustible, que va a ser la unidad que utilizaremos para definir el elemento combustible."
      ]
    },
    {
      "cell_type": "code",
      "metadata": {
        "id": "U2cQ5_CpZPuT",
        "colab_type": "code",
        "colab": {}
      },
      "source": [
        "espesor_placa = 0.127 # cm\n",
        "ancho_placa = 7.6-2.0* 0.475 # cm\n",
        "espesor_meat = 0.051 # cm\n",
        "ancho_meat = 6.3 # cm\n",
        "longitud_activa = 60 # cm\n",
        "\n",
        "pl1 = openmc.XPlane(x0 = -(7.6/2.0 ) )\n",
        "pl2 = openmc.XPlane(x0 = -(7.6/2.0 - 0.475))\n",
        "pl3 = openmc.XPlane(x0 = +(7.6/2.0 - 0.475))\n",
        "pl4 = openmc.XPlane(x0 = +(7.6/2.0))\n",
        "\n",
        "region_meat = openmc.model.get_rectangular_prism(ancho_meat, espesor_meat)\n",
        "region_placa = openmc.model.get_rectangular_prism(ancho_placa, espesor_placa)\n",
        "cell_meat  = openmc.Cell(region=region_meat, fill=mat_meat)\n",
        "cell_placa = openmc.Cell(region=region_placa & ~region_meat, fill=mat_al)\n",
        "cell_agua1 = openmc.Cell(region=-pl1, fill=mat_agua)\n",
        "cell_al1   = openmc.Cell(region=+pl1 & -pl2, fill=mat_al)\n",
        "cell_agua2 = openmc.Cell(region=+pl2 & -pl3 & ~region_placa, fill=mat_agua)\n",
        "cell_al2   = openmc.Cell(region=+pl3 & -pl4, fill=mat_al)\n",
        "cell_agua3 = openmc.Cell(region=+pl4, fill=mat_agua)\n",
        "\n",
        "uni_placa = openmc.Universe(cells=[cell_meat, cell_placa, cell_agua1, cell_al1,\\\n",
        "                              cell_agua2, cell_al2, cell_agua3])"
      ],
      "execution_count": 0,
      "outputs": []
    },
    {
      "cell_type": "markdown",
      "metadata": {
        "id": "yrd5r-T7lKEI",
        "colab_type": "text"
      },
      "source": [
        "El universo que corresponde a la placa se extiende hasta el infinito, lo que nos permite definir la separación entre placas (el *pitch*) en forma independiente:"
      ]
    },
    {
      "cell_type": "code",
      "metadata": {
        "id": "RML4sMSceul7",
        "colab_type": "code",
        "colab": {}
      },
      "source": [
        "uni_placa.plot(width=(8,1), color_by='material', colors={mat_meat:\"Red\", mat_al:\"Gray\", mat_agua:\"Blue\"})"
      ],
      "execution_count": 0,
      "outputs": []
    },
    {
      "cell_type": "markdown",
      "metadata": {
        "id": "tRCl7ETykYC_",
        "colab_type": "text"
      },
      "source": [
        "Vamos a definir también un universo con una celda uniforme de agua, que nos va a servir para definir el exterior del elemento combustible:"
      ]
    },
    {
      "cell_type": "code",
      "metadata": {
        "id": "-qTxiz1zjWWl",
        "colab_type": "code",
        "colab": {}
      },
      "source": [
        "cell_agua = openmc.Cell(fill=mat_agua)\n",
        "uni_agua = openmc.Universe(cells=[cell_agua])"
      ],
      "execution_count": 0,
      "outputs": []
    },
    {
      "cell_type": "markdown",
      "metadata": {
        "id": "PR6Eti_nlZCA",
        "colab_type": "text"
      },
      "source": [
        "El elemento combustible es entonces un arreglo de 23 placas combustibles, rodeadas de agua:"
      ]
    },
    {
      "cell_type": "code",
      "metadata": {
        "id": "tg_XmlxnfIK3",
        "colab_type": "code",
        "colab": {}
      },
      "source": [
        "lat1 = openmc.RectLattice()\n",
        "lat1.lower_left = (-7.6/2.0,-8.05/2.0)\n",
        "lat1.pitch = (7.6, 8.05/23.0)\n",
        "lat1.outer = uni_agua\n",
        "lat1.universes = [[uni_placa] for i in range(23)]\n",
        "\n",
        "cell_nfe = openmc.Cell(fill=lat1)\n",
        "uni_nfe = openmc.Universe(cells=[cell_nfe])\n",
        "uni_nfe.plot(width=(10,10), color_by='material', colors={mat_meat:\"Red\", mat_al:\"Gray\", mat_agua:\"Blue\"})"
      ],
      "execution_count": 0,
      "outputs": []
    },
    {
      "cell_type": "markdown",
      "metadata": {
        "id": "ftl0krWWlh2F",
        "colab_type": "text"
      },
      "source": [
        "Para realizar un cálculo de celda, vamos a aplicar este universo a una celda con condiciones de contorno reflejadas en $x$ y en $y$:"
      ]
    },
    {
      "cell_type": "code",
      "metadata": {
        "id": "4EjDCpfwhmZ2",
        "colab_type": "code",
        "colab": {}
      },
      "source": [
        "pl11 = openmc.XPlane(x0=-7.7/2.0, boundary_type=\"reflective\")\n",
        "pl12 = openmc.XPlane(x0=+7.7/2.0, boundary_type=\"reflective\")\n",
        "pl21 = openmc.YPlane(y0=-8.1/2.0, boundary_type=\"reflective\")\n",
        "pl22 = openmc.YPlane(y0=+8.1/2.0, boundary_type=\"reflective\")\n",
        "\n",
        "cell = openmc.Cell(region=+pl11&-pl12&+pl21&-pl22, fill=uni_nfe)\n",
        "\n",
        "uni_root = openmc.Universe(cells=[cell])\n",
        "\n",
        "geom = openmc.Geometry(uni_root)\n",
        "geom.export_to_xml()"
      ],
      "execution_count": 0,
      "outputs": []
    },
    {
      "cell_type": "markdown",
      "metadata": {
        "id": "4Jvmc9wNlvYA",
        "colab_type": "text"
      },
      "source": [
        "Llamamos al graficador:"
      ]
    },
    {
      "cell_type": "code",
      "metadata": {
        "id": "3T0FtTpu2ZN8",
        "colab_type": "code",
        "colab": {}
      },
      "source": [
        "plot2D = openmc.Plot()\n",
        "plot2D.origin = (0, 0, 0)\n",
        "plot2D.width = (7.7,8.1)\n",
        "plot2D.pixels = (500, 500)\n",
        "plot2D.id = 1\n",
        "plot2D.colors={mat_meat:\"Red\", mat_al:\"Gray\", mat_agua:\"Blue\", mat_graphite:\"Black\"}\n",
        "plot2D.color_by='material'\n",
        "openmc.plot_inline(plots=[plot2D])"
      ],
      "execution_count": 0,
      "outputs": []
    },
    {
      "cell_type": "markdown",
      "metadata": {
        "id": "L-ETy-c-lytY",
        "colab_type": "text"
      },
      "source": [
        "Y corremos el cálculo de celda:"
      ]
    },
    {
      "cell_type": "code",
      "metadata": {
        "id": "Yw7GJZcZiga4",
        "colab_type": "code",
        "colab": {}
      },
      "source": [
        "run = openmc.Settings()\n",
        "run.run_mode = \"eigenvalue\"\n",
        "run.particles = 1000\n",
        "run.batches = 110\n",
        "run.inactive = 10\n",
        "run.export_to_xml()"
      ],
      "execution_count": 0,
      "outputs": []
    },
    {
      "cell_type": "code",
      "metadata": {
        "id": "a1FJRVJ6ip7u",
        "colab_type": "code",
        "colab": {}
      },
      "source": [
        "!rm summary.h5\n",
        "!rm statepoint.*.h5\n",
        "openmc.run()"
      ],
      "execution_count": 0,
      "outputs": []
    },
    {
      "cell_type": "code",
      "metadata": {
        "id": "e4RrS8xDsRVN",
        "colab_type": "code",
        "colab": {}
      },
      "source": [
        "estado = openmc.StatePoint(\"statepoint.110.h5\")\n",
        "keff = estado.k_generation\n",
        "plot(keff)"
      ],
      "execution_count": 0,
      "outputs": []
    },
    {
      "cell_type": "code",
      "metadata": {
        "id": "0-jNkbPqssA6",
        "colab_type": "code",
        "colab": {}
      },
      "source": [
        "a = hist(keff,bins=20)"
      ],
      "execution_count": 0,
      "outputs": []
    },
    {
      "cell_type": "code",
      "metadata": {
        "id": "muGlWlyIi8YK",
        "colab_type": "code",
        "colab": {}
      },
      "source": [
        ""
      ],
      "execution_count": 0,
      "outputs": []
    }
  ]
}