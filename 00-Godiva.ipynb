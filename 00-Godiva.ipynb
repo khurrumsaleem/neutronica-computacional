{
  "nbformat": 4,
  "nbformat_minor": 0,
  "metadata": {
    "kernelspec": {
      "display_name": "Python 3",
      "language": "python",
      "name": "python3"
    },
    "language_info": {
      "codemirror_mode": {
        "name": "ipython",
        "version": 3
      },
      "file_extension": ".py",
      "mimetype": "text/x-python",
      "name": "python",
      "nbconvert_exporter": "python",
      "pygments_lexer": "ipython3",
      "version": "3.6.5"
    },
    "colab": {
      "name": "Godiva",
      "version": "0.3.2",
      "provenance": [],
      "collapsed_sections": [
        "4x3hJX0SPOz2"
      ]
    }
  },
  "cells": [
    {
      "cell_type": "markdown",
      "metadata": {
        "id": "4x3hJX0SPOz2",
        "colab_type": "text"
      },
      "source": [
        "## Instalación de OpenMC"
      ]
    },
    {
      "cell_type": "code",
      "metadata": {
        "id": "IatJFr3fPNkz",
        "colab_type": "code",
        "colab": {}
      },
      "source": [
        "#\n",
        "# Executing this cell you will install OpenMC and the nuclear\n",
        "# data libraries in this instance of the Google Colaboratory virtual machine.\n",
        "# The process takes about 2 minutes.\n",
        "#\n",
        "\n",
        "def install_openmc():\n",
        "  #\n",
        "  # Clone source code from Github, make and install\n",
        "  #\n",
        "  \n",
        "  import os\n",
        "  \n",
        "  if not os.path.isdir('/content'):\n",
        "    print(\"Esta función instala OpenMC en una instancia de Google Colaboratory.\")\n",
        "    print(\"Para instalar localmente siga las instrucciones de la documentacion:\")\n",
        "    print(\"http://docs.openmc.org/en/stable/quickinstall.html\")\n",
        "    return\n",
        "  \n",
        "  %cd -q /content\n",
        "  print(\"Obtaining OpenMC source code from Github...\")\n",
        "  !git  --no-pager clone https://github.com/mit-crpg/openmc.git &> /dev/null\n",
        "  %cd -q openmc\n",
        "  !git --no-pager checkout master &> /dev/null\n",
        "  !mkdir build\n",
        "  %cd -q build\n",
        "  print(\"Running cmake...\")\n",
        "  !cmake ../ -DPYTHON_EXECUTABLE=/usr/bin/python3 -DCMAKE_INSTALL_PREFIX=/usr/local &> /dev/null\n",
        "  print(\"Running make...\")\n",
        "  !make -j &> /dev/null\n",
        "  print(\"Running make install...\")\n",
        "  !make install &> /dev/null\n",
        "  import sys\n",
        "  sys.path.append('/usr/local/lib/python3.6/dist-packages/openmc-0.10.0-py3.6-linux-x86_64.egg')\n",
        "  sys.path.append('/usr/local/lib/python3.6/site-packages/')\n",
        "  %cd -q /content\n",
        "\n",
        "def install_data_from_onedrive():\n",
        "  #\n",
        "  # Download preprocessed HDF5 files from OneDrive (faster).\n",
        "  #\n",
        "  import os\n",
        "  \n",
        "  if not os.path.isdir('/content'):\n",
        "    print(\"Esta función instala los datos nucleares de OpenMC en una instancia de Google Colaboratory.\")\n",
        "    print(\"Para instalar localmente siga las instrucciones de la documentacion:\")\n",
        "    print(\"http://docs.openmc.org/en/stable/quickinstall.html\")\n",
        "    return\n",
        "  %cd -q /content\n",
        "  print(\"Obtaining HDF5 files from OneDrive...\")\n",
        "  !wget -O nndc_hdf5.tar.gz \"https://onedrive.live.com/download?cid=22422A8EEA2A85B9&resid=22422A8EEA2A85B9%21105&authkey=AHL6xwYFXDwEzkk\" &> /dev/null\n",
        "  print(\"Uncompressing...\")\n",
        "  !tar xzvf nndc_hdf5.tar.gz &> /dev/null\n",
        "    \n",
        "from time import time\n",
        "t1 = time()\n",
        "install_openmc()\n",
        "install_data_from_onedrive()\n",
        "t2 = time()\n",
        "print(\"Installed OpenMC in {:.2f} minutes\".format((t2-t1)/60.0))\n"
      ],
      "execution_count": 0,
      "outputs": []
    },
    {
      "cell_type": "markdown",
      "metadata": {
        "id": "7ZTpRRpRPG1U",
        "colab_type": "text"
      },
      "source": [
        "# Ejemplo: benchmark Godiva."
      ]
    },
    {
      "cell_type": "markdown",
      "metadata": {
        "id": "sDM-e2nUPG1V",
        "colab_type": "text"
      },
      "source": [
        "Realizaremos la simulación del reactor [Godiva](https://en.wikipedia.org/wiki/Godiva_device). Los detalles de este reactor pueden encontrarse en el benchmark HEU-MET-FAST-001 de [ICSBEP](https://www.oecd-nea.org/science/wpncs/icsbep/) y también en el informe \"S. Frankle. A Suite of Criticality Benchmarks for Validating Nuclear Data. LA-13594 (1999)\", [disponible en la base de datos INIS de IAEA](https://inis.iaea.org/search/search.aspx?orig_q=RN:32027510). \n",
        "\n",
        " <p align=\"center\">\n",
        "<img src=\"https://upload.wikimedia.org/wikipedia/commons/2/2a/Godiva-before-scrammed.jpg\">\n",
        "</p>\n",
        "\n",
        "\n",
        "Godiva es una esfera de $8.7407$ cm de radio de uranio metálico de densidad $18.74$ gm/cm$^3$, $94.73$ % en peso de $^{235}$U, $5.27$ % en peso de $^{238}$U, y $1.02$ % en peso de $^{234}$U."
      ]
    },
    {
      "cell_type": "code",
      "metadata": {
        "id": "x0pWcw42PG1X",
        "colab_type": "code",
        "outputId": "87846f7f-5154-4d13-ab93-486bf492c118",
        "colab": {
          "base_uri": "https://localhost:8080/",
          "height": 1000
        }
      },
      "source": [
        "import openmc\n",
        "\n",
        "umet = openmc.Material()\n",
        "umet.add_nuclide(\"U235\", 0.9473, 'wo')\n",
        "umet.add_nuclide(\"U238\", 0.0527, 'wo')\n",
        "umet.add_nuclide(\"U234\", 0.0102, 'wo')\n",
        "umet.set_density(\"g/cm3\", 18.74)\n",
        "\n",
        "mats = openmc.Materials([umet])\n",
        "mats.cross_sections = \"/content/nndc_hdf5/cross_sections.xml\"\n",
        "mats.export_to_xml()\n",
        "\n",
        "esfera = openmc.Sphere(R=8.74, boundary_type=\"vacuum\")\n",
        "godiva = openmc.Cell(region = -esfera, fill=umet)\n",
        "simulacion = openmc.Universe(cells=[godiva])\n",
        "\n",
        "geom = openmc.Geometry(simulacion)\n",
        "geom.export_to_xml()\n",
        "\n",
        "run = openmc.Settings()\n",
        "run.run_mode = \"eigenvalue\"\n",
        "run.particles = 10000\n",
        "run.batches = 110\n",
        "run.inactive = 10\n",
        "run.export_to_xml()\n",
        "\n",
        "!rm statepoint*.h5\n",
        "!rm summary.h5\n",
        "openmc.run()"
      ],
      "execution_count": 0,
      "outputs": [
        {
          "output_type": "stream",
          "text": [
            "\n",
            "                               %%%%%%%%%%%%%%%\n",
            "                          %%%%%%%%%%%%%%%%%%%%%%%%\n",
            "                       %%%%%%%%%%%%%%%%%%%%%%%%%%%%%%\n",
            "                     %%%%%%%%%%%%%%%%%%%%%%%%%%%%%%%%%%\n",
            "                   %%%%%%%%%%%%%%%%%%%%%%%%%%%%%%%%%%%%%%\n",
            "                  %%%%%%%%%%%%%%%%%%%%%%%%%%%%%%%%%%%%%%%%\n",
            "                                   %%%%%%%%%%%%%%%%%%%%%%%%\n",
            "                                    %%%%%%%%%%%%%%%%%%%%%%%%\n",
            "                ###############      %%%%%%%%%%%%%%%%%%%%%%%%\n",
            "               ##################     %%%%%%%%%%%%%%%%%%%%%%%\n",
            "               ###################     %%%%%%%%%%%%%%%%%%%%%%%\n",
            "               ####################     %%%%%%%%%%%%%%%%%%%%%%\n",
            "               #####################     %%%%%%%%%%%%%%%%%%%%%\n",
            "               ######################     %%%%%%%%%%%%%%%%%%%%\n",
            "               #######################     %%%%%%%%%%%%%%%%%%\n",
            "                #######################     %%%%%%%%%%%%%%%%%\n",
            "                ######################     %%%%%%%%%%%%%%%%%\n",
            "                 ####################     %%%%%%%%%%%%%%%%%\n",
            "                   #################     %%%%%%%%%%%%%%%%%\n",
            "                    ###############     %%%%%%%%%%%%%%%%\n",
            "                      ############     %%%%%%%%%%%%%%%\n",
            "                         ########     %%%%%%%%%%%%%%\n",
            "                                     %%%%%%%%%%%\n",
            "\n",
            "                   | The OpenMC Monte Carlo Code\n",
            "         Copyright | 2011-2018 Massachusetts Institute of Technology\n",
            "           License | http://openmc.readthedocs.io/en/latest/license.html\n",
            "           Version | 0.10.0\n",
            "          Git SHA1 | 455efffdbf6eacbc0b3b93ad61cfeb24490897d8\n",
            "         Date/Time | 2019-07-25 15:56:04\n",
            "    OpenMP Threads | 2\n",
            "\n",
            " Reading settings XML file...\n",
            " Reading cross sections XML file...\n",
            " Reading materials XML file...\n",
            " Reading geometry XML file...\n",
            " Building neighboring cells lists for each surface...\n",
            " Reading U235 from /content/nndc_hdf5/U235.h5\n",
            " Reading U238 from /content/nndc_hdf5/U238.h5\n",
            " Reading U234 from /content/nndc_hdf5/U234.h5\n",
            " Maximum neutron transport energy: 2.00000E+07 eV for U235\n",
            " Writing summary.h5 file...\n",
            " Initializing source particles...\n",
            "\n",
            " ====================>     K EIGENVALUE SIMULATION     <====================\n",
            "\n",
            "  Bat./Gen.      k            Average k         \n",
            "  =========   ========   ====================   \n",
            "        1/1    1.34507                       \n",
            "        2/1    1.15804                       \n",
            "        3/1    1.06264                       \n",
            "        4/1    1.03493                       \n",
            "        5/1    1.02419                       \n",
            "        6/1    1.01023                       \n",
            "        7/1    1.00572                       \n",
            "        8/1    0.99023                       \n",
            "        9/1    0.98896                       \n",
            "       10/1    1.00114                       \n",
            "       11/1    0.99771                       \n",
            "       12/1    1.00346    1.00058 +/- 0.00288\n",
            "       13/1    0.99742    0.99953 +/- 0.00197\n",
            "       14/1    0.99768    0.99907 +/- 0.00147\n",
            "       15/1    0.99863    0.99898 +/- 0.00114\n",
            "       16/1    0.98375    0.99644 +/- 0.00270\n",
            "       17/1    1.01690    0.99936 +/- 0.00371\n",
            "       18/1    1.02803    1.00295 +/- 0.00481\n",
            "       19/1    1.00030    1.00265 +/- 0.00425\n",
            "       20/1    1.01242    1.00363 +/- 0.00393\n",
            "       21/1    0.99448    1.00280 +/- 0.00365\n",
            "       22/1    0.99304    1.00199 +/- 0.00343\n",
            "       23/1    0.99102    1.00114 +/- 0.00327\n",
            "       24/1    0.99493    1.00070 +/- 0.00306\n",
            "       25/1    1.00905    1.00125 +/- 0.00290\n",
            "       26/1    1.00357    1.00140 +/- 0.00272\n",
            "       27/1    1.00703    1.00173 +/- 0.00257\n",
            "       28/1    1.00084    1.00168 +/- 0.00243\n",
            "       29/1    1.00458    1.00183 +/- 0.00230\n",
            "       30/1    0.99937    1.00171 +/- 0.00218\n",
            "       31/1    0.99828    1.00155 +/- 0.00208\n",
            "       32/1    1.00804    1.00184 +/- 0.00201\n",
            "       33/1    0.99480    1.00154 +/- 0.00194\n",
            "       34/1    1.00485    1.00167 +/- 0.00187\n",
            "       35/1    0.99129    1.00126 +/- 0.00184\n",
            "       36/1    0.99419    1.00099 +/- 0.00179\n",
            "       37/1    0.99293    1.00069 +/- 0.00174\n",
            "       38/1    1.00243    1.00075 +/- 0.00168\n",
            "       39/1    0.99508    1.00055 +/- 0.00164\n",
            "       40/1    0.98780    1.00013 +/- 0.00164\n",
            "       41/1    0.97851    0.99943 +/- 0.00173\n",
            "       42/1    1.00367    0.99956 +/- 0.00168\n",
            "       43/1    0.99973    0.99957 +/- 0.00163\n",
            "       44/1    1.02010    1.00017 +/- 0.00169\n",
            "       45/1    0.99747    1.00010 +/- 0.00164\n",
            "       46/1    0.98673    0.99972 +/- 0.00164\n",
            "       47/1    1.01014    1.00001 +/- 0.00162\n",
            "       48/1    1.00330    1.00009 +/- 0.00158\n",
            "       49/1    1.00637    1.00025 +/- 0.00155\n",
            "       50/1    0.99570    1.00014 +/- 0.00151\n",
            "       51/1    1.01667    1.00054 +/- 0.00153\n",
            "       52/1    1.00615    1.00068 +/- 0.00150\n",
            "       53/1    0.99965    1.00065 +/- 0.00146\n",
            "       54/1    0.99454    1.00051 +/- 0.00144\n",
            "       55/1    1.01277    1.00079 +/- 0.00143\n",
            "       56/1    1.00264    1.00083 +/- 0.00140\n",
            "       57/1    0.99655    1.00074 +/- 0.00137\n",
            "       58/1    0.99158    1.00054 +/- 0.00136\n",
            "       59/1    0.99355    1.00040 +/- 0.00134\n",
            "       60/1    1.00169    1.00043 +/- 0.00131\n",
            "       61/1    1.00165    1.00045 +/- 0.00128\n",
            "       62/1    0.99548    1.00036 +/- 0.00126\n",
            "       63/1    0.98849    1.00013 +/- 0.00126\n",
            "       64/1    0.99341    1.00001 +/- 0.00124\n",
            "       65/1    1.00728    1.00014 +/- 0.00123\n",
            "       66/1    0.98586    0.99989 +/- 0.00123\n",
            "       67/1    1.00130    0.99991 +/- 0.00121\n",
            "       68/1    0.99066    0.99975 +/- 0.00120\n",
            "       69/1    0.98908    0.99957 +/- 0.00119\n",
            "       70/1    1.00515    0.99966 +/- 0.00117\n",
            "       71/1    0.99426    0.99957 +/- 0.00116\n",
            "       72/1    0.99851    0.99956 +/- 0.00114\n",
            "       73/1    0.99706    0.99952 +/- 0.00112\n",
            "       74/1    0.99700    0.99948 +/- 0.00111\n",
            "       75/1    1.02953    0.99994 +/- 0.00118\n",
            "       76/1    1.00801    1.00006 +/- 0.00117\n",
            "       77/1    0.99137    0.99993 +/- 0.00116\n",
            "       78/1    1.00339    0.99998 +/- 0.00114\n",
            "       79/1    1.00177    1.00001 +/- 0.00113\n",
            "       80/1    1.00707    1.00011 +/- 0.00112\n",
            "       81/1    0.99500    1.00004 +/- 0.00110\n",
            "       82/1    1.00581    1.00012 +/- 0.00109\n",
            "       83/1    1.00248    1.00015 +/- 0.00108\n",
            "       84/1    0.99687    1.00011 +/- 0.00106\n",
            "       85/1    0.99779    1.00008 +/- 0.00105\n",
            "       86/1    0.99561    1.00002 +/- 0.00104\n",
            "       87/1    0.99045    0.99989 +/- 0.00103\n",
            "       88/1    1.01384    1.00007 +/- 0.00103\n",
            "       89/1    1.00163    1.00009 +/- 0.00102\n",
            "       90/1    0.99851    1.00007 +/- 0.00101\n",
            "       91/1    1.00222    1.00010 +/- 0.00099\n",
            "       92/1    0.99598    1.00005 +/- 0.00098\n",
            "       93/1    0.99877    1.00003 +/- 0.00097\n",
            "       94/1    0.99637    0.99999 +/- 0.00096\n",
            "       95/1    0.99264    0.99990 +/- 0.00095\n",
            "       96/1    0.98645    0.99975 +/- 0.00096\n",
            "       97/1    1.01379    0.99991 +/- 0.00096\n",
            "       98/1    1.01865    1.00012 +/- 0.00097\n",
            "       99/1    1.00764    1.00020 +/- 0.00096\n",
            "      100/1    1.02300    1.00046 +/- 0.00099\n",
            "      101/1    1.01066    1.00057 +/- 0.00098\n",
            "      102/1    0.99635    1.00052 +/- 0.00097\n",
            "      103/1    1.00169    1.00054 +/- 0.00096\n",
            "      104/1    1.00581    1.00059 +/- 0.00095\n",
            "      105/1    1.00616    1.00065 +/- 0.00094\n",
            "      106/1    1.00969    1.00075 +/- 0.00094\n",
            "      107/1    1.00227    1.00076 +/- 0.00093\n",
            "      108/1    1.01493    1.00091 +/- 0.00093\n",
            "      109/1    0.98667    1.00076 +/- 0.00093\n",
            "      110/1    0.99515    1.00071 +/- 0.00093\n",
            " Creating state point statepoint.110.h5...\n",
            "\n",
            " =======================>     TIMING STATISTICS     <=======================\n",
            "\n",
            " Total time for initialization     =  1.8327E-01 seconds\n",
            "   Reading cross sections          =  1.5266E-01 seconds\n",
            " Total time in simulation          =  4.3532E+00 seconds\n",
            "   Time in transport only          =  4.2522E+00 seconds\n",
            "   Time in inactive batches        =  3.9413E-01 seconds\n",
            "   Time in active batches          =  3.9591E+00 seconds\n",
            "   Time synchronizing fission bank =  4.5787E-02 seconds\n",
            "     Sampling source sites         =  3.1591E-02 seconds\n",
            "     SEND/RECV source sites        =  1.3946E-02 seconds\n",
            "   Time accumulating tallies       =  1.2344E-04 seconds\n",
            " Total time for finalization       =  1.0526E-05 seconds\n",
            " Total time elapsed                =  4.5843E+00 seconds\n",
            " Calculation Rate (inactive)       =  2.53722E+05 neutrons/second\n",
            " Calculation Rate (active)         =  2.52582E+05 neutrons/second\n",
            "\n",
            " ============================>     RESULTS     <============================\n",
            "\n",
            " k-effective (Collision)     =  1.00080 +/-  0.00098\n",
            " k-effective (Track-length)  =  1.00071 +/-  0.00093\n",
            " k-effective (Absorption)    =  1.00222 +/-  0.00113\n",
            " Combined k-effective        =  1.00137 +/-  0.00067\n",
            " Leakage Fraction            =  0.57186 +/-  0.00049\n",
            "\n"
          ],
          "name": "stdout"
        },
        {
          "output_type": "execute_result",
          "data": {
            "text/plain": [
              "0"
            ]
          },
          "metadata": {
            "tags": []
          },
          "execution_count": 1
        }
      ]
    },
    {
      "cell_type": "code",
      "metadata": {
        "id": "3d8jOVL3PG1u",
        "colab_type": "code",
        "outputId": "5425ab32-221e-4a96-e8f7-d7e8d635d136",
        "colab": {
          "base_uri": "https://localhost:8080/",
          "height": 301
        }
      },
      "source": [
        "% pylab inline\n",
        "estado = openmc.StatePoint(\"statepoint.110.h5\")\n",
        "keff = estado.k_generation\n",
        "a = plot(keff)\n",
        "a = xlabel(\"Nro. de generación\")\n",
        "a = ylabel(\"Estimador de keff\")"
      ],
      "execution_count": 0,
      "outputs": [
        {
          "output_type": "stream",
          "text": [
            "Populating the interactive namespace from numpy and matplotlib\n"
          ],
          "name": "stdout"
        },
        {
          "output_type": "display_data",
          "data": {
            "image/png": "[encoded data removed]",
            "text/plain": [
              "<Figure size 432x288 with 1 Axes>"
            ]
          },
          "metadata": {
            "tags": []
          }
        }
      ]
    },
    {
      "cell_type": "code",
      "metadata": {
        "id": "Fg3VcvTvyxes",
        "colab_type": "code",
        "colab": {}
      },
      "source": [
        ""
      ],
      "execution_count": 0,
      "outputs": []
    }
  ]
}