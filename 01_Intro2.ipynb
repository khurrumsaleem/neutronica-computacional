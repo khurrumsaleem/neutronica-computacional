{
  "nbformat": 4,
  "nbformat_minor": 0,
  "metadata": {
    "kernelspec": {
      "display_name": "Python 3",
      "language": "python",
      "name": "python3"
    },
    "language_info": {
      "codemirror_mode": {
        "name": "ipython",
        "version": 3
      },
      "file_extension": ".py",
      "mimetype": "text/x-python",
      "name": "python",
      "nbconvert_exporter": "python",
      "pygments_lexer": "ipython3",
      "version": "3.6.7"
    },
    "colab": {
      "name": "Intro2.ipynb",
      "version": "0.3.2",
      "provenance": []
    }
  },
  "cells": [
    {
      "cell_type": "markdown",
      "metadata": {
        "id": "yko7WTNFbzJ9",
        "colab_type": "text"
      },
      "source": [
        "## Containers"
      ]
    },
    {
      "cell_type": "markdown",
      "metadata": {
        "id": "MemKtmmMbzKB",
        "colab_type": "text"
      },
      "source": [
        "Otra de las grandes ventajas de Python es que posee en su implementación un conjunto de tipos de datos complejos, que en otros lenguajes tienen que ser implementados por el usuario. Estos tipos de datos (denominado *containers* porque contienen otros tipos de datos) son:\n",
        "\n",
        "* lists (listas)\n",
        "* tuples (secuencias ordenadas)\n",
        "* sets (conjuntos)\n",
        "* dictionaries (listas indexadas por otras variables)\n",
        "\n",
        "En Python hay un concepto importante: la mutabilidad (esto es, si el estado de una variable puede modificarse una vez creado). Desde el punto de vista práctico, que una variable no sea mutable implica que pueda ser utilizado como índice para otras variables."
      ]
    },
    {
      "cell_type": "markdown",
      "metadata": {
        "id": "5OFKnrB8bzKD",
        "colab_type": "text"
      },
      "source": [
        "Los tipos de datos fundamentales que vimos previamente son inmutables. Esto tiene sentido para los números (1 siempre debería valer 1, ¿no?) pero otros tipos de datos como los strings también lo son. Para verificar esto podemos intentar utilizar el operador indexación para modificar un elemento:"
      ]
    },
    {
      "cell_type": "code",
      "metadata": {
        "id": "I0m_mHPxbzKG",
        "colab_type": "code",
        "colab": {}
      },
      "source": [
        "x = \"Hola\"\n",
        "print(x[3])\n",
        "x[3] = 'b'"
      ],
      "execution_count": 0,
      "outputs": []
    },
    {
      "cell_type": "markdown",
      "metadata": {
        "id": "5hCcEEfNbzKS",
        "colab_type": "text"
      },
      "source": [
        "Algunos de los containers son mutables (lists, sets, dictionaries) mientras que otros no lo son (tuples)."
      ]
    },
    {
      "cell_type": "markdown",
      "metadata": {
        "id": "qUn5sAY4bzKT",
        "colab_type": "text"
      },
      "source": [
        "### Listas"
      ]
    },
    {
      "cell_type": "markdown",
      "metadata": {
        "id": "mvjSewJcbzKU",
        "colab_type": "text"
      },
      "source": [
        "Las listas son un container que contiene otros tipos de datos de Python en forma ordenada. Las listas son mutables, por lo que tienen métodos para agregar y eliminar elementos.\n",
        "\n",
        "La sintaxis para expresar listas son valores separados por coma, entre corchetes. Por ejemplo:"
      ]
    },
    {
      "cell_type": "code",
      "metadata": {
        "id": "g2DXWCB1bzKW",
        "colab_type": "code",
        "colab": {}
      },
      "source": [
        "a = [1,2,3]\n",
        "b = [3, -5, \"hola\"]\n",
        "c = [[1,0], [0,1]]"
      ],
      "execution_count": 0,
      "outputs": []
    },
    {
      "cell_type": "markdown",
      "metadata": {
        "id": "1-xDPYR5bzKa",
        "colab_type": "text"
      },
      "source": [
        "(noten que, a diferencia de otros lenguajes, en Python una lista puede incluir elementos de distinto tipo)\n",
        "\n",
        "Para concatenar elementos se utiliza el operador `+`:"
      ]
    },
    {
      "cell_type": "code",
      "metadata": {
        "id": "IrTNN6JebzKa",
        "colab_type": "code",
        "colab": {}
      },
      "source": [
        "[1,2]+[3,4,5]"
      ],
      "execution_count": 0,
      "outputs": []
    },
    {
      "cell_type": "markdown",
      "metadata": {
        "id": "u6nGi9RPbzKg",
        "colab_type": "text"
      },
      "source": [
        "Otra forma es utilizando el método `.append()`, que permite agregar un elemento al final de una lista:"
      ]
    },
    {
      "cell_type": "code",
      "metadata": {
        "id": "d_Ek-sBhbzKh",
        "colab_type": "code",
        "colab": {}
      },
      "source": [
        "a = [1,2,3]\n",
        "a.append(4)\n",
        "print(a)"
      ],
      "execution_count": 0,
      "outputs": []
    },
    {
      "cell_type": "markdown",
      "metadata": {
        "id": "ghpoZpSObzKk",
        "colab_type": "text"
      },
      "source": [
        "Para agregar más de un elemento se utiliza el método `.extend()`o el operador `+=`:"
      ]
    },
    {
      "cell_type": "code",
      "metadata": {
        "id": "5b9sbs_-bzKk",
        "colab_type": "code",
        "colab": {}
      },
      "source": [
        "a = [1,2,3]\n",
        "a += [4,5]\n",
        "a.extend([6,7,8])\n",
        "print(a)"
      ],
      "execution_count": 0,
      "outputs": []
    },
    {
      "cell_type": "markdown",
      "metadata": {
        "id": "lvlabfwBbzKp",
        "colab_type": "text"
      },
      "source": [
        "Los elementos de una lista pueden indexarse como los caracteres de un string utilizando el operador `[]`, comenzando de `0` y utilizando `:`para indicar rangos:"
      ]
    },
    {
      "cell_type": "code",
      "metadata": {
        "id": "boEegq_lbzKq",
        "colab_type": "code",
        "colab": {}
      },
      "source": [
        "a = [1,2,3,4,5,6,7,8,9,10]\n",
        "print(len(a))\n",
        "print(a[2:5])\n",
        "print(a[:5])\n",
        "print(a[::2])"
      ],
      "execution_count": 0,
      "outputs": []
    },
    {
      "cell_type": "markdown",
      "metadata": {
        "id": "TTX_iswMbzKt",
        "colab_type": "text"
      },
      "source": [
        "Un detalle importante de las listas en Python es que no son contenedores de valores, sino de punteros a los valores. Si uno de los elemenos de la lista es mutable, el contenido en la lista también va a cambiar:"
      ]
    },
    {
      "cell_type": "code",
      "metadata": {
        "id": "50MclT_kbzKu",
        "colab_type": "code",
        "colab": {}
      },
      "source": [
        "a = [1,2]\n",
        "b = [\"hola\"]\n",
        "a.append(b) # Agrego la lista b como elemento de la lista a\n",
        "print(a)\n",
        "b[0] = \"chau\" # Modifico el elemento de la lista b\n",
        "print(a) # y se modifica en la lista a"
      ],
      "execution_count": 0,
      "outputs": []
    },
    {
      "cell_type": "markdown",
      "metadata": {
        "id": "fH0KQUnHbzKx",
        "colab_type": "text"
      },
      "source": [
        "Esto tiene un efecto importante, y es que el operador asignación no genera una copia de la lista, sino un puntero a la misma lista:"
      ]
    },
    {
      "cell_type": "code",
      "metadata": {
        "id": "WTU2WLpNbzKy",
        "colab_type": "code",
        "colab": {}
      },
      "source": [
        "a = [1,2,3,4]\n",
        "b = a\n",
        "print(a)\n",
        "print(b)\n",
        "del a[3]\n",
        "print(a)\n",
        "print(b)"
      ],
      "execution_count": 0,
      "outputs": []
    },
    {
      "cell_type": "markdown",
      "metadata": {
        "id": "Nluk_0UYbzK1",
        "colab_type": "text"
      },
      "source": [
        "Para copiar una lista se puede utilizar un *slice* `[:]` o el método `.copy()`:"
      ]
    },
    {
      "cell_type": "code",
      "metadata": {
        "id": "PFo-NAONbzK2",
        "colab_type": "code",
        "colab": {}
      },
      "source": [
        "a = [1,2,3,4]\n",
        "b = a[:]\n",
        "print(a)\n",
        "print(b)\n",
        "del a[3]\n",
        "print(a)\n",
        "print(b)"
      ],
      "execution_count": 0,
      "outputs": []
    },
    {
      "cell_type": "code",
      "metadata": {
        "id": "0pVJAplvbzK8",
        "colab_type": "code",
        "colab": {}
      },
      "source": [
        "a = [1,2,3,4]\n",
        "b = a.copy()\n",
        "print(a)\n",
        "print(b)\n",
        "del a[3]\n",
        "print(a)\n",
        "print(b)"
      ],
      "execution_count": 0,
      "outputs": []
    },
    {
      "cell_type": "markdown",
      "metadata": {
        "id": "gAFOMkcdbzLA",
        "colab_type": "text"
      },
      "source": [
        "Al hacer esto la nueva lista va a contener nuevos punteros a los mismos elementos. Si queremos también copiar los elementos, debemos utilizar la función `deepcopy()` del módulo `copy`:"
      ]
    },
    {
      "cell_type": "code",
      "metadata": {
        "id": "67vVY7robzLA",
        "colab_type": "code",
        "colab": {}
      },
      "source": [
        "# importo el módulo copy\n",
        "import copy\n",
        "l = [1,2]\n",
        "a = [l,3,4,5]\n",
        "\n",
        "# b es una copia de los punteros de a\n",
        "b = a.copy()\n",
        "\n",
        "# c es una copia de punteros a copias de los elementos de a\n",
        "c = copy.deepcopy(a)  \n",
        "\n",
        "print(a)\n",
        "print(b)\n",
        "print(c)\n",
        "print(\"---\")\n",
        "del a[3] # elimino un elemento de a\n",
        "print(a) # desaparece en a\n",
        "print(b) # no desaparece en b\n",
        "print(c) # no desaparece en c\n",
        "print(\"---\")\n",
        "l[0] = 'hola' # modifico un elemento de l\n",
        "print(a) # se modifica en a\n",
        "print(b) # se modifica en b\n",
        "print(c) # no se modifica en c\n"
      ],
      "execution_count": 0,
      "outputs": []
    },
    {
      "cell_type": "markdown",
      "metadata": {
        "id": "t4BcZ3CobzLD",
        "colab_type": "text"
      },
      "source": [
        "### Tuplas"
      ]
    },
    {
      "cell_type": "markdown",
      "metadata": {
        "id": "rQU3jAFYbzLF",
        "colab_type": "text"
      },
      "source": [
        "Las tuplas son listas inmutables, esto es, listas en las que sus elementos no se pueden cambiar. Salvo esto, son muy similares a las listas. La sintaxis es un conjunto de valores separados por coma, entre paréntesis:"
      ]
    },
    {
      "cell_type": "code",
      "metadata": {
        "id": "d45Zv7mpbzLG",
        "colab_type": "code",
        "colab": {}
      },
      "source": [
        "a = (1,2,3)"
      ],
      "execution_count": 0,
      "outputs": []
    },
    {
      "cell_type": "markdown",
      "metadata": {
        "id": "0MjvDiS7bzLK",
        "colab_type": "text"
      },
      "source": [
        "Como dijimos, son inmutables:"
      ]
    },
    {
      "cell_type": "code",
      "metadata": {
        "id": "TN7FhjA9bzLM",
        "colab_type": "code",
        "colab": {}
      },
      "source": [
        "a = (1,2,3)\n",
        "a[2] = 3"
      ],
      "execution_count": 0,
      "outputs": []
    },
    {
      "cell_type": "markdown",
      "metadata": {
        "id": "WuxObPmEbzLQ",
        "colab_type": "text"
      },
      "source": [
        "Para distinguir del uso matemático de los paréntesis, una tupla de un único elemento se escribe con una coma al final:"
      ]
    },
    {
      "cell_type": "code",
      "metadata": {
        "id": "UwLKb_iBbzLR",
        "colab_type": "code",
        "colab": {}
      },
      "source": [
        "a = (42,)"
      ],
      "execution_count": 0,
      "outputs": []
    },
    {
      "cell_type": "markdown",
      "metadata": {
        "id": "kY4usxKVbzLU",
        "colab_type": "text"
      },
      "source": [
        "Como en las listas, los elementos en las tuplas pueden repetirse:"
      ]
    },
    {
      "cell_type": "code",
      "metadata": {
        "id": "WBrXyw7AbzLW",
        "colab_type": "code",
        "colab": {}
      },
      "source": [
        "a = (1,1,2,3,4)\n",
        "print(a)"
      ],
      "execution_count": 0,
      "outputs": []
    },
    {
      "cell_type": "markdown",
      "metadata": {
        "id": "w8niXLJ5bzLa",
        "colab_type": "text"
      },
      "source": [
        "Para representar grupos de elementos únicos existen los conjuntos, como veremos a continuación."
      ]
    },
    {
      "cell_type": "markdown",
      "metadata": {
        "id": "HycKaAzrbzLb",
        "colab_type": "text"
      },
      "source": [
        "### Conjuntos (sets)"
      ]
    },
    {
      "cell_type": "markdown",
      "metadata": {
        "id": "8D1JKbp2bzLc",
        "colab_type": "text"
      },
      "source": [
        "Los conjuntos de Python funcionan como los conjuntos matemáticos: son contenedores de elementos únicos y no poseen un órden. Se expresan con elementos separados por coma y contenidos entre llaves. Por ejemplo:"
      ]
    },
    {
      "cell_type": "code",
      "metadata": {
        "id": "Qz4ZQZSGbzLe",
        "colab_type": "code",
        "colab": {}
      },
      "source": [
        "a = {9,9,1,1,2,3,4,2,3,4,5,6,7,8,9,\"hola\"}\n",
        "print(a)\n",
        "b = set(\"Los conjuntos de Python\")\n",
        "print(b)"
      ],
      "execution_count": 0,
      "outputs": []
    },
    {
      "cell_type": "markdown",
      "metadata": {
        "id": "VLaw9MGfbzLi",
        "colab_type": "text"
      },
      "source": [
        "Las operaciones entre conjuntos de Python son análogas a las operaciones entre conjuntos matemáticos. \n",
        "\n",
        "* `a | b`: unión \n",
        "* `a & b`: intersección\n",
        "* `a - ḅ`: diferencia (elementos en `a` pero no en `b`)\n",
        "* `a ^ b`: elementos que no están en la intersección entre `a` y `b`\n",
        "* `a < b`: incluido\n",
        "* `a <= b`: incluido o igual\n",
        "* `a > b`: contiene\n",
        "* `a >= b`: contiene o es igual"
      ]
    },
    {
      "cell_type": "code",
      "metadata": {
        "id": "tt0irKL_bzLi",
        "colab_type": "code",
        "colab": {}
      },
      "source": [
        "a = {1,2,3}\n",
        "b = {3,4,5}\n",
        "print(a|b)\n",
        "print(a&b)\n",
        "print(a-b)\n",
        "print(a^b)\n",
        "print(a<b)\n",
        "print(a<=b)\n",
        "print(a>b)\n",
        "print(a>=b)"
      ],
      "execution_count": 0,
      "outputs": []
    },
    {
      "cell_type": "markdown",
      "metadata": {
        "id": "L6QHyUUFbzLn",
        "colab_type": "text"
      },
      "source": [
        "¿Cómo sabe Python que los elementos son únicos? Utiliza una función `hash()` para mapear los elementos a números enteros. Por eso, los elementos de un conjunto tienen que ser inmutables (una lista no puede ser un elemento de un conjunto), ya que su contenido puede cambiar y no es *hasheable*"
      ]
    },
    {
      "cell_type": "code",
      "metadata": {
        "id": "ooYf9YVKbzLo",
        "colab_type": "code",
        "colab": {}
      },
      "source": [
        "print(hash(\"hola\"))\n",
        "print(hash(1))\n",
        "print(hash(10.0))\n",
        "print(hash([1,2]))"
      ],
      "execution_count": 0,
      "outputs": []
    },
    {
      "cell_type": "code",
      "metadata": {
        "id": "qumNybFqxi7x",
        "colab_type": "code",
        "colab": {}
      },
      "source": [
        "a = {\"hola\", 1, 10.0}\n",
        "b = {\"hola\", 1, 10.0, [1,2]}"
      ],
      "execution_count": 0,
      "outputs": []
    },
    {
      "cell_type": "markdown",
      "metadata": {
        "id": "JY3APIcRbzLs",
        "colab_type": "text"
      },
      "source": [
        "### Diccionarios"
      ]
    },
    {
      "cell_type": "markdown",
      "metadata": {
        "id": "n8d0sd0KbzLt",
        "colab_type": "text"
      },
      "source": [
        "Los diccionarios son la forma en Python de realizar matrices asociativas o *tablas hash*: una estructura de datos que asocia claves con valores. Son estructuras no ordenadas en las que el índice está dado por una clave, que está asociada a un valor. Se expresan con pares `clave:valor` separados por comas y colocados entre llaves:"
      ]
    },
    {
      "cell_type": "code",
      "metadata": {
        "id": "TVBjq26kbzLt",
        "colab_type": "code",
        "colab": {}
      },
      "source": [
        "a = {'nombre':'Juan', 'apellido':'Pérez', 'edad':25}\n",
        "print(a[\"nombre\"])\n",
        "print(a[\"apellido\"])\n",
        "print(a[\"edad\"])"
      ],
      "execution_count": 0,
      "outputs": []
    },
    {
      "cell_type": "markdown",
      "metadata": {
        "id": "ETf7-uodbzLw",
        "colab_type": "text"
      },
      "source": [
        "Los valores pueden ser objetos de cualquier tipo, pero las claves tienen que ser hasheables para permitir funcionar como índice en forma única:"
      ]
    },
    {
      "cell_type": "code",
      "metadata": {
        "id": "osRdnFY_bzL0",
        "colab_type": "code",
        "colab": {}
      },
      "source": [
        "a = {'nombre':'Juan', 'nombre':'Pedro', 'apellido':'Pérez', 'edad':25}\n",
        "print(a)\n",
        "a = {'nombre':'Juan', 'nombre':'Pedro', 'apellido':'Pérez', (1,2):25}\n",
        "print(a)\n",
        "a = {'nombre':'Juan', 'nombre':'Pedro', 'apellido':'Pérez', [1,2]:25}\n",
        "print(a)"
      ],
      "execution_count": 0,
      "outputs": []
    },
    {
      "cell_type": "markdown",
      "metadata": {
        "id": "QaE0SZ4mbzL2",
        "colab_type": "text"
      },
      "source": [
        "## Control de flujo"
      ]
    },
    {
      "cell_type": "markdown",
      "metadata": {
        "id": "TfbwZtzlbzL3",
        "colab_type": "text"
      },
      "source": [
        "### Expresiones condicionales"
      ]
    },
    {
      "cell_type": "markdown",
      "metadata": {
        "id": "eCASQKrfbzL3",
        "colab_type": "text"
      },
      "source": [
        "El formato para las expresiones condicionales es el siguiente:\n",
        "\n",
        "\n",
        "```\n",
        "if <condicion>:\n",
        "\n",
        "    <bloque>\n",
        "```\n",
        "\n",
        "Donde la `<condicion>` es una expresión con resultado `True` o `False` y el bloque que se ejecuta debe estar indentado todo al mismo nivel, ya que la forma que tiene Python de especificar bloques de código es mediante indentación."
      ]
    },
    {
      "cell_type": "code",
      "metadata": {
        "scrolled": true,
        "id": "ja_KkJimbzL3",
        "colab_type": "code",
        "outputId": "2c70411c-f2f5-4c68-b369-8bd7225e9615",
        "colab": {
          "base_uri": "https://localhost:8080/",
          "height": 35
        }
      },
      "source": [
        "a = 2\n",
        "if a == 1:\n",
        "    print(\"Dentro\")\n",
        "    print(\"del\")\n",
        "    print(\"if\")\n",
        "print(\"Fuera del if\")"
      ],
      "execution_count": 0,
      "outputs": [
        {
          "output_type": "stream",
          "text": [
            "Fuera del if\n"
          ],
          "name": "stdout"
        }
      ]
    },
    {
      "cell_type": "markdown",
      "metadata": {
        "id": "zhZdBMTubzL6",
        "colab_type": "text"
      },
      "source": [
        "La indentación es con espacios, generalmente 4 (nunca tabulaciones).\n",
        "\n",
        "Los bloques condicionales pueden contener expresiones tipo `if ... else`:"
      ]
    },
    {
      "cell_type": "code",
      "metadata": {
        "id": "x5wdUzKebzL7",
        "colab_type": "code",
        "outputId": "39ec247f-5d41-437a-89fa-7013622eb639",
        "colab": {
          "base_uri": "https://localhost:8080/",
          "height": 35
        }
      },
      "source": [
        "import math\n",
        "x = math.pi\n",
        "if x == 0.0:\n",
        "    y = 1.0\n",
        "else:\n",
        "    y = math.sin(x)/x\n",
        "print(y)"
      ],
      "execution_count": 0,
      "outputs": [
        {
          "output_type": "stream",
          "text": [
            "3.8981718325193755e-17\n"
          ],
          "name": "stdout"
        }
      ]
    },
    {
      "cell_type": "markdown",
      "metadata": {
        "id": "VmEAHMJ-bzL_",
        "colab_type": "text"
      },
      "source": [
        "También pueden pueden contener expresiones `if..elif..else`:"
      ]
    },
    {
      "cell_type": "code",
      "metadata": {
        "id": "S4fvcD3ebzMC",
        "colab_type": "code",
        "outputId": "07eb88f4-1a5b-4b2d-c8f9-68066099da9a",
        "colab": {
          "base_uri": "https://localhost:8080/",
          "height": 244
        }
      },
      "source": [
        "if freq < 0.0:\n",
        "    filtro = 0.0\n",
        "elif freq < 1.0:\n",
        "    filtro = 1.0\n",
        "else:\n",
        "    freq = 0.0"
      ],
      "execution_count": 0,
      "outputs": [
        {
          "output_type": "error",
          "ename": "NameError",
          "evalue": "ignored",
          "traceback": [
            "\u001b[0;31m---------------------------------------------------------------------------\u001b[0m",
            "\u001b[0;31mNameError\u001b[0m                                 Traceback (most recent call last)",
            "\u001b[0;32m<ipython-input-36-e7977c440745>\u001b[0m in \u001b[0;36m<module>\u001b[0;34m()\u001b[0m\n\u001b[0;32m----> 1\u001b[0;31m \u001b[0;32mif\u001b[0m \u001b[0mfreq\u001b[0m \u001b[0;34m<\u001b[0m \u001b[0;36m0.0\u001b[0m\u001b[0;34m:\u001b[0m\u001b[0;34m\u001b[0m\u001b[0;34m\u001b[0m\u001b[0m\n\u001b[0m\u001b[1;32m      2\u001b[0m     \u001b[0mfiltro\u001b[0m \u001b[0;34m=\u001b[0m \u001b[0;36m0.0\u001b[0m\u001b[0;34m\u001b[0m\u001b[0;34m\u001b[0m\u001b[0m\n\u001b[1;32m      3\u001b[0m \u001b[0;32melif\u001b[0m \u001b[0mfreq\u001b[0m \u001b[0;34m<\u001b[0m \u001b[0;36m1.0\u001b[0m\u001b[0;34m:\u001b[0m\u001b[0;34m\u001b[0m\u001b[0;34m\u001b[0m\u001b[0m\n\u001b[1;32m      4\u001b[0m     \u001b[0mfiltro\u001b[0m \u001b[0;34m=\u001b[0m \u001b[0;36m1.0\u001b[0m\u001b[0;34m\u001b[0m\u001b[0;34m\u001b[0m\u001b[0m\n\u001b[1;32m      5\u001b[0m \u001b[0;32melse\u001b[0m\u001b[0;34m:\u001b[0m\u001b[0;34m\u001b[0m\u001b[0;34m\u001b[0m\u001b[0m\n",
            "\u001b[0;31mNameError\u001b[0m: name 'freq' is not defined"
          ]
        }
      ]
    },
    {
      "cell_type": "markdown",
      "metadata": {
        "id": "vXgmljQabzME",
        "colab_type": "text"
      },
      "source": [
        "En algunos casos se puede reemplazar un condicional por un única línea de código utilizando el operador condicional:\n",
        "\n",
        "`x if <condicion> else y`\n",
        "\n",
        "Por ejemplo, la evaluación de $\\sin(x)/x$ que hicimos previamente puede hacerse en una única línea:"
      ]
    },
    {
      "cell_type": "code",
      "metadata": {
        "id": "EU5OwAKobzME",
        "colab_type": "code",
        "outputId": "1c209e8e-f733-4e6b-e647-4add3a4943a4",
        "colab": {
          "base_uri": "https://localhost:8080/",
          "height": 35
        }
      },
      "source": [
        "import math\n",
        "x = math.pi\n",
        "y = 0.0 if x == 0.0 else math.sin(x)/x\n",
        "print(y)"
      ],
      "execution_count": 0,
      "outputs": [
        {
          "output_type": "stream",
          "text": [
            "3.8981718325193755e-17\n"
          ],
          "name": "stdout"
        }
      ]
    },
    {
      "cell_type": "markdown",
      "metadata": {
        "id": "Ou9dRDvNbzMH",
        "colab_type": "text"
      },
      "source": [
        "### Excepciones"
      ]
    },
    {
      "cell_type": "markdown",
      "metadata": {
        "id": "McCfBIlzbzMI",
        "colab_type": "text"
      },
      "source": [
        "Como en la mayoría de los lenguajes de programación modernos, Python permite realizar manejo de errores. El manejo de errores permite controlar el flujo del programa en caso que algo hubiera inesperado suceda (que el archivo que se buscaba abrir no estuviera ahí, o que la operación matemática que se intentó calcular no pudiera hacerse, como una división por cero). La forma de hacerlo es con un bloque `try ... except`, que es similar a un bloque `if .. else`, pero sin la condición:\n",
        "\n",
        "```\n",
        "try:\n",
        "    <bloque de ejecución>\n",
        "except:\n",
        "    <bloque que se ejecuta en caso de error>\n",
        "```"
      ]
    },
    {
      "cell_type": "code",
      "metadata": {
        "id": "q5bR3qG3bzML",
        "colab_type": "code",
        "outputId": "d4eaea4d-a3af-44e6-f626-8fb6c2c6ab87",
        "colab": {
          "base_uri": "https://localhost:8080/",
          "height": 35
        }
      },
      "source": [
        "x = 0\n",
        "try:\n",
        "    y = 1/x\n",
        "except:\n",
        "    print(\"Ocurrió un error\")"
      ],
      "execution_count": 0,
      "outputs": [
        {
          "output_type": "stream",
          "text": [
            "Ocurrió un error\n"
          ],
          "name": "stdout"
        }
      ]
    },
    {
      "cell_type": "markdown",
      "metadata": {
        "id": "Rh5cqXfUbzMO",
        "colab_type": "text"
      },
      "source": [
        "Uno puede especificar el tipo de error utilizando excepciones:"
      ]
    },
    {
      "cell_type": "code",
      "metadata": {
        "id": "rIkAmkgwbzMP",
        "colab_type": "code",
        "outputId": "4c82a806-c044-4893-9bcc-4d8589d1601d",
        "colab": {
          "base_uri": "https://localhost:8080/",
          "height": 35
        }
      },
      "source": [
        "x = 0\n",
        "try:\n",
        "    y = 1/x\n",
        "except ZeroDivisionError:\n",
        "    print(\"Division por cero\")\n",
        "except:\n",
        "    print(\"Ocurrió un error\")"
      ],
      "execution_count": 0,
      "outputs": [
        {
          "output_type": "stream",
          "text": [
            "Division por cero\n"
          ],
          "name": "stdout"
        }
      ]
    },
    {
      "cell_type": "code",
      "metadata": {
        "id": "EpXmpKvMbzMS",
        "colab_type": "code",
        "outputId": "3faecdb3-667d-49f2-bbaa-4b5251f7ec09",
        "colab": {
          "base_uri": "https://localhost:8080/",
          "height": 35
        }
      },
      "source": [
        "x = 0\n",
        "try:\n",
        "    y = sfsff(x)\n",
        "except ZeroDivisionError:\n",
        "    print(\"Division por cero\")\n",
        "except:\n",
        "    print(\"Ocurrió un error\")"
      ],
      "execution_count": 0,
      "outputs": [
        {
          "output_type": "stream",
          "text": [
            "Ocurrió un error\n"
          ],
          "name": "stdout"
        }
      ]
    },
    {
      "cell_type": "markdown",
      "metadata": {
        "id": "6b8y-bckbzMU",
        "colab_type": "text"
      },
      "source": [
        "Esto permite la continuación de la ejecución en caso de que algo imprevisto haya sucedido. Si el bloque de código no captura el error, pasa al nivel superior, por lo que las excepciones suelen utilizarse para mostrar la existencia de situaciones que no pueden manejarse en forma standard y que debe decidirse qué se hace en un nivel superior."
      ]
    },
    {
      "cell_type": "markdown",
      "metadata": {
        "id": "07CvZ-MFbzMW",
        "colab_type": "text"
      },
      "source": [
        "## Bucles"
      ]
    },
    {
      "cell_type": "markdown",
      "metadata": {
        "id": "WEbp1EUfbzMY",
        "colab_type": "text"
      },
      "source": [
        "Python permite la ejecución repetitiva con bucles `while`, que se ejecutan mientras una condición se mantenga, y bucles `for` que se ejecutan una determinada cantidad de veces."
      ]
    },
    {
      "cell_type": "markdown",
      "metadata": {
        "id": "uHfGRP45bzMk",
        "colab_type": "text"
      },
      "source": [
        "La sintaxis en los bucles `while` tiene la forma:\n",
        "\n",
        "```\n",
        "while <condicion>:\n",
        "    <bloque while>\n",
        "```\n",
        "\n",
        "y el bloque while mientras la condición devuelve `True`. La condición es evaluada cada vez *antes* de la ejecución del bloque.\n",
        "\n",
        "Por ejemplo, la función `random()` del módulo `random` genera números aleatorios entre 0 y 1. El siguiente bloque cuenta la cantidad de números aleatorios necesarios para encontrar uno mayor a un valor límite:"
      ]
    },
    {
      "cell_type": "code",
      "metadata": {
        "scrolled": true,
        "id": "pEaQdNoJbzMl",
        "colab_type": "code",
        "outputId": "d8822b18-c2e0-4d2b-8863-c5a3d36e88b2",
        "colab": {
          "base_uri": "https://localhost:8080/",
          "height": 107
        }
      },
      "source": [
        "import random\n",
        "x = random.random()\n",
        "i = 1\n",
        "limite = 0.9\n",
        "while x<limite:\n",
        "    x = random.random()\n",
        "    print(x)\n",
        "    i = i + 1\n",
        "print(i)"
      ],
      "execution_count": 0,
      "outputs": [
        {
          "output_type": "stream",
          "text": [
            "0.8109619051182309\n",
            "0.11001869304058043\n",
            "0.06265460460656413\n",
            "0.9609803673794847\n",
            "5\n"
          ],
          "name": "stdout"
        }
      ]
    },
    {
      "cell_type": "markdown",
      "metadata": {
        "id": "2oZEikOibzMo",
        "colab_type": "text"
      },
      "source": [
        "Uno no tiene forma de saber cuántas veces se va a ejecutar este bucle, ya que depende de los números aleatorios devueltos por `random()`. Pero, a veces se busca ejecutar algo para un conjunto de valores. Esto puede realizarse con un bucle `for`. En Python la iteración se realiza sobre algún objeto *iterable*, esto es, un objeto que permite obtener alguno de sus elementos por vez hasta que no queda ningún elemento. De los tipos de datos presentados hasta acá, los diccionarios, tuplas, conjuntos, listas y cadenas de caracteres son iterables:"
      ]
    },
    {
      "cell_type": "code",
      "metadata": {
        "id": "vgxwWOBpbzMo",
        "colab_type": "code",
        "outputId": "8327c6b8-b96c-4ae5-8552-d5b8ef2c3e4f",
        "colab": {
          "base_uri": "https://localhost:8080/",
          "height": 197
        }
      },
      "source": [
        "string = \"Hola mundo\"\n",
        "for x in string:\n",
        "    print(x)"
      ],
      "execution_count": 0,
      "outputs": [
        {
          "output_type": "stream",
          "text": [
            "H\n",
            "o\n",
            "l\n",
            "a\n",
            " \n",
            "m\n",
            "u\n",
            "n\n",
            "d\n",
            "o\n"
          ],
          "name": "stdout"
        }
      ]
    },
    {
      "cell_type": "code",
      "metadata": {
        "id": "hes81prdbzMu",
        "colab_type": "code",
        "outputId": "1eb54845-6e1d-4d17-df73-9bbf1b2a7655",
        "colab": {
          "base_uri": "https://localhost:8080/",
          "height": 71
        }
      },
      "source": [
        "lista = [1,2,3]\n",
        "for x in lista:\n",
        "    print(x)"
      ],
      "execution_count": 0,
      "outputs": [
        {
          "output_type": "stream",
          "text": [
            "1\n",
            "2\n",
            "3\n"
          ],
          "name": "stdout"
        }
      ]
    },
    {
      "cell_type": "code",
      "metadata": {
        "id": "-aYDQZWKbzMz",
        "colab_type": "code",
        "outputId": "281ae6d2-cf54-4d11-b374-2729619b07e6",
        "colab": {
          "base_uri": "https://localhost:8080/",
          "height": 71
        }
      },
      "source": [
        "conjunto = {1,2,3}\n",
        "for x in conjunto:\n",
        "    print(x)"
      ],
      "execution_count": 0,
      "outputs": [
        {
          "output_type": "stream",
          "text": [
            "1\n",
            "2\n",
            "3\n"
          ],
          "name": "stdout"
        }
      ]
    },
    {
      "cell_type": "code",
      "metadata": {
        "id": "b7eqWwtnbzM1",
        "colab_type": "code",
        "outputId": "ced2a662-2552-4f6a-a2e8-e5fdb34fdf38",
        "colab": {
          "base_uri": "https://localhost:8080/",
          "height": 71
        }
      },
      "source": [
        "tupla = (1,2,3)\n",
        "for x in tupla:\n",
        "    print(x)"
      ],
      "execution_count": 0,
      "outputs": [
        {
          "output_type": "stream",
          "text": [
            "1\n",
            "2\n",
            "3\n"
          ],
          "name": "stdout"
        }
      ]
    },
    {
      "cell_type": "code",
      "metadata": {
        "id": "og1UR3bLbzM4",
        "colab_type": "code",
        "outputId": "0304d20a-5c63-48a4-82d7-d2966ad5a196",
        "colab": {
          "base_uri": "https://localhost:8080/",
          "height": 71
        }
      },
      "source": [
        "diccionario = {1:\"a\", 2:\"b\", 3:\"c\"}\n",
        "for x in diccionario:\n",
        "    print(x)"
      ],
      "execution_count": 0,
      "outputs": [
        {
          "output_type": "stream",
          "text": [
            "1\n",
            "2\n",
            "3\n"
          ],
          "name": "stdout"
        }
      ]
    },
    {
      "cell_type": "markdown",
      "metadata": {
        "id": "rwi-1jcybzM8",
        "colab_type": "text"
      },
      "source": [
        "Pero, no pueden utilizarse enteros u otros tipos de datos no iterables:"
      ]
    },
    {
      "cell_type": "code",
      "metadata": {
        "id": "fTUZ0nXYbzM9",
        "colab_type": "code",
        "outputId": "f4932209-fd3a-4448-bcfd-576bb38b3806",
        "colab": {
          "base_uri": "https://localhost:8080/",
          "height": 208
        }
      },
      "source": [
        "entero = 42\n",
        "for x in entero:\n",
        "    print(x)"
      ],
      "execution_count": 0,
      "outputs": [
        {
          "output_type": "error",
          "ename": "TypeError",
          "evalue": "ignored",
          "traceback": [
            "\u001b[0;31m---------------------------------------------------------------------------\u001b[0m",
            "\u001b[0;31mTypeError\u001b[0m                                 Traceback (most recent call last)",
            "\u001b[0;32m<ipython-input-52-443a5e12c956>\u001b[0m in \u001b[0;36m<module>\u001b[0;34m()\u001b[0m\n\u001b[1;32m      1\u001b[0m \u001b[0mentero\u001b[0m \u001b[0;34m=\u001b[0m \u001b[0;36m42\u001b[0m\u001b[0;34m\u001b[0m\u001b[0;34m\u001b[0m\u001b[0m\n\u001b[0;32m----> 2\u001b[0;31m \u001b[0;32mfor\u001b[0m \u001b[0mx\u001b[0m \u001b[0;32min\u001b[0m \u001b[0mentero\u001b[0m\u001b[0;34m:\u001b[0m\u001b[0;34m\u001b[0m\u001b[0;34m\u001b[0m\u001b[0m\n\u001b[0m\u001b[1;32m      3\u001b[0m     \u001b[0mprint\u001b[0m\u001b[0;34m(\u001b[0m\u001b[0mx\u001b[0m\u001b[0;34m)\u001b[0m\u001b[0;34m\u001b[0m\u001b[0;34m\u001b[0m\u001b[0m\n",
            "\u001b[0;31mTypeError\u001b[0m: 'int' object is not iterable"
          ]
        }
      ]
    },
    {
      "cell_type": "markdown",
      "metadata": {
        "id": "BgpGX2wvbzM-",
        "colab_type": "text"
      },
      "source": [
        "En el caso de los diccionarios, la iteración por default se realiza sobre las claves. Uno puede utilizar las claves para acceder a los valores:"
      ]
    },
    {
      "cell_type": "code",
      "metadata": {
        "id": "CkCAbJjfbzM_",
        "colab_type": "code",
        "outputId": "85313763-93f9-4d54-de1d-ac1b379a34db",
        "colab": {
          "base_uri": "https://localhost:8080/",
          "height": 71
        }
      },
      "source": [
        "diccionario = {1:\"a\", 2:\"b\", 3:\"c\"}\n",
        "for x in diccionario:\n",
        "    print(x, \"->\", diccionario[x])"
      ],
      "execution_count": 0,
      "outputs": [
        {
          "output_type": "stream",
          "text": [
            "1 -> a\n",
            "2 -> b\n",
            "3 -> c\n"
          ],
          "name": "stdout"
        }
      ]
    },
    {
      "cell_type": "markdown",
      "metadata": {
        "id": "J9Gy4mAubzNB",
        "colab_type": "text"
      },
      "source": [
        "Para realizar un loop sobre las claves y valores al mismo tiempo podemos utilizar el método `.items()` del diccionario, que devuelve una lista de tuplas `(clave, valor)`:"
      ]
    },
    {
      "cell_type": "code",
      "metadata": {
        "id": "m5TCx9I8bzNC",
        "colab_type": "code",
        "outputId": "3bae3ebb-e6fa-458b-8d17-e2376618807a",
        "colab": {
          "base_uri": "https://localhost:8080/",
          "height": 71
        }
      },
      "source": [
        "diccionario = {1:\"a\", 2:\"b\", 3:\"c\"}\n",
        "for x,y in diccionario.items():\n",
        "    print(x, \"->\", y)"
      ],
      "execution_count": 0,
      "outputs": [
        {
          "output_type": "stream",
          "text": [
            "1 -> a\n",
            "2 -> b\n",
            "3 -> c\n"
          ],
          "name": "stdout"
        }
      ]
    },
    {
      "cell_type": "markdown",
      "metadata": {
        "id": "d5Kzy06GbzNE",
        "colab_type": "text"
      },
      "source": [
        "Para iterar sobre rangos de valores, al estilo de un bucle for tradicionales en otros lenguajes, se puede utilizar la funcion `range()`. La función `range()` devuelve un iterable de enteros sobre el que se puede utilizar en un bucle for:"
      ]
    },
    {
      "cell_type": "code",
      "metadata": {
        "id": "YzomEO0abzNF",
        "colab_type": "code",
        "outputId": "dfaabcf7-c177-4a68-9dec-cdff4c0154d5",
        "colab": {
          "base_uri": "https://localhost:8080/",
          "height": 161
        }
      },
      "source": [
        "principio = 5\n",
        "fin = 20\n",
        "cada = 2\n",
        "for i in range(principio, fin, cada):\n",
        "    print(i)"
      ],
      "execution_count": 0,
      "outputs": [
        {
          "output_type": "stream",
          "text": [
            "5\n",
            "7\n",
            "9\n",
            "11\n",
            "13\n",
            "15\n",
            "17\n",
            "19\n"
          ],
          "name": "stdout"
        }
      ]
    },
    {
      "cell_type": "markdown",
      "metadata": {
        "id": "HFu_ZDFHbzNH",
        "colab_type": "text"
      },
      "source": [
        "Los bucles presentados aquí pueden utilizarse para generar listas en forma compacta utilizando *list comprehensions*. Por ejemplo, para generar una lista de 100 números aleatorios menores a 1000 y luego buscar de ellos los divisibles por 3:"
      ]
    },
    {
      "cell_type": "code",
      "metadata": {
        "id": "0ameScdHbzNI",
        "colab_type": "code",
        "outputId": "3ebf34ca-3dcf-46e0-c93b-8ec4badfd99d",
        "colab": {
          "base_uri": "https://localhost:8080/",
          "height": 55
        }
      },
      "source": [
        "import random\n",
        "a = []\n",
        "b = []\n",
        "for i in (range(100)):\n",
        "    x = random.randint(0,1000)\n",
        "    b.append(x)\n",
        "for x in b:\n",
        "    if x%3 == 0:\n",
        "        a.append(x)\n",
        "print(a)"
      ],
      "execution_count": 0,
      "outputs": [
        {
          "output_type": "stream",
          "text": [
            "[918, 204, 381, 15, 960, 228, 537, 741, 681, 255, 981, 546, 597, 708, 651, 489, 504, 903, 252, 390, 321, 948, 411, 183, 570, 675, 420, 810, 690, 783, 426, 405]\n"
          ],
          "name": "stdout"
        }
      ]
    },
    {
      "cell_type": "code",
      "metadata": {
        "id": "PdGX_B2pbzNK",
        "colab_type": "code",
        "outputId": "22646f39-c619-475d-de2f-f05a198aa662",
        "colab": {
          "base_uri": "https://localhost:8080/",
          "height": 35
        }
      },
      "source": [
        "b = [random.randint(1,1000) for j in range(100)]\n",
        "a = [x for x in b if x%3 == 0]\n",
        "print(a)"
      ],
      "execution_count": 0,
      "outputs": [
        {
          "output_type": "stream",
          "text": [
            "[435, 528, 777, 351, 498, 423, 756, 579, 363, 459, 312, 666, 759, 348, 870, 867, 57, 855, 687, 21, 435, 192, 945, 936, 690, 411, 327, 234, 198]\n"
          ],
          "name": "stdout"
        }
      ]
    },
    {
      "cell_type": "markdown",
      "metadata": {
        "id": "smA6CzrxbzNP",
        "colab_type": "text"
      },
      "source": [
        "o, en una única línea:"
      ]
    },
    {
      "cell_type": "code",
      "metadata": {
        "id": "ATkN6fZubzNP",
        "colab_type": "code",
        "outputId": "d2366c3b-e617-4195-8b0c-9f5d59004600",
        "colab": {
          "base_uri": "https://localhost:8080/",
          "height": 35
        }
      },
      "source": [
        "a = [x for x in [random.randint(1,1000) for j in range(100)] if x%3 == 0]\n",
        "print(a)"
      ],
      "execution_count": 0,
      "outputs": [
        {
          "output_type": "stream",
          "text": [
            "[441, 615, 141, 510, 780, 516, 6, 27, 174, 165, 69, 138, 711, 693, 15, 849, 972, 435, 954, 129, 180, 819, 255, 720, 666, 834, 261]\n"
          ],
          "name": "stdout"
        }
      ]
    },
    {
      "cell_type": "markdown",
      "metadata": {
        "id": "8hlSmNwibzNT",
        "colab_type": "text"
      },
      "source": [
        "En forma similar pueden crearse conjuntos y diccionarios:"
      ]
    },
    {
      "cell_type": "code",
      "metadata": {
        "id": "rsXzsvZQbzNU",
        "colab_type": "code",
        "outputId": "35bc34de-0de2-4a9d-ed02-b501031a0427",
        "colab": {
          "base_uri": "https://localhost:8080/",
          "height": 55
        }
      },
      "source": [
        "b = [random.randint(1,1000) for j in range(100)]\n",
        "a = {x for x in b if x%3 == 0}\n",
        "print(a)"
      ],
      "execution_count": 0,
      "outputs": [
        {
          "output_type": "stream",
          "text": [
            "{771, 135, 903, 9, 396, 18, 546, 936, 810, 429, 687, 432, 312, 570, 576, 450, 198, 582, 846, 975, 342, 87, 726, 858, 861, 606, 735, 741, 999, 873, 246, 765, 510}\n"
          ],
          "name": "stdout"
        }
      ]
    },
    {
      "cell_type": "code",
      "metadata": {
        "id": "jAsRrhUHbzNX",
        "colab_type": "code",
        "outputId": "4bcb63e5-dd13-42f5-e68c-bd253acfcab6",
        "colab": {
          "base_uri": "https://localhost:8080/",
          "height": 55
        }
      },
      "source": [
        "b = [random.randint(1,1000) for j in range(100)]\n",
        "a = {x:2*x for x in b if x%3 == 0}\n",
        "print(a)"
      ],
      "execution_count": 0,
      "outputs": [
        {
          "output_type": "stream",
          "text": [
            "{348: 696, 948: 1896, 687: 1374, 375: 750, 804: 1608, 924: 1848, 480: 960, 177: 354, 114: 228, 666: 1332, 756: 1512, 69: 138, 738: 1476, 876: 1752, 921: 1842, 618: 1236, 537: 1074, 513: 1026, 138: 276, 432: 864, 540: 1080, 699: 1398, 33: 66, 312: 624, 429: 858, 564: 1128, 273: 546, 801: 1602, 24: 48, 255: 510, 729: 1458, 210: 420, 153: 306, 936: 1872, 435: 870, 321: 642}\n"
          ],
          "name": "stdout"
        }
      ]
    },
    {
      "cell_type": "markdown",
      "metadata": {
        "id": "wFCDFXL-bzNa",
        "colab_type": "text"
      },
      "source": [
        "### Funciones"
      ]
    },
    {
      "cell_type": "markdown",
      "metadata": {
        "id": "vFUI7-40bzNh",
        "colab_type": "text"
      },
      "source": [
        "La definción de funciones en Python se realiza de la siguiente \n",
        "forma:\n",
        "\n",
        "```\n",
        "def <nombre>():\n",
        "    <cuerpo de la funcion>\n",
        "```"
      ]
    },
    {
      "cell_type": "code",
      "metadata": {
        "id": "KJKYEMhibzNh",
        "colab_type": "code",
        "outputId": "4c48c4d7-05a5-42e1-b23d-d96686c91d5a",
        "colab": {
          "base_uri": "https://localhost:8080/",
          "height": 53
        }
      },
      "source": [
        "import math\n",
        "\n",
        "def func(x,b=1.0):\n",
        "    if x == 0:\n",
        "        y = b*1\n",
        "    else:\n",
        "        y = b*math.sin(x)/x\n",
        "    return y\n",
        "\n",
        "print(func(0,b=2.0))\n",
        "print(func(1,b=2.0))\n"
      ],
      "execution_count": 0,
      "outputs": [
        {
          "output_type": "stream",
          "text": [
            "2.0\n",
            "1.682941969615793\n"
          ],
          "name": "stdout"
        }
      ]
    },
    {
      "cell_type": "code",
      "metadata": {
        "id": "O0DMLSBEbzNl",
        "colab_type": "code",
        "colab": {}
      },
      "source": [
        ""
      ],
      "execution_count": 0,
      "outputs": []
    }
  ]
}