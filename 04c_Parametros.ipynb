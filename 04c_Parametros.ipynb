{
  "nbformat": 4,
  "nbformat_minor": 0,
  "metadata": {
    "kernelspec": {
      "display_name": "Python 3",
      "language": "python",
      "name": "python3"
    },
    "language_info": {
      "codemirror_mode": {
        "name": "ipython",
        "version": 3
      },
      "file_extension": ".py",
      "mimetype": "text/x-python",
      "name": "python",
      "nbconvert_exporter": "python",
      "pygments_lexer": "ipython3",
      "version": "3.6.5"
    },
    "colab": {
      "name": "Parametros.ipynb",
      "version": "0.3.2",
      "provenance": [],
      "collapsed_sections": [
        "4x3hJX0SPOz2"
      ]
    }
  },
  "cells": [
    {
      "cell_type": "markdown",
      "metadata": {
        "id": "4x3hJX0SPOz2",
        "colab_type": "text"
      },
      "source": [
        "## Instalación de OpenMC"
      ]
    },
    {
      "cell_type": "code",
      "metadata": {
        "id": "IatJFr3fPNkz",
        "colab_type": "code",
        "colab": {}
      },
      "source": [
        "#\n",
        "# Executing this cell you will install OpenMC and the nuclear\n",
        "# data libraries in this instance of the Google Colaboratory virtual machine.\n",
        "# The process takes about 2 minutes.\n",
        "#\n",
        "\n",
        "def install_openmc():\n",
        "  #\n",
        "  # Clone source code from Github, make and install\n",
        "  #\n",
        "  \n",
        "  import os\n",
        "  \n",
        "  if not os.path.isdir('/content'):\n",
        "    print(\"Esta función instala OpenMC en una instancia de Google Colaboratory.\")\n",
        "    print(\"Para instalar localmente siga las instrucciones de la documentacion:\")\n",
        "    print(\"http://docs.openmc.org/en/stable/quickinstall.html\")\n",
        "    return\n",
        "  \n",
        "  %cd -q /content\n",
        "  print(\"Obtaining OpenMC source code from Github...\")\n",
        "  !git  --no-pager clone https://github.com/mit-crpg/openmc.git &> /dev/null\n",
        "  %cd -q openmc\n",
        "  !git --no-pager checkout master &> /dev/null\n",
        "  !mkdir build\n",
        "  %cd -q build\n",
        "  print(\"Running cmake...\")\n",
        "  !cmake ../ -DPYTHON_EXECUTABLE=/usr/bin/python3 -DCMAKE_INSTALL_PREFIX=/usr/local &> /dev/null\n",
        "  print(\"Running make...\")\n",
        "  !make -j &> /dev/null\n",
        "  print(\"Running make install...\")\n",
        "  !make install &> /dev/null\n",
        "  import sys\n",
        "  sys.path.append('/usr/local/lib/python3.6/dist-packages/openmc-0.10.0-py3.6-linux-x86_64.egg')\n",
        "  sys.path.append('/usr/local/lib/python3.6/site-packages/')\n",
        "  %cd -q /content\n",
        "\n",
        "def install_data_from_onedrive():\n",
        "  #\n",
        "  # Download preprocessed HDF5 files from OneDrive (faster).\n",
        "  #\n",
        "  import os\n",
        "  \n",
        "  if not os.path.isdir('/content'):\n",
        "    print(\"Esta función instala los datos nucleares de OpenMC en una instancia de Google Colaboratory.\")\n",
        "    print(\"Para instalar localmente siga las instrucciones de la documentacion:\")\n",
        "    print(\"http://docs.openmc.org/en/stable/quickinstall.html\")\n",
        "    return\n",
        "  %cd -q /content\n",
        "  print(\"Obtaining HDF5 files from OneDrive...\")\n",
        "  !wget -O nndc_hdf5.tar.gz \"https://onedrive.live.com/download?cid=22422A8EEA2A85B9&resid=22422A8EEA2A85B9%21105&authkey=AHL6xwYFXDwEzkk\" &> /dev/null\n",
        "  print(\"Uncompressing...\")\n",
        "  !tar xzvf nndc_hdf5.tar.gz &> /dev/null\n",
        "    \n",
        "from time import time\n",
        "t1 = time()\n",
        "install_openmc()\n",
        "install_data_from_onedrive()\n",
        "t2 = time()\n",
        "print(\"Installed OpenMC in {:.2f} minutes\".format((t2-t1)/60.0))\n"
      ],
      "execution_count": 0,
      "outputs": []
    },
    {
      "cell_type": "markdown",
      "metadata": {
        "id": "dy4oKx7TPG0m",
        "colab_type": "text"
      },
      "source": [
        "# Definición de parámetros de simulación (settings)"
      ]
    },
    {
      "cell_type": "markdown",
      "metadata": {
        "id": "c8t73FYXPG0r",
        "colab_type": "text"
      },
      "source": [
        "Comenzamos importando el módulo `openmc`, contiene el API (applicationg programming interface) para generar el input de OpenMC."
      ]
    },
    {
      "cell_type": "code",
      "metadata": {
        "id": "AoPeObmpPG0t",
        "colab_type": "code",
        "colab": {}
      },
      "source": [
        "import openmc"
      ],
      "execution_count": 0,
      "outputs": []
    },
    {
      "cell_type": "markdown",
      "metadata": {
        "id": "rrq4QRomPG1C",
        "colab_type": "text"
      },
      "source": [
        "Una vez que se definieron los materiales y la geometría de nuestra simulación es necesario indicar a OpenMC los parámetros de la simulación. Esto se realiza mediante la función `Settings()`, que genera el archivo `setting.xml` que, con `materials.xml` y `geometry.xml` conforma el conjunto mínimo de archivos de input necesarios para ejecutar OpenMC."
      ]
    },
    {
      "cell_type": "code",
      "metadata": {
        "id": "pnDjl07WPG1E",
        "colab_type": "code",
        "colab": {}
      },
      "source": [
        "parametros = openmc.Settings()"
      ],
      "execution_count": 0,
      "outputs": []
    },
    {
      "cell_type": "markdown",
      "metadata": {
        "id": "iTo2ZYYfPG1K",
        "colab_type": "text"
      },
      "source": [
        "El tipo de simulación a realizar se establece dandole un valor al parámetro `.run_mode`. Los valores posibles son strings con los siguientes valores:\n",
        "\n",
        "* `\"eigenvalue\"`: realiza un cálculo del factor de multiplicación mediante la simulación del reactor crítico asociado.\n",
        "* `\"fixed source\"`: realiza un cálculo de fuente fija.\n",
        "* `\"volume\"`: realiza un cálculo Monte Carlo del volumen de las celdas de la simulación.\n",
        "* `\"plot\"`: genera gráficos 2D y 3D de la geometría.\n",
        "* `\"particle restart\"`: permite continuar una simulación."
      ]
    },
    {
      "cell_type": "code",
      "metadata": {
        "id": "KNbsNtNwQJDL",
        "colab_type": "code",
        "colab": {}
      },
      "source": [
        "parametros.run_mode = \"eigenvalue\""
      ],
      "execution_count": 0,
      "outputs": []
    },
    {
      "cell_type": "markdown",
      "metadata": {
        "id": "2rfJ1Q2UPG1M",
        "colab_type": "text"
      },
      "source": [
        "En los modos `eigenvalue` y `fixed source` debe indicarse el número de partículas a simular subdivididas en grupos denominados *batches*. Esto se especifica con los atributos `.particles` (número de partículas por batch) y `.batches`. Por ejemplo:"
      ]
    },
    {
      "cell_type": "code",
      "metadata": {
        "id": "0NU6t3kHPG1O",
        "colab_type": "code",
        "colab": {}
      },
      "source": [
        "parametros.batches = 10\n",
        "parametros.particles = 1000"
      ],
      "execution_count": 0,
      "outputs": []
    },
    {
      "cell_type": "markdown",
      "metadata": {
        "id": "MtXSmsjXPG1R",
        "colab_type": "text"
      },
      "source": [
        "realiza una simulación de 10000 partículas, y la simulación se divide en 10 batches de 1000 partículas."
      ]
    },
    {
      "cell_type": "markdown",
      "metadata": {
        "id": "_Ks5Ny7IPG1S",
        "colab_type": "text"
      },
      "source": [
        "## Simulación de reactor crítico asociado (factor de multiplicación)"
      ]
    },
    {
      "cell_type": "markdown",
      "metadata": {
        "id": "4Bhy_hvpPG1T",
        "colab_type": "text"
      },
      "source": [
        "Las simulaciones para calcular el factor de multiplicación de un sistema con material físil se realizan en el modo `eigenvalue`. Este modo de ejecución implementa el *método de generaciones sucesivas*. En este método la simulación se subdivide en generaciones (por default, una generación por batch) y en cada generación las partículas son simuladas desde su nacimiento port fisión hasta su desaparición por absorción o fuga. Las partículas secundarias generadas por fisión no son seguidas en forma explícita sino que sus características (posición, energía, dirección) son almacenadas en un banco que sirve como fuente para la próxima generación. La simulación se inicia con una fuente provista por el usuario mediante el atributo `.source`. Durante las primeras generaciones la distribución de fuente va a estar muy alejada de la distribución de equilibrio (la autofunción del sistema), por lo que un número de generaciones inciales debe ser descartado. Esto se indica con el atributo `.inactive_batches`."
      ]
    },
    {
      "cell_type": "markdown",
      "metadata": {
        "id": "7ZTpRRpRPG1U",
        "colab_type": "text"
      },
      "source": [
        "### Ejemplo: benchmark Godiva."
      ]
    },
    {
      "cell_type": "markdown",
      "metadata": {
        "id": "sDM-e2nUPG1V",
        "colab_type": "text"
      },
      "source": [
        "Realizaremos la simulación del reactor [Godiva](https://en.wikipedia.org/wiki/Godiva_device). Los detalles de este reactor pueden encontrarse en el benchmark HEU-MET-FAST-001 de [ICSBEP](https://www.oecd-nea.org/science/wpncs/icsbep/) y también en el informe \"S. Frankle. A Suite of Criticality Benchmarks for Validating Nuclear Data. LA-13594 (1999)\", [disponible en la base de datos INIS de IAEA](https://inis.iaea.org/search/search.aspx?orig_q=RN:32027510). \n",
        "\n",
        " <p align=\"center\">\n",
        "<img src=\"https://upload.wikimedia.org/wikipedia/commons/2/2a/Godiva-before-scrammed.jpg\">\n",
        "</p>\n",
        "\n",
        "\n",
        "Godiva es una esfera de $8.7407$ cm de radio de uranio metálico de densidad $18.74$ gm/cm$^3$, $94.73$ % en peso de $^{235}$U, $5.27$ % en peso de $^{238}$U, y $1.02$ % en peso de $^{234}$U."
      ]
    },
    {
      "cell_type": "code",
      "metadata": {
        "id": "x0pWcw42PG1X",
        "colab_type": "code",
        "colab": {}
      },
      "source": [
        "umet = openmc.Material()\n",
        "umet.add_nuclide(\"U235\", 0.9473, 'wo')\n",
        "umet.add_nuclide(\"U238\", 0.0527, 'wo')\n",
        "umet.add_nuclide(\"U234\", 0.0102, 'wo')\n",
        "umet.set_density(\"g/cm3\", 18.74)\n",
        "\n",
        "mats = openmc.Materials([umet])\n",
        "mats.cross_sections = \"/content/nndc_hdf5/cross_sections.xml\"\n",
        "mats.export_to_xml()\n",
        "\n",
        "esfera = openmc.Sphere(R=8.74, boundary_type=\"vacuum\")\n",
        "godiva = openmc.Cell(region = -esfera, fill=umet)\n",
        "simulacion = openmc.Universe(cells=[godiva])\n",
        "\n",
        "geom = openmc.Geometry(simulacion)\n",
        "geom.export_to_xml()\n",
        "\n",
        "run = openmc.Settings()\n",
        "run.run_mode = \"eigenvalue\"\n",
        "run.particles = 1000\n",
        "run.batches = 110\n",
        "run.inactive = 10\n",
        "run.export_to_xml()"
      ],
      "execution_count": 0,
      "outputs": []
    },
    {
      "cell_type": "markdown",
      "metadata": {
        "id": "a3UDwk2kPG1a",
        "colab_type": "text"
      },
      "source": [
        "La ejecución del código se realiza con la función `run()` desde el notebook o invocando el comando `openmc` en una terminal abierta en el directorio donde guardamos los archivos xml:"
      ]
    },
    {
      "cell_type": "code",
      "metadata": {
        "id": "BTPA0P3lPG1b",
        "colab_type": "code",
        "outputId": "36a7b887-d62b-4cc2-ac6d-5703f64a5419",
        "colab": {
          "base_uri": "https://localhost:8080/",
          "height": 197
        }
      },
      "source": [
        "!cat materials.xml"
      ],
      "execution_count": 0,
      "outputs": [
        {
          "output_type": "stream",
          "text": [
            "<?xml version='1.0' encoding='utf-8'?>\n",
            "<materials>\n",
            "  <cross_sections>/content/nndc_hdf5/cross_sections.xml</cross_sections>\n",
            "  <material id=\"1\">\n",
            "    <density units=\"g/cm3\" value=\"18.74\" />\n",
            "    <nuclide name=\"U235\" wo=\"0.9473\" />\n",
            "    <nuclide name=\"U238\" wo=\"0.0527\" />\n",
            "    <nuclide name=\"U234\" wo=\"0.0102\" />\n",
            "  </material>\n",
            "</materials>\n"
          ],
          "name": "stdout"
        }
      ]
    },
    {
      "cell_type": "code",
      "metadata": {
        "id": "_8V3jiQ3PG1e",
        "colab_type": "code",
        "outputId": "6b8f40b7-8279-4a4c-d04b-2a20c529353f",
        "colab": {
          "base_uri": "https://localhost:8080/",
          "height": 107
        }
      },
      "source": [
        "!cat geometry.xml"
      ],
      "execution_count": 0,
      "outputs": [
        {
          "output_type": "stream",
          "text": [
            "<?xml version='1.0' encoding='utf-8'?>\n",
            "<geometry>\n",
            "  <cell id=\"1\" material=\"1\" region=\"-1\" universe=\"1\" />\n",
            "  <surface boundary=\"vacuum\" coeffs=\"0.0 0.0 0.0 8.74\" id=\"1\" type=\"sphere\" />\n",
            "</geometry>\n"
          ],
          "name": "stdout"
        }
      ]
    },
    {
      "cell_type": "code",
      "metadata": {
        "id": "OzXNT1z8PG1h",
        "colab_type": "code",
        "outputId": "84077d18-6d35-4fcb-e080-e3cb5f5fce6b",
        "colab": {
          "base_uri": "https://localhost:8080/",
          "height": 143
        }
      },
      "source": [
        "!cat settings.xml"
      ],
      "execution_count": 0,
      "outputs": [
        {
          "output_type": "stream",
          "text": [
            "<?xml version='1.0' encoding='utf-8'?>\n",
            "<settings>\n",
            "  <run_mode>eigenvalue</run_mode>\n",
            "  <particles>1000</particles>\n",
            "  <batches>110</batches>\n",
            "  <inactive>10</inactive>\n",
            "</settings>\n"
          ],
          "name": "stdout"
        }
      ]
    },
    {
      "cell_type": "code",
      "metadata": {
        "id": "XQTqAtQvPG1m",
        "colab_type": "code",
        "outputId": "e4abe6a4-d9ae-4e3a-e6f2-d8fb7c18cc38",
        "colab": {
          "base_uri": "https://localhost:8080/",
          "height": 1000
        }
      },
      "source": [
        "!rm summary.h5\n",
        "!rm statepoint.*.h5\n",
        "openmc.run()"
      ],
      "execution_count": 0,
      "outputs": [
        {
          "output_type": "stream",
          "text": [
            "rm: cannot remove 'summary.h5': No such file or directory\n",
            "rm: cannot remove 'statepoint.*.h5': No such file or directory\n",
            "\n",
            "                               %%%%%%%%%%%%%%%\n",
            "                          %%%%%%%%%%%%%%%%%%%%%%%%\n",
            "                       %%%%%%%%%%%%%%%%%%%%%%%%%%%%%%\n",
            "                     %%%%%%%%%%%%%%%%%%%%%%%%%%%%%%%%%%\n",
            "                   %%%%%%%%%%%%%%%%%%%%%%%%%%%%%%%%%%%%%%\n",
            "                  %%%%%%%%%%%%%%%%%%%%%%%%%%%%%%%%%%%%%%%%\n",
            "                                   %%%%%%%%%%%%%%%%%%%%%%%%\n",
            "                                    %%%%%%%%%%%%%%%%%%%%%%%%\n",
            "                ###############      %%%%%%%%%%%%%%%%%%%%%%%%\n",
            "               ##################     %%%%%%%%%%%%%%%%%%%%%%%\n",
            "               ###################     %%%%%%%%%%%%%%%%%%%%%%%\n",
            "               ####################     %%%%%%%%%%%%%%%%%%%%%%\n",
            "               #####################     %%%%%%%%%%%%%%%%%%%%%\n",
            "               ######################     %%%%%%%%%%%%%%%%%%%%\n",
            "               #######################     %%%%%%%%%%%%%%%%%%\n",
            "                #######################     %%%%%%%%%%%%%%%%%\n",
            "                ######################     %%%%%%%%%%%%%%%%%\n",
            "                 ####################     %%%%%%%%%%%%%%%%%\n",
            "                   #################     %%%%%%%%%%%%%%%%%\n",
            "                    ###############     %%%%%%%%%%%%%%%%\n",
            "                      ############     %%%%%%%%%%%%%%%\n",
            "                         ########     %%%%%%%%%%%%%%\n",
            "                                     %%%%%%%%%%%\n",
            "\n",
            "                   | The OpenMC Monte Carlo Code\n",
            "         Copyright | 2011-2018 Massachusetts Institute of Technology\n",
            "           License | http://openmc.readthedocs.io/en/latest/license.html\n",
            "           Version | 0.10.0\n",
            "          Git SHA1 | 455efffdbf6eacbc0b3b93ad61cfeb24490897d8\n",
            "         Date/Time | 2019-07-25 14:53:00\n",
            "    OpenMP Threads | 2\n",
            "\n",
            " Reading settings XML file...\n",
            " Reading cross sections XML file...\n",
            " Reading materials XML file...\n",
            " Reading geometry XML file...\n",
            " Building neighboring cells lists for each surface...\n",
            " Reading U235 from /content/nndc_hdf5/U235.h5\n",
            " Reading U238 from /content/nndc_hdf5/U238.h5\n",
            " Reading U234 from /content/nndc_hdf5/U234.h5\n",
            " Maximum neutron transport energy: 2.00000E+07 eV for U235\n",
            " Writing summary.h5 file...\n",
            " Initializing source particles...\n",
            "\n",
            " ====================>     K EIGENVALUE SIMULATION     <====================\n",
            "\n",
            "  Bat./Gen.      k            Average k         \n",
            "  =========   ========   ====================   \n",
            "        1/1    1.31859                       \n",
            "        2/1    1.12262                       \n",
            "        3/1    1.08170                       \n",
            "        4/1    1.02144                       \n",
            "        5/1    1.02956                       \n",
            "        6/1    1.03907                       \n",
            "        7/1    0.96310                       \n",
            "        8/1    1.00722                       \n",
            "        9/1    1.01884                       \n",
            "       10/1    0.95300                       \n",
            "       11/1    0.98899                       \n",
            "       12/1    1.03466    1.01183 +/- 0.02284\n",
            "       13/1    0.98920    1.00428 +/- 0.01519\n",
            "       14/1    0.94716    0.99000 +/- 0.01787\n",
            "       15/1    0.96066    0.98413 +/- 0.01503\n",
            "       16/1    1.01105    0.98862 +/- 0.01307\n",
            "       17/1    1.00277    0.99064 +/- 0.01123\n",
            "       18/1    1.00366    0.99227 +/- 0.00986\n",
            "       19/1    0.98602    0.99157 +/- 0.00872\n",
            "       20/1    1.02878    0.99530 +/- 0.00864\n",
            "       21/1    0.99728    0.99548 +/- 0.00782\n",
            "       22/1    0.97945    0.99414 +/- 0.00726\n",
            "       23/1    0.97770    0.99288 +/- 0.00680\n",
            "       24/1    0.99188    0.99280 +/- 0.00630\n",
            "       25/1    0.99546    0.99298 +/- 0.00586\n",
            "       26/1    0.99446    0.99307 +/- 0.00549\n",
            "       27/1    0.98609    0.99266 +/- 0.00517\n",
            "       28/1    0.99218    0.99264 +/- 0.00487\n",
            "       29/1    1.00605    0.99334 +/- 0.00466\n",
            "       30/1    0.94671    0.99101 +/- 0.00500\n",
            "       31/1    0.98751    0.99084 +/- 0.00476\n",
            "       32/1    1.03325    0.99277 +/- 0.00493\n",
            "       33/1    1.00879    0.99347 +/- 0.00476\n",
            "       34/1    0.98751    0.99322 +/- 0.00457\n",
            "       35/1    0.96264    0.99200 +/- 0.00455\n",
            "       36/1    1.01109    0.99273 +/- 0.00443\n",
            "       37/1    0.99914    0.99297 +/- 0.00427\n",
            "       38/1    0.99818    0.99315 +/- 0.00412\n",
            "       39/1    0.95091    0.99170 +/- 0.00423\n",
            "       40/1    0.97217    0.99105 +/- 0.00414\n",
            "       41/1    1.00670    0.99155 +/- 0.00404\n",
            "       42/1    1.01240    0.99220 +/- 0.00396\n",
            "       43/1    1.03273    0.99343 +/- 0.00403\n",
            "       44/1    1.00242    0.99370 +/- 0.00392\n",
            "       45/1    1.00677    0.99407 +/- 0.00383\n",
            "       46/1    0.98160    0.99372 +/- 0.00373\n",
            "       47/1    0.99737    0.99382 +/- 0.00363\n",
            "       48/1    0.97605    0.99335 +/- 0.00357\n",
            "       49/1    1.03328    0.99438 +/- 0.00362\n",
            "       50/1    0.99347    0.99435 +/- 0.00353\n",
            "       51/1    0.98340    0.99409 +/- 0.00345\n",
            "       52/1    0.98441    0.99386 +/- 0.00338\n",
            "       53/1    1.04089    0.99495 +/- 0.00347\n",
            "       54/1    1.00136    0.99510 +/- 0.00340\n",
            "       55/1    0.97999    0.99476 +/- 0.00334\n",
            "       56/1    0.99445    0.99475 +/- 0.00327\n",
            "       57/1    0.96697    0.99416 +/- 0.00325\n",
            "       58/1    1.00653    0.99442 +/- 0.00319\n",
            "       59/1    0.99499    0.99443 +/- 0.00313\n",
            "       60/1    1.00613    0.99467 +/- 0.00307\n",
            "       61/1    0.96629    0.99411 +/- 0.00306\n",
            "       62/1    0.99179    0.99406 +/- 0.00300\n",
            "       63/1    1.00880    0.99434 +/- 0.00296\n",
            "       64/1    1.02805    0.99497 +/- 0.00297\n",
            "       65/1    0.99553    0.99498 +/- 0.00291\n",
            "       66/1    0.94783    0.99414 +/- 0.00298\n",
            "       67/1    0.94930    0.99335 +/- 0.00303\n",
            "       68/1    0.98297    0.99317 +/- 0.00299\n",
            "       69/1    1.00771    0.99342 +/- 0.00295\n",
            "       70/1    0.99698    0.99348 +/- 0.00290\n",
            "       71/1    1.00294    0.99363 +/- 0.00285\n",
            "       72/1    0.94554    0.99286 +/- 0.00291\n",
            "       73/1    1.02972    0.99344 +/- 0.00293\n",
            "       74/1    0.99636    0.99349 +/- 0.00288\n",
            "       75/1    0.96250    0.99301 +/- 0.00287\n",
            "       76/1    0.96683    0.99261 +/- 0.00286\n",
            "       77/1    0.96061    0.99214 +/- 0.00286\n",
            "       78/1    0.99159    0.99213 +/- 0.00281\n",
            "       79/1    1.01837    0.99251 +/- 0.00280\n",
            "       80/1    0.98686    0.99243 +/- 0.00276\n",
            "       81/1    1.01113    0.99269 +/- 0.00273\n",
            "       82/1    1.03925    0.99334 +/- 0.00277\n",
            "       83/1    0.99342    0.99334 +/- 0.00273\n",
            "       84/1    0.98508    0.99323 +/- 0.00270\n",
            "       85/1    0.99055    0.99319 +/- 0.00266\n",
            "       86/1    0.98619    0.99310 +/- 0.00263\n",
            "       87/1    1.00441    0.99325 +/- 0.00260\n",
            "       88/1    0.97288    0.99298 +/- 0.00258\n",
            "       89/1    0.95447    0.99250 +/- 0.00259\n",
            "       90/1    1.01657    0.99280 +/- 0.00258\n",
            "       91/1    1.00271    0.99292 +/- 0.00255\n",
            "       92/1    0.94409    0.99232 +/- 0.00259\n",
            "       93/1    1.01812    0.99264 +/- 0.00257\n",
            "       94/1    1.02788    0.99306 +/- 0.00258\n",
            "       95/1    1.00086    0.99315 +/- 0.00255\n",
            "       96/1    0.98441    0.99305 +/- 0.00252\n",
            "       97/1    0.98099    0.99291 +/- 0.00249\n",
            "       98/1    1.01474    0.99316 +/- 0.00248\n",
            "       99/1    1.00936    0.99334 +/- 0.00246\n",
            "      100/1    0.98139    0.99320 +/- 0.00243\n",
            "      101/1    0.99329    0.99321 +/- 0.00241\n",
            "      102/1    0.94683    0.99270 +/- 0.00243\n",
            "      103/1    1.00167    0.99280 +/- 0.00241\n",
            "      104/1    1.04201    0.99332 +/- 0.00244\n",
            "      105/1    1.03549    0.99376 +/- 0.00245\n",
            "      106/1    0.98098    0.99363 +/- 0.00243\n",
            "      107/1    0.95429    0.99323 +/- 0.00244\n",
            "      108/1    0.97608    0.99305 +/- 0.00242\n",
            "      109/1    0.99603    0.99308 +/- 0.00240\n",
            "      110/1    0.95586    0.99271 +/- 0.00240\n",
            " Creating state point statepoint.110.h5...\n",
            "\n",
            " =======================>     TIMING STATISTICS     <=======================\n",
            "\n",
            " Total time for initialization     =  2.1536E-01 seconds\n",
            "   Reading cross sections          =  1.8149E-01 seconds\n",
            " Total time in simulation          =  4.8481E-01 seconds\n",
            "   Time in transport only          =  4.5037E-01 seconds\n",
            "   Time in inactive batches        =  5.1045E-02 seconds\n",
            "   Time in active batches          =  4.3376E-01 seconds\n",
            "   Time synchronizing fission bank =  3.8554E-03 seconds\n",
            "     Sampling source sites         =  3.0696E-03 seconds\n",
            "     SEND/RECV source sites        =  6.8393E-04 seconds\n",
            "   Time accumulating tallies       =  9.5494E-05 seconds\n",
            " Total time for finalization       =  8.8220E-06 seconds\n",
            " Total time elapsed                =  7.0544E-01 seconds\n",
            " Calculation Rate (inactive)       =  1.95907E+05 neutrons/second\n",
            " Calculation Rate (active)         =  2.30541E+05 neutrons/second\n",
            "\n",
            " ============================>     RESULTS     <============================\n",
            "\n",
            " k-effective (Collision)     =  0.99536 +/-  0.00289\n",
            " k-effective (Track-length)  =  0.99271 +/-  0.00240\n",
            " k-effective (Absorption)    =  0.99844 +/-  0.00422\n",
            " Combined k-effective        =  0.99391 +/-  0.00203\n",
            " Leakage Fraction            =  0.57376 +/-  0.00174\n",
            "\n"
          ],
          "name": "stdout"
        },
        {
          "output_type": "execute_result",
          "data": {
            "text/plain": [
              "0"
            ]
          },
          "metadata": {
            "tags": []
          },
          "execution_count": 9
        }
      ]
    },
    {
      "cell_type": "markdown",
      "metadata": {
        "id": "sxayZpXIPG1q",
        "colab_type": "text"
      },
      "source": [
        "Durante la simulación se lista el valor de $k_\\text{eff}$ estimado para cada generación. Las primeras 10 generaciones se descartan, por lo que no aportan al cálculo final del factor de multiplicación final, que se lista en la columna de la derecha. Como se observa la estimación de $k$ comienza con valores muy altos, que se van reduciendo con las generaciones. Esto se debe a que al no espeficar una fuente con el atributo `.source` el default es una fuente isotrópica en el orígen con un espectro de fisión de Watt con parámetros $a= 0.988$ MeV y $b = 2.249$ MeV $^{-1}$. Esto hace que las partículas sean muestreadas en una región del reactor de alta importancia (el centro), lo que genera una sobrestimación incial del factor de multiplicación. Como el reactor es pequeño la fuente converge rápidamente. "
      ]
    },
    {
      "cell_type": "markdown",
      "metadata": {
        "id": "zhKgGvv2PG1q",
        "colab_type": "text"
      },
      "source": [
        "Esto lo podemos observar abriendo el archivo `statepoint.110.h5` que (entre otras cosas) contiene el factor de multiplicación para cada generación. Esto puede hacerse con un programa que maneje archivos en formato HDF5 (por ejemplo, `h5dump` del paquete `h5utils`) o utilizando el API en Python de OpenMC. La función `.Statepoint()` abre el archivo y genera un objeto de clase `Statepoint`. La estimación del factor de multiplicación para cada generación puede encontrarse en el atributo `.k_generation`:"
      ]
    },
    {
      "cell_type": "code",
      "metadata": {
        "id": "1BSmcJAvPG1r",
        "colab_type": "code",
        "outputId": "dd70a1c4-bc96-47e1-8efe-20bdce548bce",
        "colab": {
          "base_uri": "https://localhost:8080/",
          "height": 359
        }
      },
      "source": [
        "estado = openmc.StatePoint(\"statepoint.110.h5\")\n",
        "keff = estado.k_generation\n",
        "print(keff)"
      ],
      "execution_count": 0,
      "outputs": [
        {
          "output_type": "stream",
          "text": [
            "[1.31858728 1.12262423 1.08169695 1.02144053 1.02956162 1.03907232\n",
            " 0.96310472 1.00722175 1.0188426  0.95300414 0.98898898 1.03466219\n",
            " 0.98920136 0.94716257 0.96065876 1.011054   1.00276715 1.00365795\n",
            " 0.98601658 1.0287824  0.99727524 0.97944572 0.97770433 0.99188322\n",
            " 0.99545521 0.99445533 0.98608643 0.99218455 1.00604936 0.94671069\n",
            " 0.98751272 1.03325394 1.00878562 0.98751243 0.96263503 1.01109219\n",
            " 0.99914149 0.9981822  0.95091441 0.97216966 1.00670023 1.01239695\n",
            " 1.03272669 1.00241771 1.00676904 0.98159762 0.99737019 0.97604669\n",
            " 1.03328267 0.99346914 0.98339661 0.98440716 1.04088762 1.00135741\n",
            " 0.97998656 0.99445214 0.96697314 1.00653424 0.99499184 1.00613482\n",
            " 0.96629011 0.99178948 1.00880227 1.02805465 0.99553269 0.94783477\n",
            " 0.94930315 0.98297472 1.00771176 0.99697769 1.00294126 0.94553934\n",
            " 1.02972064 0.99635542 0.96249948 0.96682893 0.96061344 0.99158745\n",
            " 1.01836746 0.98685996 1.01113127 1.03924962 0.99341514 0.98507691\n",
            " 0.9905548  0.9861859  1.00441321 0.97287855 0.9544734  1.0165733\n",
            " 1.00271263 0.94408707 1.01812322 1.02788265 1.00085808 0.98441201\n",
            " 0.9809921  1.01473908 1.00936065 0.9813877  0.99328509 0.9468282\n",
            " 1.0016736  1.04200716 1.03548605 0.98098476 0.95428943 0.97607554\n",
            " 0.99602855 0.95586466]\n"
          ],
          "name": "stdout"
        }
      ]
    },
    {
      "cell_type": "code",
      "metadata": {
        "id": "3d8jOVL3PG1u",
        "colab_type": "code",
        "outputId": "7e9e4b1d-6e0c-4878-d726-a52dadeccbed",
        "colab": {
          "base_uri": "https://localhost:8080/",
          "height": 305
        }
      },
      "source": [
        "% pylab inline\n",
        "plot(keff)"
      ],
      "execution_count": 0,
      "outputs": [
        {
          "output_type": "stream",
          "text": [
            "Populating the interactive namespace from numpy and matplotlib\n"
          ],
          "name": "stdout"
        },
        {
          "output_type": "execute_result",
          "data": {
            "text/plain": [
              "[<matplotlib.lines.Line2D at 0x7fd056ba5978>]"
            ]
          },
          "metadata": {
            "tags": []
          },
          "execution_count": 11
        },
        {
          "output_type": "display_data",
          "data": {
            "image/png": "[encoded data removed]",
            "text/plain": [
              "<Figure size 432x288 with 1 Axes>"
            ]
          },
          "metadata": {
            "tags": []
          }
        }
      ]
    },
    {
      "cell_type": "code",
      "metadata": {
        "id": "ASViq4EpPG1y",
        "colab_type": "code",
        "outputId": "0900835b-7ab5-4369-c119-b1b8de99dafd",
        "colab": {
          "base_uri": "https://localhost:8080/",
          "height": 269
        }
      },
      "source": [
        "a = hist(keff[11:],bins=10)"
      ],
      "execution_count": 0,
      "outputs": [
        {
          "output_type": "display_data",
          "data": {
            "image/png": "[encoded data removed]",
            "text/plain": [
              "<Figure size 432x288 with 1 Axes>"
            ]
          },
          "metadata": {
            "tags": []
          }
        }
      ]
    },
    {
      "cell_type": "markdown",
      "metadata": {
        "id": "kvPx8mCsPG11",
        "colab_type": "text"
      },
      "source": [
        "La incerteza en el factor de multiplicación es de $200$ pcm ($200\\times10^{-5}$). Para reducir la incerteza es necesario aumentar la cantidad de partículas simuladas. Por ejemplo:"
      ]
    },
    {
      "cell_type": "code",
      "metadata": {
        "id": "T16__6WRPG11",
        "colab_type": "code",
        "colab": {}
      },
      "source": [
        "run = openmc.Settings()\n",
        "run.run_mode = \"eigenvalue\"\n",
        "run.particles = 10000\n",
        "run.batches = 110\n",
        "run.inactive = 10\n",
        "run.export_to_xml()"
      ],
      "execution_count": 0,
      "outputs": []
    },
    {
      "cell_type": "code",
      "metadata": {
        "id": "_5tIiY1HPG14",
        "colab_type": "code",
        "outputId": "51cf7c51-da97-452c-d0be-72f4c0fe57c0",
        "colab": {
          "base_uri": "https://localhost:8080/",
          "height": 1000
        }
      },
      "source": [
        "!rm summary.h5\n",
        "!rm statepoint.*.h5\n",
        "openmc.run()"
      ],
      "execution_count": 0,
      "outputs": [
        {
          "output_type": "stream",
          "text": [
            "\n",
            "                               %%%%%%%%%%%%%%%\n",
            "                          %%%%%%%%%%%%%%%%%%%%%%%%\n",
            "                       %%%%%%%%%%%%%%%%%%%%%%%%%%%%%%\n",
            "                     %%%%%%%%%%%%%%%%%%%%%%%%%%%%%%%%%%\n",
            "                   %%%%%%%%%%%%%%%%%%%%%%%%%%%%%%%%%%%%%%\n",
            "                  %%%%%%%%%%%%%%%%%%%%%%%%%%%%%%%%%%%%%%%%\n",
            "                                   %%%%%%%%%%%%%%%%%%%%%%%%\n",
            "                                    %%%%%%%%%%%%%%%%%%%%%%%%\n",
            "                ###############      %%%%%%%%%%%%%%%%%%%%%%%%\n",
            "               ##################     %%%%%%%%%%%%%%%%%%%%%%%\n",
            "               ###################     %%%%%%%%%%%%%%%%%%%%%%%\n",
            "               ####################     %%%%%%%%%%%%%%%%%%%%%%\n",
            "               #####################     %%%%%%%%%%%%%%%%%%%%%\n",
            "               ######################     %%%%%%%%%%%%%%%%%%%%\n",
            "               #######################     %%%%%%%%%%%%%%%%%%\n",
            "                #######################     %%%%%%%%%%%%%%%%%\n",
            "                ######################     %%%%%%%%%%%%%%%%%\n",
            "                 ####################     %%%%%%%%%%%%%%%%%\n",
            "                   #################     %%%%%%%%%%%%%%%%%\n",
            "                    ###############     %%%%%%%%%%%%%%%%\n",
            "                      ############     %%%%%%%%%%%%%%%\n",
            "                         ########     %%%%%%%%%%%%%%\n",
            "                                     %%%%%%%%%%%\n",
            "\n",
            "                   | The OpenMC Monte Carlo Code\n",
            "         Copyright | 2011-2018 Massachusetts Institute of Technology\n",
            "           License | http://openmc.readthedocs.io/en/latest/license.html\n",
            "           Version | 0.10.0\n",
            "          Git SHA1 | 455efffdbf6eacbc0b3b93ad61cfeb24490897d8\n",
            "         Date/Time | 2019-07-25 14:57:59\n",
            "    OpenMP Threads | 2\n",
            "\n",
            " Reading settings XML file...\n",
            " Reading cross sections XML file...\n",
            " Reading materials XML file...\n",
            " Reading geometry XML file...\n",
            " Building neighboring cells lists for each surface...\n",
            " Reading U235 from /content/nndc_hdf5/U235.h5\n",
            " Reading U238 from /content/nndc_hdf5/U238.h5\n",
            " Reading U234 from /content/nndc_hdf5/U234.h5\n",
            " Maximum neutron transport energy: 2.00000E+07 eV for U235\n",
            " Writing summary.h5 file...\n",
            " Initializing source particles...\n",
            "\n",
            " ====================>     K EIGENVALUE SIMULATION     <====================\n",
            "\n",
            "  Bat./Gen.      k            Average k         \n",
            "  =========   ========   ====================   \n",
            "        1/1    1.34507                       \n",
            "        2/1    1.15804                       \n",
            "        3/1    1.06264                       \n",
            "        4/1    1.03493                       \n",
            "        5/1    1.02419                       \n",
            "        6/1    1.01023                       \n",
            "        7/1    1.00572                       \n",
            "        8/1    0.99023                       \n",
            "        9/1    0.98896                       \n",
            "       10/1    1.00114                       \n",
            "       11/1    0.99771                       \n",
            "       12/1    1.00346    1.00058 +/- 0.00288\n",
            "       13/1    0.99742    0.99953 +/- 0.00197\n",
            "       14/1    0.99768    0.99907 +/- 0.00147\n",
            "       15/1    0.99863    0.99898 +/- 0.00114\n",
            "       16/1    0.98375    0.99644 +/- 0.00270\n",
            "       17/1    1.01690    0.99936 +/- 0.00371\n",
            "       18/1    1.02803    1.00295 +/- 0.00481\n",
            "       19/1    1.00030    1.00265 +/- 0.00425\n",
            "       20/1    1.01242    1.00363 +/- 0.00393\n",
            "       21/1    0.99448    1.00280 +/- 0.00365\n",
            "       22/1    0.99304    1.00199 +/- 0.00343\n",
            "       23/1    0.99102    1.00114 +/- 0.00327\n",
            "       24/1    0.99493    1.00070 +/- 0.00306\n",
            "       25/1    1.00905    1.00125 +/- 0.00290\n",
            "       26/1    1.00357    1.00140 +/- 0.00272\n",
            "       27/1    1.00703    1.00173 +/- 0.00257\n",
            "       28/1    1.00084    1.00168 +/- 0.00243\n",
            "       29/1    1.00458    1.00183 +/- 0.00230\n",
            "       30/1    0.99937    1.00171 +/- 0.00218\n",
            "       31/1    0.99828    1.00155 +/- 0.00208\n",
            "       32/1    1.00804    1.00184 +/- 0.00201\n",
            "       33/1    0.99480    1.00154 +/- 0.00194\n",
            "       34/1    1.00485    1.00167 +/- 0.00187\n",
            "       35/1    0.99129    1.00126 +/- 0.00184\n",
            "       36/1    0.99419    1.00099 +/- 0.00179\n",
            "       37/1    0.99293    1.00069 +/- 0.00174\n",
            "       38/1    1.00243    1.00075 +/- 0.00168\n",
            "       39/1    0.99508    1.00055 +/- 0.00164\n",
            "       40/1    0.98780    1.00013 +/- 0.00164\n",
            "       41/1    0.97851    0.99943 +/- 0.00173\n",
            "       42/1    1.00367    0.99956 +/- 0.00168\n",
            "       43/1    0.99973    0.99957 +/- 0.00163\n",
            "       44/1    1.02010    1.00017 +/- 0.00169\n",
            "       45/1    0.99747    1.00010 +/- 0.00164\n",
            "       46/1    0.98673    0.99972 +/- 0.00164\n",
            "       47/1    1.01014    1.00001 +/- 0.00162\n",
            "       48/1    1.00330    1.00009 +/- 0.00158\n",
            "       49/1    1.00637    1.00025 +/- 0.00155\n",
            "       50/1    0.99570    1.00014 +/- 0.00151\n",
            "       51/1    1.01667    1.00054 +/- 0.00153\n",
            "       52/1    1.00615    1.00068 +/- 0.00150\n",
            "       53/1    0.99965    1.00065 +/- 0.00146\n",
            "       54/1    0.99454    1.00051 +/- 0.00144\n",
            "       55/1    1.01277    1.00079 +/- 0.00143\n",
            "       56/1    1.00264    1.00083 +/- 0.00140\n",
            "       57/1    0.99655    1.00074 +/- 0.00137\n",
            "       58/1    0.99158    1.00054 +/- 0.00136\n",
            "       59/1    0.99355    1.00040 +/- 0.00134\n",
            "       60/1    1.00169    1.00043 +/- 0.00131\n",
            "       61/1    1.00165    1.00045 +/- 0.00128\n",
            "       62/1    0.99548    1.00036 +/- 0.00126\n",
            "       63/1    0.98849    1.00013 +/- 0.00126\n",
            "       64/1    0.99341    1.00001 +/- 0.00124\n",
            "       65/1    1.00728    1.00014 +/- 0.00123\n",
            "       66/1    0.98586    0.99989 +/- 0.00123\n",
            "       67/1    1.00130    0.99991 +/- 0.00121\n",
            "       68/1    0.99066    0.99975 +/- 0.00120\n",
            "       69/1    0.98908    0.99957 +/- 0.00119\n",
            "       70/1    1.00515    0.99966 +/- 0.00117\n",
            "       71/1    0.99426    0.99957 +/- 0.00116\n",
            "       72/1    0.99851    0.99956 +/- 0.00114\n",
            "       73/1    0.99706    0.99952 +/- 0.00112\n",
            "       74/1    0.99700    0.99948 +/- 0.00111\n",
            "       75/1    1.02953    0.99994 +/- 0.00118\n",
            "       76/1    1.00801    1.00006 +/- 0.00117\n",
            "       77/1    0.99137    0.99993 +/- 0.00116\n",
            "       78/1    1.00339    0.99998 +/- 0.00114\n",
            "       79/1    1.00177    1.00001 +/- 0.00113\n",
            "       80/1    1.00707    1.00011 +/- 0.00112\n",
            "       81/1    0.99500    1.00004 +/- 0.00110\n",
            "       82/1    1.00581    1.00012 +/- 0.00109\n",
            "       83/1    1.00248    1.00015 +/- 0.00108\n",
            "       84/1    0.99687    1.00011 +/- 0.00106\n",
            "       85/1    0.99779    1.00008 +/- 0.00105\n",
            "       86/1    0.99561    1.00002 +/- 0.00104\n",
            "       87/1    0.99045    0.99989 +/- 0.00103\n",
            "       88/1    1.01384    1.00007 +/- 0.00103\n",
            "       89/1    1.00163    1.00009 +/- 0.00102\n",
            "       90/1    0.99851    1.00007 +/- 0.00101\n",
            "       91/1    1.00222    1.00010 +/- 0.00099\n",
            "       92/1    0.99598    1.00005 +/- 0.00098\n",
            "       93/1    0.99877    1.00003 +/- 0.00097\n",
            "       94/1    0.99637    0.99999 +/- 0.00096\n",
            "       95/1    0.99264    0.99990 +/- 0.00095\n",
            "       96/1    0.98645    0.99975 +/- 0.00096\n",
            "       97/1    1.01379    0.99991 +/- 0.00096\n",
            "       98/1    1.01865    1.00012 +/- 0.00097\n",
            "       99/1    1.00764    1.00020 +/- 0.00096\n",
            "      100/1    1.02300    1.00046 +/- 0.00099\n",
            "      101/1    1.01066    1.00057 +/- 0.00098\n",
            "      102/1    0.99635    1.00052 +/- 0.00097\n",
            "      103/1    1.00169    1.00054 +/- 0.00096\n",
            "      104/1    1.00581    1.00059 +/- 0.00095\n",
            "      105/1    1.00616    1.00065 +/- 0.00094\n",
            "      106/1    1.00969    1.00075 +/- 0.00094\n",
            "      107/1    1.00227    1.00076 +/- 0.00093\n",
            "      108/1    1.01493    1.00091 +/- 0.00093\n",
            "      109/1    0.98667    1.00076 +/- 0.00093\n",
            "      110/1    0.99515    1.00071 +/- 0.00093\n",
            " Creating state point statepoint.110.h5...\n",
            "\n",
            " =======================>     TIMING STATISTICS     <=======================\n",
            "\n",
            " Total time for initialization     =  1.8710E-01 seconds\n",
            "   Reading cross sections          =  1.5735E-01 seconds\n",
            " Total time in simulation          =  4.3577E+00 seconds\n",
            "   Time in transport only          =  4.2367E+00 seconds\n",
            "   Time in inactive batches        =  3.9570E-01 seconds\n",
            "   Time in active batches          =  3.9620E+00 seconds\n",
            "   Time synchronizing fission bank =  5.0557E-02 seconds\n",
            "     Sampling source sites         =  3.5650E-02 seconds\n",
            "     SEND/RECV source sites        =  1.4675E-02 seconds\n",
            "   Time accumulating tallies       =  1.3325E-04 seconds\n",
            " Total time for finalization       =  9.0590E-06 seconds\n",
            " Total time elapsed                =  4.5933E+00 seconds\n",
            " Calculation Rate (inactive)       =  2.52714E+05 neutrons/second\n",
            " Calculation Rate (active)         =  2.52401E+05 neutrons/second\n",
            "\n",
            " ============================>     RESULTS     <============================\n",
            "\n",
            " k-effective (Collision)     =  1.00080 +/-  0.00098\n",
            " k-effective (Track-length)  =  1.00071 +/-  0.00093\n",
            " k-effective (Absorption)    =  1.00222 +/-  0.00113\n",
            " Combined k-effective        =  1.00137 +/-  0.00067\n",
            " Leakage Fraction            =  0.57186 +/-  0.00049\n",
            "\n"
          ],
          "name": "stdout"
        },
        {
          "output_type": "execute_result",
          "data": {
            "text/plain": [
              "0"
            ]
          },
          "metadata": {
            "tags": []
          },
          "execution_count": 14
        }
      ]
    },
    {
      "cell_type": "code",
      "metadata": {
        "id": "PXm5GItVPG1-",
        "colab_type": "code",
        "colab": {}
      },
      "source": [
        "estado2 = openmc.StatePoint(\"statepoint.110.h5\")\n",
        "keff2 = estado2.k_generation"
      ],
      "execution_count": 0,
      "outputs": []
    },
    {
      "cell_type": "code",
      "metadata": {
        "id": "LJ5H-bFxPG2C",
        "colab_type": "code",
        "outputId": "deede1ef-0b8b-4cb1-c8c3-dc81eae39f58",
        "colab": {
          "base_uri": "https://localhost:8080/",
          "height": 287
        }
      },
      "source": [
        "plot(keff)\n",
        "plot(keff2)"
      ],
      "execution_count": 0,
      "outputs": [
        {
          "output_type": "execute_result",
          "data": {
            "text/plain": [
              "[<matplotlib.lines.Line2D at 0x7fd0542bec18>]"
            ]
          },
          "metadata": {
            "tags": []
          },
          "execution_count": 16
        },
        {
          "output_type": "display_data",
          "data": {
            "image/png": "[encoded data removed]",
            "text/plain": [
              "<Figure size 432x288 with 1 Axes>"
            ]
          },
          "metadata": {
            "tags": []
          }
        }
      ]
    },
    {
      "cell_type": "code",
      "metadata": {
        "id": "FXA_4difPG2H",
        "colab_type": "code",
        "colab": {}
      },
      "source": [
        "run = openmc.Settings()\n",
        "run.run_mode = \"eigenvalue\"\n",
        "run.particles = 100000\n",
        "run.batches = 110\n",
        "run.inactive = 10\n",
        "run.export_to_xml()"
      ],
      "execution_count": 0,
      "outputs": []
    },
    {
      "cell_type": "code",
      "metadata": {
        "id": "H7oFLoV3PG2K",
        "colab_type": "code",
        "outputId": "7d9dcb7b-4e29-4857-eb83-fae8814c33aa",
        "colab": {
          "base_uri": "https://localhost:8080/",
          "height": 1000
        }
      },
      "source": [
        "!rm statepoint.110.h5\n",
        "!rm summary.h5\n",
        "openmc.run()"
      ],
      "execution_count": 0,
      "outputs": [
        {
          "output_type": "stream",
          "text": [
            "\n",
            "                               %%%%%%%%%%%%%%%\n",
            "                          %%%%%%%%%%%%%%%%%%%%%%%%\n",
            "                       %%%%%%%%%%%%%%%%%%%%%%%%%%%%%%\n",
            "                     %%%%%%%%%%%%%%%%%%%%%%%%%%%%%%%%%%\n",
            "                   %%%%%%%%%%%%%%%%%%%%%%%%%%%%%%%%%%%%%%\n",
            "                  %%%%%%%%%%%%%%%%%%%%%%%%%%%%%%%%%%%%%%%%\n",
            "                                   %%%%%%%%%%%%%%%%%%%%%%%%\n",
            "                                    %%%%%%%%%%%%%%%%%%%%%%%%\n",
            "                ###############      %%%%%%%%%%%%%%%%%%%%%%%%\n",
            "               ##################     %%%%%%%%%%%%%%%%%%%%%%%\n",
            "               ###################     %%%%%%%%%%%%%%%%%%%%%%%\n",
            "               ####################     %%%%%%%%%%%%%%%%%%%%%%\n",
            "               #####################     %%%%%%%%%%%%%%%%%%%%%\n",
            "               ######################     %%%%%%%%%%%%%%%%%%%%\n",
            "               #######################     %%%%%%%%%%%%%%%%%%\n",
            "                #######################     %%%%%%%%%%%%%%%%%\n",
            "                ######################     %%%%%%%%%%%%%%%%%\n",
            "                 ####################     %%%%%%%%%%%%%%%%%\n",
            "                   #################     %%%%%%%%%%%%%%%%%\n",
            "                    ###############     %%%%%%%%%%%%%%%%\n",
            "                      ############     %%%%%%%%%%%%%%%\n",
            "                         ########     %%%%%%%%%%%%%%\n",
            "                                     %%%%%%%%%%%\n",
            "\n",
            "                   | The OpenMC Monte Carlo Code\n",
            "         Copyright | 2011-2018 Massachusetts Institute of Technology\n",
            "           License | http://openmc.readthedocs.io/en/latest/license.html\n",
            "           Version | 0.10.0\n",
            "          Git SHA1 | 455efffdbf6eacbc0b3b93ad61cfeb24490897d8\n",
            "         Date/Time | 2019-07-25 14:58:45\n",
            "    OpenMP Threads | 2\n",
            "\n",
            " Reading settings XML file...\n",
            " Reading cross sections XML file...\n",
            " Reading materials XML file...\n",
            " Reading geometry XML file...\n",
            " Building neighboring cells lists for each surface...\n",
            " Reading U235 from /content/nndc_hdf5/U235.h5\n",
            " Reading U238 from /content/nndc_hdf5/U238.h5\n",
            " Reading U234 from /content/nndc_hdf5/U234.h5\n",
            " Maximum neutron transport energy: 2.00000E+07 eV for U235\n",
            " Writing summary.h5 file...\n",
            " Initializing source particles...\n",
            "\n",
            " ====================>     K EIGENVALUE SIMULATION     <====================\n",
            "\n",
            "  Bat./Gen.      k            Average k         \n",
            "  =========   ========   ====================   \n",
            "        1/1    1.34605                       \n",
            "        2/1    1.14683                       \n",
            "        3/1    1.07130                       \n",
            "        4/1    1.03422                       \n",
            "        5/1    1.01788                       \n",
            "        6/1    1.01331                       \n",
            "        7/1    1.00198                       \n",
            "        8/1    1.00581                       \n",
            "        9/1    1.00179                       \n",
            "       10/1    0.99771                       \n",
            "       11/1    0.99873                       \n",
            "       12/1    0.99489    0.99681 +/- 0.00192\n",
            "       13/1    1.00181    0.99847 +/- 0.00200\n",
            "       14/1    0.99982    0.99881 +/- 0.00145\n",
            "       15/1    1.00066    0.99918 +/- 0.00119\n",
            "       16/1    1.00240    0.99972 +/- 0.00111\n",
            "       17/1    1.00593    1.00061 +/- 0.00129\n",
            "       18/1    0.99961    1.00048 +/- 0.00112\n",
            "       19/1    0.99693    1.00009 +/- 0.00107\n",
            "       20/1    0.99910    0.99999 +/- 0.00096\n",
            "       21/1    1.00426    1.00038 +/- 0.00095\n",
            "       22/1    0.99726    1.00012 +/- 0.00091\n",
            "       23/1    0.99998    1.00011 +/- 0.00083\n",
            "       24/1    1.00421    1.00040 +/- 0.00083\n",
            "       25/1    1.00405    1.00064 +/- 0.00081\n",
            "       26/1    1.00564    1.00095 +/- 0.00082\n",
            "       27/1    1.00111    1.00096 +/- 0.00077\n",
            "       28/1    1.00016    1.00092 +/- 0.00072\n",
            "       29/1    1.00429    1.00110 +/- 0.00071\n",
            "       30/1    0.99568    1.00082 +/- 0.00072\n",
            "       31/1    0.99927    1.00075 +/- 0.00069\n",
            "       32/1    1.00188    1.00080 +/- 0.00066\n",
            "       33/1    0.99944    1.00074 +/- 0.00064\n",
            "       34/1    0.99813    1.00063 +/- 0.00062\n",
            "       35/1    0.99681    1.00048 +/- 0.00061\n",
            "       36/1    1.00390    1.00061 +/- 0.00060\n",
            "       37/1    0.99898    1.00055 +/- 0.00058\n",
            "       38/1    0.99527    1.00036 +/- 0.00059\n",
            "       39/1    1.00147    1.00040 +/- 0.00057\n",
            "       40/1    0.99721    1.00029 +/- 0.00056\n",
            "       41/1    0.99992    1.00028 +/- 0.00055\n",
            "       42/1    1.00326    1.00038 +/- 0.00054\n",
            "       43/1    1.00090    1.00039 +/- 0.00052\n",
            "       44/1    0.99673    1.00028 +/- 0.00052\n",
            "       45/1    0.99359    1.00009 +/- 0.00054\n",
            "       46/1    1.00112    1.00012 +/- 0.00052\n",
            "       47/1    0.99987    1.00011 +/- 0.00051\n",
            "       48/1    0.99783    1.00005 +/- 0.00050\n",
            "       49/1    0.99924    1.00003 +/- 0.00049\n",
            "       50/1    1.00041    1.00004 +/- 0.00047\n",
            "       51/1    1.00355    1.00013 +/- 0.00047\n",
            "       52/1    1.00101    1.00015 +/- 0.00046\n",
            "       53/1    1.00325    1.00022 +/- 0.00045\n",
            "       54/1    0.99832    1.00018 +/- 0.00045\n",
            "       55/1    0.99650    1.00010 +/- 0.00044\n",
            "       56/1    0.99605    1.00001 +/- 0.00044\n",
            "       57/1    1.00370    1.00009 +/- 0.00044\n",
            "       58/1    0.99951    1.00008 +/- 0.00043\n",
            "       59/1    0.99918    1.00006 +/- 0.00042\n",
            "       60/1    1.00328    1.00012 +/- 0.00042\n",
            "       61/1    0.99885    1.00010 +/- 0.00041\n",
            "       62/1    1.00118    1.00012 +/- 0.00040\n",
            "       63/1    0.99934    1.00010 +/- 0.00040\n",
            "       64/1    0.99658    1.00004 +/- 0.00039\n",
            "       65/1    1.00258    1.00008 +/- 0.00039\n",
            "       66/1    0.99598    1.00001 +/- 0.00039\n",
            "       67/1    0.99417    0.99991 +/- 0.00040\n",
            "       68/1    0.99700    0.99986 +/- 0.00039\n",
            "       69/1    1.00563    0.99996 +/- 0.00040\n",
            "       70/1    1.00245    1.00000 +/- 0.00039\n",
            "       71/1    0.99600    0.99993 +/- 0.00039\n",
            "       72/1    0.99651    0.99988 +/- 0.00039\n",
            "       73/1    0.99984    0.99988 +/- 0.00038\n",
            "       74/1    0.99629    0.99982 +/- 0.00038\n",
            "       75/1    0.99977    0.99982 +/- 0.00038\n",
            "       76/1    1.00099    0.99984 +/- 0.00037\n",
            "       77/1    0.99995    0.99984 +/- 0.00036\n",
            "       78/1    0.99551    0.99977 +/- 0.00037\n",
            "       79/1    0.99536    0.99971 +/- 0.00037\n",
            "       80/1    1.00162    0.99974 +/- 0.00036\n",
            "       81/1    0.99818    0.99972 +/- 0.00036\n",
            "       82/1    0.99997    0.99972 +/- 0.00035\n",
            "       83/1    1.00343    0.99977 +/- 0.00035\n",
            "       84/1    1.00129    0.99979 +/- 0.00035\n",
            "       85/1    0.99244    0.99969 +/- 0.00036\n",
            "       86/1    0.99977    0.99969 +/- 0.00035\n",
            "       87/1    1.00159    0.99972 +/- 0.00035\n",
            "       88/1    0.99888    0.99971 +/- 0.00034\n",
            "       89/1    1.00104    0.99972 +/- 0.00034\n",
            "       90/1    1.00234    0.99976 +/- 0.00034\n",
            "       91/1    0.99965    0.99976 +/- 0.00033\n",
            "       92/1    1.00173    0.99978 +/- 0.00033\n",
            "       93/1    0.99748    0.99975 +/- 0.00033\n",
            "       94/1    0.99608    0.99971 +/- 0.00033\n",
            "       95/1    0.99541    0.99966 +/- 0.00033\n",
            "       96/1    0.99814    0.99964 +/- 0.00032\n",
            "       97/1    0.99718    0.99961 +/- 0.00032\n",
            "       98/1    1.00014    0.99962 +/- 0.00032\n",
            "       99/1    1.00449    0.99967 +/- 0.00032\n",
            "      100/1    0.99998    0.99968 +/- 0.00031\n",
            "      101/1    1.00336    0.99972 +/- 0.00031\n",
            "      102/1    1.00230    0.99974 +/- 0.00031\n",
            "      103/1    1.00230    0.99977 +/- 0.00031\n",
            "      104/1    0.99726    0.99975 +/- 0.00031\n",
            "      105/1    0.99443    0.99969 +/- 0.00031\n",
            "      106/1    0.99379    0.99963 +/- 0.00031\n",
            "      107/1    1.00190    0.99965 +/- 0.00031\n",
            "      108/1    0.99790    0.99963 +/- 0.00031\n",
            "      109/1    1.00198    0.99966 +/- 0.00030\n",
            "      110/1    1.00124    0.99967 +/- 0.00030\n",
            " Creating state point statepoint.110.h5...\n",
            "\n",
            " =======================>     TIMING STATISTICS     <=======================\n",
            "\n",
            " Total time for initialization     =  1.9241E-01 seconds\n",
            "   Reading cross sections          =  1.5612E-01 seconds\n",
            " Total time in simulation          =  4.1952E+01 seconds\n",
            "   Time in transport only          =  4.0925E+01 seconds\n",
            "   Time in inactive batches        =  3.9403E+00 seconds\n",
            "   Time in active batches          =  3.8011E+01 seconds\n",
            "   Time synchronizing fission bank =  5.2599E-01 seconds\n",
            "     Sampling source sites         =  3.3022E-01 seconds\n",
            "     SEND/RECV source sites        =  1.9509E-01 seconds\n",
            "   Time accumulating tallies       =  2.5347E-04 seconds\n",
            " Total time for finalization       =  5.3624E-05 seconds\n",
            " Total time elapsed                =  4.2531E+01 seconds\n",
            " Calculation Rate (inactive)       =  2.53790E+05 neutrons/second\n",
            " Calculation Rate (active)         =  2.63079E+05 neutrons/second\n",
            "\n",
            " ============================>     RESULTS     <============================\n",
            "\n",
            " k-effective (Collision)     =  0.99929 +/-  0.00036\n",
            " k-effective (Track-length)  =  0.99967 +/-  0.00030\n",
            " k-effective (Absorption)    =  1.00012 +/-  0.00037\n",
            " Combined k-effective        =  0.99995 +/-  0.00021\n",
            " Leakage Fraction            =  0.57284 +/-  0.00015\n",
            "\n"
          ],
          "name": "stdout"
        },
        {
          "output_type": "execute_result",
          "data": {
            "text/plain": [
              "0"
            ]
          },
          "metadata": {
            "tags": []
          },
          "execution_count": 18
        }
      ]
    },
    {
      "cell_type": "code",
      "metadata": {
        "id": "9G_5mkvTPG2N",
        "colab_type": "code",
        "colab": {}
      },
      "source": [
        "estado3 = openmc.StatePoint(\"statepoint.110.h5\")\n",
        "keff3 = estado3.k_generation"
      ],
      "execution_count": 0,
      "outputs": []
    },
    {
      "cell_type": "code",
      "metadata": {
        "id": "mdDAoiVzPG2Q",
        "colab_type": "code",
        "outputId": "69ff68fc-ad8c-4aa6-d58a-abc5dec6d452",
        "colab": {
          "base_uri": "https://localhost:8080/",
          "height": 287
        }
      },
      "source": [
        "plot(keff)\n",
        "plot(keff2)\n",
        "plot(keff3)"
      ],
      "execution_count": 0,
      "outputs": [
        {
          "output_type": "execute_result",
          "data": {
            "text/plain": [
              "[<matplotlib.lines.Line2D at 0x7fd05422e6d8>]"
            ]
          },
          "metadata": {
            "tags": []
          },
          "execution_count": 20
        },
        {
          "output_type": "display_data",
          "data": {
            "image/png": "[encoded data removed]",
            "text/plain": [
              "<Figure size 432x288 with 1 Axes>"
            ]
          },
          "metadata": {
            "tags": []
          }
        }
      ]
    },
    {
      "cell_type": "code",
      "metadata": {
        "id": "utzkr0MvPG2T",
        "colab_type": "code",
        "outputId": "936d5cb7-85db-48f7-d94b-f105d5681dc0",
        "colab": {
          "base_uri": "https://localhost:8080/",
          "height": 345
        }
      },
      "source": [
        "kfinal = estado.k_combined\n",
        "kfinal2 = estado2.k_combined\n",
        "kfinal3 = estado3.k_combined\n",
        "print(kfinal)\n",
        "print(kfinal2)\n",
        "print(kfinal3)\n",
        "loglog([100000,1000000,10000000], [kfinal[1],kfinal2[1],kfinal3[1]],'.')"
      ],
      "execution_count": 0,
      "outputs": [
        {
          "output_type": "stream",
          "text": [
            "[0.99390899 0.00203244]\n",
            "[1.00136850e+00 6.66424871e-04]\n",
            "[9.99953576e-01 2.12871919e-04]\n"
          ],
          "name": "stdout"
        },
        {
          "output_type": "execute_result",
          "data": {
            "text/plain": [
              "[<matplotlib.lines.Line2D at 0x7fd0541f3780>]"
            ]
          },
          "metadata": {
            "tags": []
          },
          "execution_count": 21
        },
        {
          "output_type": "display_data",
          "data": {
            "image/png": "[encoded data removed]",
            "text/plain": [
              "<Figure size 432x288 with 1 Axes>"
            ]
          },
          "metadata": {
            "tags": []
          }
        }
      ]
    },
    {
      "cell_type": "markdown",
      "metadata": {
        "id": "v73e7OzAPG2W",
        "colab_type": "text"
      },
      "source": [
        "El resultado neto es que la incerteza en el factor de multiplicación se reduce en un factor de $1/\\sqrt{N}$."
      ]
    },
    {
      "cell_type": "markdown",
      "metadata": {
        "id": "fM_uQgcpPG2X",
        "colab_type": "text"
      },
      "source": [
        "## Simulación de fuente fija"
      ]
    },
    {
      "cell_type": "markdown",
      "metadata": {
        "id": "wFgBcifQPG2Y",
        "colab_type": "text"
      },
      "source": [
        "Para realizar un cálculo en modo de fuente externa es necesario definir una fuente. La fuente se especifica en el parámetro `.source` del objeto de clase `Settings`. La fuente es un objeto generado con la función `.Source()`, que posee como atributos las distribuciones espaciales, angulares y energéticas de la fuente. Por ejemplo, para definir una fuente isotrópica de $1$ MeV en el origen hacemos:"
      ]
    },
    {
      "cell_type": "code",
      "metadata": {
        "id": "tj5JoZhPPG2Y",
        "colab_type": "code",
        "colab": {}
      },
      "source": [
        "dist_espacial = openmc.stats.Point(xyz=(0.0, 0.0, 0.0))\n",
        "dist_angular = openmc.stats.Isotropic()\n",
        "dist_energetica = openmc.stats.Discrete([1.0e6], [1.0])\n",
        "\n",
        "fuente = openmc.Source()\n",
        "fuente.space = dist_espacial\n",
        "fuente.angle = dist_angular\n",
        "fuente.energy = dist_energetica\n",
        "\n",
        "parametros = openmc.Settings()\n",
        "parametros.source = fuente"
      ],
      "execution_count": 0,
      "outputs": []
    },
    {
      "cell_type": "markdown",
      "metadata": {
        "id": "JxStdWIZPG2c",
        "colab_type": "text"
      },
      "source": [
        "Las distribuciones se generan en base al módulo `openmc.stats`. Este módulo posee distintos tipos de distribuciones para las variables energía, posición y dirección, y distribuciones de probabilidad genéricas:"
      ]
    },
    {
      "cell_type": "markdown",
      "metadata": {
        "id": "pbLscb49PG2c",
        "colab_type": "text"
      },
      "source": [
        "Distribuciones espaciales:\n",
        "\n",
        "* `openmc.stats.Point()`: distribución delta en un punto del espacio, $\\delta(\\vec{r}-\\vec{r}_0)$.\n",
        "* `openmc.stats.Box()`: distribución uniformemente distribuida entre un punto (esquina inferior izquierda) y otro (esquina superior derecha).\n",
        "* `openmc.stats.CartesianIndependent()`: distribución factorizada en distribuciones univariadas para $x$, $y$, $z$."
      ]
    },
    {
      "cell_type": "markdown",
      "metadata": {
        "id": "JU-JRWuHPG2d",
        "colab_type": "text"
      },
      "source": [
        "Distribuciones angulares:\n",
        "* `openmc.stats.Isotropic()`: distribución isotrópica en la esfera unitaria.\n",
        "* `openmc.stats.Monodirectional()`: distribución delta en una dirección angular, $\\delta(\\hat{\\Omega}-\\hat{\\Omega}_0)$.\n",
        "* `openmc.stats.PolarAzimuthal()`: distribución factorizada en distribuciones univariadas para $\\mu = \\cos(\\theta)$ y $\\phi$, respecto a una dirección dada (por defecto, $+z$)."
      ]
    },
    {
      "cell_type": "markdown",
      "metadata": {
        "id": "8OIeH5NQPG2e",
        "colab_type": "text"
      },
      "source": [
        "Distribuciones univariadas (que pueden utilizarse también para energía):\n",
        "* `openmc.stats.Discrete()`: distribución caracterizada por valores discretos con probabilidad asociada.\n",
        "* `openmc.stats.Uniform()`: distribución con probabilidad constante en un intervalo $[a,b]$.\n",
        "* `openmc.stats.Tabular()`: distribución continua por trozos con una ley de interpolación (histograma, lin-lin, lin-log, log-lin o log-log`).\n",
        "* `openmc.stats.Watt()`: distribución de Watt (espectro de fisión: $\\chi(E) = C e^{-E/a} \\sinh{\\sqrt{b E}}$).\n",
        "* `openmc.stats.Maxwell()`: distribución de Maxwell (distribución térmica: $M(E) = C E e^{-E/kT}$)\n",
        "* `openmc.stats.Legendre()`: distribución de probabilidad dada por una expansión en polinomios de Legendre.\n",
        "* `openmc.stats.Mixture()`: distribución discreta en la que los valores son otras distribuciones (similar a `FCEL` en MCNP)."
      ]
    },
    {
      "cell_type": "markdown",
      "metadata": {
        "id": "hBp5FU1tPG2f",
        "colab_type": "text"
      },
      "source": [
        "Por ejemplo, la fuga de neutrones de una esfera de agua de radio $5$ cm con una fuente monoenergética :"
      ]
    },
    {
      "cell_type": "code",
      "metadata": {
        "id": "M9LC73QwPG2g",
        "colab_type": "code",
        "colab": {}
      },
      "source": [
        "h2o = openmc.Material()\n",
        "h2o.add_nuclide(\"H1\", 2.0, \"ao\")\n",
        "h2o.add_nuclide(\"O16\", 1.0, \"ao\")\n",
        "h2o.set_density(\"g/cm3\", 1)\n",
        "h2o.add_s_alpha_beta(\"c_H_in_H2O\")\n",
        "\n",
        "mats = openmc.Materials([h2o])\n",
        "mats.cross_sections = \"/content/nndc_hdf5/cross_sections.xml\"\n",
        "mats.export_to_xml()\n",
        "\n",
        "esfera = openmc.Sphere(R=5, boundary_type=\"vacuum\")\n",
        "celda = openmc.Cell(region=-esfera, fill=h2o)\n",
        "universo = openmc.Universe(cells=[celda])\n",
        "\n",
        "geom = openmc.Geometry(universo)\n",
        "geom.export_to_xml()\n",
        "\n",
        "dist_espacial = openmc.stats.Point(xyz=(0.0, 0.0, 0.0))\n",
        "dist_angular = openmc.stats.Isotropic()\n",
        "dist_energetica = openmc.stats.Discrete([1.0e6], [1.0])\n",
        "\n",
        "fuente = openmc.Source()\n",
        "fuente.space = dist_espacial\n",
        "fuente.angle = dist_angular\n",
        "fuente.energy = dist_energetica\n",
        "\n",
        "parametros = openmc.Settings()\n",
        "parametros.source = fuente\n",
        "parametros.run_mode = \"fixed source\"\n",
        "parametros.batches = 100\n",
        "parametros.particles = 1000\n",
        "parametros.export_to_xml()"
      ],
      "execution_count": 0,
      "outputs": []
    },
    {
      "cell_type": "code",
      "metadata": {
        "id": "rIFeSrR_PG2i",
        "colab_type": "code",
        "outputId": "49e32c6f-21c0-47b0-b7c2-32a7cf35ca06",
        "colab": {
          "base_uri": "https://localhost:8080/",
          "height": 1000
        }
      },
      "source": [
        "!rm statepoint.*.h5\n",
        "!rm summary.h5\n",
        "openmc.run()"
      ],
      "execution_count": 0,
      "outputs": [
        {
          "output_type": "stream",
          "text": [
            "\n",
            "                               %%%%%%%%%%%%%%%\n",
            "                          %%%%%%%%%%%%%%%%%%%%%%%%\n",
            "                       %%%%%%%%%%%%%%%%%%%%%%%%%%%%%%\n",
            "                     %%%%%%%%%%%%%%%%%%%%%%%%%%%%%%%%%%\n",
            "                   %%%%%%%%%%%%%%%%%%%%%%%%%%%%%%%%%%%%%%\n",
            "                  %%%%%%%%%%%%%%%%%%%%%%%%%%%%%%%%%%%%%%%%\n",
            "                                   %%%%%%%%%%%%%%%%%%%%%%%%\n",
            "                                    %%%%%%%%%%%%%%%%%%%%%%%%\n",
            "                ###############      %%%%%%%%%%%%%%%%%%%%%%%%\n",
            "               ##################     %%%%%%%%%%%%%%%%%%%%%%%\n",
            "               ###################     %%%%%%%%%%%%%%%%%%%%%%%\n",
            "               ####################     %%%%%%%%%%%%%%%%%%%%%%\n",
            "               #####################     %%%%%%%%%%%%%%%%%%%%%\n",
            "               ######################     %%%%%%%%%%%%%%%%%%%%\n",
            "               #######################     %%%%%%%%%%%%%%%%%%\n",
            "                #######################     %%%%%%%%%%%%%%%%%\n",
            "                ######################     %%%%%%%%%%%%%%%%%\n",
            "                 ####################     %%%%%%%%%%%%%%%%%\n",
            "                   #################     %%%%%%%%%%%%%%%%%\n",
            "                    ###############     %%%%%%%%%%%%%%%%\n",
            "                      ############     %%%%%%%%%%%%%%%\n",
            "                         ########     %%%%%%%%%%%%%%\n",
            "                                     %%%%%%%%%%%\n",
            "\n",
            "                   | The OpenMC Monte Carlo Code\n",
            "         Copyright | 2011-2018 Massachusetts Institute of Technology\n",
            "           License | http://openmc.readthedocs.io/en/latest/license.html\n",
            "           Version | 0.10.0\n",
            "          Git SHA1 | 455efffdbf6eacbc0b3b93ad61cfeb24490897d8\n",
            "         Date/Time | 2019-07-25 15:13:20\n",
            "    OpenMP Threads | 2\n",
            "\n",
            " Reading settings XML file...\n",
            " Reading cross sections XML file...\n",
            " Reading materials XML file...\n",
            " Reading geometry XML file...\n",
            " Building neighboring cells lists for each surface...\n",
            " Reading H1 from /content/nndc_hdf5/H1.h5\n",
            " Reading O16 from /content/nndc_hdf5/O16.h5\n",
            " Reading c_H_in_H2O from /content/nndc_hdf5/c_H_in_H2O.h5\n",
            " Maximum neutron transport energy: 2.00000E+07 eV for H1\n",
            " Writing summary.h5 file...\n",
            " Initializing source particles...\n",
            "\n",
            " ===============>     FIXED SOURCE TRANSPORT SIMULATION     <===============\n",
            "\n",
            " Simulating batch 1...\n",
            " Simulating batch 2...\n",
            " Simulating batch 3...\n",
            " Simulating batch 4...\n",
            " Simulating batch 5...\n",
            " Simulating batch 6...\n",
            " Simulating batch 7...\n",
            " Simulating batch 8...\n",
            " Simulating batch 9...\n",
            " Simulating batch 10...\n",
            " Simulating batch 11...\n",
            " Simulating batch 12...\n",
            " Simulating batch 13...\n",
            " Simulating batch 14...\n",
            " Simulating batch 15...\n",
            " Simulating batch 16...\n",
            " Simulating batch 17...\n",
            " Simulating batch 18...\n",
            " Simulating batch 19...\n",
            " Simulating batch 20...\n",
            " Simulating batch 21...\n",
            " Simulating batch 22...\n",
            " Simulating batch 23...\n",
            " Simulating batch 24...\n",
            " Simulating batch 25...\n",
            " Simulating batch 26...\n",
            " Simulating batch 27...\n",
            " Simulating batch 28...\n",
            " Simulating batch 29...\n",
            " Simulating batch 30...\n",
            " Simulating batch 31...\n",
            " Simulating batch 32...\n",
            " Simulating batch 33...\n",
            " Simulating batch 34...\n",
            " Simulating batch 35...\n",
            " Simulating batch 36...\n",
            " Simulating batch 37...\n",
            " Simulating batch 38...\n",
            " Simulating batch 39...\n",
            " Simulating batch 40...\n",
            " Simulating batch 41...\n",
            " Simulating batch 42...\n",
            " Simulating batch 43...\n",
            " Simulating batch 44...\n",
            " Simulating batch 45...\n",
            " Simulating batch 46...\n",
            " Simulating batch 47...\n",
            " Simulating batch 48...\n",
            " Simulating batch 49...\n",
            " Simulating batch 50...\n",
            " Simulating batch 51...\n",
            " Simulating batch 52...\n",
            " Simulating batch 53...\n",
            " Simulating batch 54...\n",
            " Simulating batch 55...\n",
            " Simulating batch 56...\n",
            " Simulating batch 57...\n",
            " Simulating batch 58...\n",
            " Simulating batch 59...\n",
            " Simulating batch 60...\n",
            " Simulating batch 61...\n",
            " Simulating batch 62...\n",
            " Simulating batch 63...\n",
            " Simulating batch 64...\n",
            " Simulating batch 65...\n",
            " Simulating batch 66...\n",
            " Simulating batch 67...\n",
            " Simulating batch 68...\n",
            " Simulating batch 69...\n",
            " Simulating batch 70...\n",
            " Simulating batch 71...\n",
            " Simulating batch 72...\n",
            " Simulating batch 73...\n",
            " Simulating batch 74...\n",
            " Simulating batch 75...\n",
            " Simulating batch 76...\n",
            " Simulating batch 77...\n",
            " Simulating batch 78...\n",
            " Simulating batch 79...\n",
            " Simulating batch 80...\n",
            " Simulating batch 81...\n",
            " Simulating batch 82...\n",
            " Simulating batch 83...\n",
            " Simulating batch 84...\n",
            " Simulating batch 85...\n",
            " Simulating batch 86...\n",
            " Simulating batch 87...\n",
            " Simulating batch 88...\n",
            " Simulating batch 89...\n",
            " Simulating batch 90...\n",
            " Simulating batch 91...\n",
            " Simulating batch 92...\n",
            " Simulating batch 93...\n",
            " Simulating batch 94...\n",
            " Simulating batch 95...\n",
            " Simulating batch 96...\n",
            " Simulating batch 97...\n",
            " Simulating batch 98...\n",
            " Simulating batch 99...\n",
            " Simulating batch 100...\n",
            " Creating state point statepoint.100.h5...\n",
            "\n",
            " =======================>     TIMING STATISTICS     <=======================\n",
            "\n",
            " Total time for initialization     =  1.0600E-01 seconds\n",
            "   Reading cross sections          =  7.6089E-02 seconds\n",
            " Total time in simulation          =  1.5989E+00 seconds\n",
            "   Time in transport only          =  1.0732E+00 seconds\n",
            "   Time in active batches          =  1.5989E+00 seconds\n",
            "   Time accumulating tallies       =  1.2835E-04 seconds\n",
            " Total time for finalization       =  1.1392E-05 seconds\n",
            " Total time elapsed                =  1.7105E+00 seconds\n",
            " Calculation Rate (active)         =  62544.5 neutrons/second\n",
            "\n",
            " ============================>     RESULTS     <============================\n",
            "\n",
            " Leakage Fraction            =  0.95943 +/-  0.00066\n",
            "\n"
          ],
          "name": "stdout"
        },
        {
          "output_type": "execute_result",
          "data": {
            "text/plain": [
              "0"
            ]
          },
          "metadata": {
            "tags": []
          },
          "execution_count": 23
        }
      ]
    },
    {
      "cell_type": "markdown",
      "metadata": {
        "id": "9fmFRYwRa-Hw",
        "colab_type": "text"
      },
      "source": [
        "## Fuentes distribuidas en cálculos de criticidad"
      ]
    },
    {
      "cell_type": "markdown",
      "metadata": {
        "id": "c_fQUazNPG2m",
        "colab_type": "text"
      },
      "source": [
        "Ahora que sabemos definir fuentes podemos volver a la simulación de Godiva. Como vimos, el estimador del factor de multiplicación estaba sobreestimado en las primeras generaciones porque la fuente inicial estaba concentrada en la región de máxima importancia (el centro de la esfera). Si, por el contrario, ponemos una fuente inicial distribuida en todo el núcleo la aproximación será por abajo:"
      ]
    },
    {
      "cell_type": "code",
      "metadata": {
        "id": "oLAjJjIOPG2n",
        "colab_type": "code",
        "colab": {}
      },
      "source": [
        "umet = openmc.Material()\n",
        "umet.add_nuclide(\"U235\", 0.9473, 'wo')\n",
        "umet.add_nuclide(\"U238\", 0.0527, 'wo')\n",
        "umet.add_nuclide(\"U234\", 0.0102, 'wo')\n",
        "umet.set_density(\"g/cm3\", 18.74)\n",
        "\n",
        "mats = openmc.Materials([umet])\n",
        "mats.cross_sections = \"/content/nndc_hdf5/cross_sections.xml\"\n",
        "mats.export_to_xml()\n",
        "\n",
        "esfera = openmc.Sphere(R=8.74, boundary_type=\"vacuum\")\n",
        "godiva = openmc.Cell(region = -esfera, fill=umet)\n",
        "simulacion = openmc.Universe(cells=[godiva])\n",
        "\n",
        "geom = openmc.Geometry(simulacion)\n",
        "geom.export_to_xml()\n",
        "\n",
        "run = openmc.Settings()\n",
        "run.run_mode = \"eigenvalue\"\n",
        "run.particles = 1000\n",
        "run.batches = 110\n",
        "run.inactive = 10\n",
        "\n",
        "fuente = openmc.Source()\n",
        "dist_espacial = openmc.stats.Box((-9.0, -9.0, -9.0), (+9.0, +9.0, +9.0), only_fissionable=True)\n",
        "dist_angular = openmc.stats.Isotropic()\n",
        "fuente.space = dist_espacial\n",
        "fuente.angle = dist_angular\n",
        "\n",
        "run.source = fuente\n",
        "\n",
        "run.export_to_xml()"
      ],
      "execution_count": 0,
      "outputs": []
    },
    {
      "cell_type": "code",
      "metadata": {
        "id": "eh3bJl5CPG2p",
        "colab_type": "code",
        "outputId": "23d85979-a422-4602-adad-94d8849c45d0",
        "colab": {
          "base_uri": "https://localhost:8080/",
          "height": 1000
        }
      },
      "source": [
        "!rm statepoint.110.h5\n",
        "!rm summary.h5\n",
        "openmc.run()"
      ],
      "execution_count": 0,
      "outputs": [
        {
          "output_type": "stream",
          "text": [
            "rm: cannot remove 'statepoint.110.h5': No such file or directory\n",
            "\n",
            "                               %%%%%%%%%%%%%%%\n",
            "                          %%%%%%%%%%%%%%%%%%%%%%%%\n",
            "                       %%%%%%%%%%%%%%%%%%%%%%%%%%%%%%\n",
            "                     %%%%%%%%%%%%%%%%%%%%%%%%%%%%%%%%%%\n",
            "                   %%%%%%%%%%%%%%%%%%%%%%%%%%%%%%%%%%%%%%\n",
            "                  %%%%%%%%%%%%%%%%%%%%%%%%%%%%%%%%%%%%%%%%\n",
            "                                   %%%%%%%%%%%%%%%%%%%%%%%%\n",
            "                                    %%%%%%%%%%%%%%%%%%%%%%%%\n",
            "                ###############      %%%%%%%%%%%%%%%%%%%%%%%%\n",
            "               ##################     %%%%%%%%%%%%%%%%%%%%%%%\n",
            "               ###################     %%%%%%%%%%%%%%%%%%%%%%%\n",
            "               ####################     %%%%%%%%%%%%%%%%%%%%%%\n",
            "               #####################     %%%%%%%%%%%%%%%%%%%%%\n",
            "               ######################     %%%%%%%%%%%%%%%%%%%%\n",
            "               #######################     %%%%%%%%%%%%%%%%%%\n",
            "                #######################     %%%%%%%%%%%%%%%%%\n",
            "                ######################     %%%%%%%%%%%%%%%%%\n",
            "                 ####################     %%%%%%%%%%%%%%%%%\n",
            "                   #################     %%%%%%%%%%%%%%%%%\n",
            "                    ###############     %%%%%%%%%%%%%%%%\n",
            "                      ############     %%%%%%%%%%%%%%%\n",
            "                         ########     %%%%%%%%%%%%%%\n",
            "                                     %%%%%%%%%%%\n",
            "\n",
            "                   | The OpenMC Monte Carlo Code\n",
            "         Copyright | 2011-2018 Massachusetts Institute of Technology\n",
            "           License | http://openmc.readthedocs.io/en/latest/license.html\n",
            "           Version | 0.10.0\n",
            "          Git SHA1 | 455efffdbf6eacbc0b3b93ad61cfeb24490897d8\n",
            "         Date/Time | 2019-07-25 15:16:41\n",
            "    OpenMP Threads | 2\n",
            "\n",
            " Reading settings XML file...\n",
            " Reading cross sections XML file...\n",
            " Reading materials XML file...\n",
            " Reading geometry XML file...\n",
            " Building neighboring cells lists for each surface...\n",
            " Reading U235 from /content/nndc_hdf5/U235.h5\n",
            " Reading U238 from /content/nndc_hdf5/U238.h5\n",
            " Reading U234 from /content/nndc_hdf5/U234.h5\n",
            " Maximum neutron transport energy: 2.00000E+07 eV for U235\n",
            " Writing summary.h5 file...\n",
            " Initializing source particles...\n",
            "\n",
            " ====================>     K EIGENVALUE SIMULATION     <====================\n",
            "\n",
            "  Bat./Gen.      k            Average k         \n",
            "  =========   ========   ====================   \n",
            "        1/1    0.89483                       \n",
            "        2/1    0.90015                       \n",
            "        3/1    0.93230                       \n",
            "        4/1    0.97088                       \n",
            "        5/1    0.98708                       \n",
            "        6/1    0.95391                       \n",
            "        7/1    0.99556                       \n",
            "        8/1    0.99773                       \n",
            "        9/1    1.03710                       \n",
            "       10/1    1.02869                       \n",
            "       11/1    1.01820                       \n",
            "       12/1    0.99359    1.00589 +/- 0.01230\n",
            "       13/1    1.00653    1.00611 +/- 0.00711\n",
            "       14/1    0.95355    0.99297 +/- 0.01407\n",
            "       15/1    1.01200    0.99677 +/- 0.01154\n",
            "       16/1    0.99833    0.99703 +/- 0.00943\n",
            "       17/1    0.97753    0.99425 +/- 0.00844\n",
            "       18/1    1.00212    0.99523 +/- 0.00738\n",
            "       19/1    1.04390    1.00064 +/- 0.00846\n",
            "       20/1    1.00921    1.00149 +/- 0.00761\n",
            "       21/1    0.97138    0.99876 +/- 0.00741\n",
            "       22/1    0.95283    0.99493 +/- 0.00777\n",
            "       23/1    0.98190    0.99393 +/- 0.00722\n",
            "       24/1    1.01787    0.99564 +/- 0.00690\n",
            "       25/1    0.99471    0.99558 +/- 0.00642\n",
            "       26/1    1.01107    0.99654 +/- 0.00609\n",
            "       27/1    0.94965    0.99379 +/- 0.00635\n",
            "       28/1    1.02599    0.99558 +/- 0.00625\n",
            "       29/1    0.99360    0.99547 +/- 0.00591\n",
            "       30/1    1.00360    0.99588 +/- 0.00562\n",
            "       31/1    1.00611    0.99636 +/- 0.00537\n",
            "       32/1    0.97377    0.99534 +/- 0.00522\n",
            "       33/1    0.95386    0.99353 +/- 0.00530\n",
            "       34/1    0.97744    0.99286 +/- 0.00512\n",
            "       35/1    0.99917    0.99312 +/- 0.00492\n",
            "       36/1    0.97397    0.99238 +/- 0.00478\n",
            "       37/1    0.96899    0.99151 +/- 0.00468\n",
            "       38/1    0.99304    0.99157 +/- 0.00451\n",
            "       39/1    0.96270    0.99057 +/- 0.00447\n",
            "       40/1    0.95664    0.98944 +/- 0.00446\n",
            "       41/1    1.02764    0.99067 +/- 0.00449\n",
            "       42/1    1.05502    0.99268 +/- 0.00479\n",
            "       43/1    0.98219    0.99237 +/- 0.00465\n",
            "       44/1    0.98486    0.99215 +/- 0.00452\n",
            "       45/1    0.99965    0.99236 +/- 0.00439\n",
            "       46/1    0.99853    0.99253 +/- 0.00427\n",
            "       47/1    0.98747    0.99239 +/- 0.00416\n",
            "       48/1    0.99050    0.99234 +/- 0.00405\n",
            "       49/1    1.06420    0.99419 +/- 0.00435\n",
            "       50/1    1.00343    0.99442 +/- 0.00425\n",
            "       51/1    0.97959    0.99406 +/- 0.00416\n",
            "       52/1    0.95533    0.99313 +/- 0.00416\n",
            "       53/1    0.92889    0.99164 +/- 0.00433\n",
            "       54/1    1.03466    0.99262 +/- 0.00434\n",
            "       55/1    1.02646    0.99337 +/- 0.00431\n",
            "       56/1    0.98913    0.99328 +/- 0.00422\n",
            "       57/1    0.99687    0.99335 +/- 0.00413\n",
            "       58/1    0.95058    0.99246 +/- 0.00414\n",
            "       59/1    0.96295    0.99186 +/- 0.00410\n",
            "       60/1    1.03307    0.99269 +/- 0.00410\n",
            "       61/1    1.01966    0.99321 +/- 0.00405\n",
            "       62/1    1.01253    0.99359 +/- 0.00399\n",
            "       63/1    1.01770    0.99404 +/- 0.00394\n",
            "       64/1    1.01815    0.99449 +/- 0.00389\n",
            "       65/1    1.01652    0.99489 +/- 0.00384\n",
            "       66/1    0.98662    0.99474 +/- 0.00377\n",
            "       67/1    1.00309    0.99489 +/- 0.00371\n",
            "       68/1    0.99062    0.99481 +/- 0.00365\n",
            "       69/1    1.01792    0.99520 +/- 0.00361\n",
            "       70/1    0.96417    0.99469 +/- 0.00358\n",
            "       71/1    1.01865    0.99508 +/- 0.00355\n",
            "       72/1    0.97636    0.99478 +/- 0.00350\n",
            "       73/1    1.00387    0.99492 +/- 0.00345\n",
            "       74/1    1.01416    0.99522 +/- 0.00341\n",
            "       75/1    0.97291    0.99488 +/- 0.00337\n",
            "       76/1    0.98582    0.99474 +/- 0.00332\n",
            "       77/1    0.96760    0.99434 +/- 0.00330\n",
            "       78/1    1.04291    0.99505 +/- 0.00333\n",
            "       79/1    1.01285    0.99531 +/- 0.00329\n",
            "       80/1    0.92266    0.99427 +/- 0.00340\n",
            "       81/1    0.97694    0.99403 +/- 0.00336\n",
            "       82/1    1.00502    0.99418 +/- 0.00332\n",
            "       83/1    1.03527    0.99474 +/- 0.00332\n",
            "       84/1    0.93323    0.99391 +/- 0.00338\n",
            "       85/1    0.98542    0.99380 +/- 0.00334\n",
            "       86/1    0.98125    0.99363 +/- 0.00330\n",
            "       87/1    0.99313    0.99363 +/- 0.00325\n",
            "       88/1    1.01854    0.99395 +/- 0.00323\n",
            "       89/1    0.92409    0.99306 +/- 0.00331\n",
            "       90/1    0.99223    0.99305 +/- 0.00327\n",
            "       91/1    1.01241    0.99329 +/- 0.00323\n",
            "       92/1    0.94174    0.99266 +/- 0.00326\n",
            "       93/1    0.99767    0.99272 +/- 0.00322\n",
            "       94/1    1.04084    0.99330 +/- 0.00323\n",
            "       95/1    0.98897    0.99324 +/- 0.00319\n",
            "       96/1    0.97056    0.99298 +/- 0.00317\n",
            "       97/1    0.95199    0.99251 +/- 0.00316\n",
            "       98/1    0.96668    0.99222 +/- 0.00314\n",
            "       99/1    1.03972    0.99275 +/- 0.00315\n",
            "      100/1    0.95637    0.99235 +/- 0.00314\n",
            "      101/1    1.00996    0.99254 +/- 0.00311\n",
            "      102/1    0.92894    0.99185 +/- 0.00316\n",
            "      103/1    0.99452    0.99188 +/- 0.00312\n",
            "      104/1    0.97656    0.99171 +/- 0.00309\n",
            "      105/1    1.03956    0.99222 +/- 0.00310\n",
            "      106/1    0.95697    0.99185 +/- 0.00309\n",
            "      107/1    1.00107    0.99195 +/- 0.00306\n",
            "      108/1    0.98909    0.99192 +/- 0.00303\n",
            "      109/1    0.99890    0.99199 +/- 0.00300\n",
            "      110/1    1.01923    0.99226 +/- 0.00298\n",
            " Creating state point statepoint.110.h5...\n",
            "\n",
            " =======================>     TIMING STATISTICS     <=======================\n",
            "\n",
            " Total time for initialization     =  1.7881E-01 seconds\n",
            "   Reading cross sections          =  1.5172E-01 seconds\n",
            " Total time in simulation          =  4.7127E-01 seconds\n",
            "   Time in transport only          =  4.3849E-01 seconds\n",
            "   Time in inactive batches        =  5.2834E-02 seconds\n",
            "   Time in active batches          =  4.1844E-01 seconds\n",
            "   Time synchronizing fission bank =  3.4299E-03 seconds\n",
            "     Sampling source sites         =  2.8416E-03 seconds\n",
            "     SEND/RECV source sites        =  4.9020E-04 seconds\n",
            "   Time accumulating tallies       =  6.3577E-05 seconds\n",
            " Total time for finalization       =  7.9080E-06 seconds\n",
            " Total time elapsed                =  6.5548E-01 seconds\n",
            " Calculation Rate (inactive)       =  1.89273E+05 neutrons/second\n",
            " Calculation Rate (active)         =  2.38983E+05 neutrons/second\n",
            "\n",
            " ============================>     RESULTS     <============================\n",
            "\n",
            " k-effective (Collision)     =  0.99350 +/-  0.00351\n",
            " k-effective (Track-length)  =  0.99226 +/-  0.00298\n",
            " k-effective (Absorption)    =  1.00286 +/-  0.00378\n",
            " Combined k-effective        =  0.99654 +/-  0.00226\n",
            " Leakage Fraction            =  0.57185 +/-  0.00154\n",
            "\n"
          ],
          "name": "stdout"
        },
        {
          "output_type": "execute_result",
          "data": {
            "text/plain": [
              "0"
            ]
          },
          "metadata": {
            "tags": []
          },
          "execution_count": 25
        }
      ]
    },
    {
      "cell_type": "code",
      "metadata": {
        "id": "YS89dFVcPG2t",
        "colab_type": "code",
        "outputId": "601e077c-e70e-46f0-c951-546db2e60a43",
        "colab": {
          "base_uri": "https://localhost:8080/",
          "height": 287
        }
      },
      "source": [
        "estado4 = openmc.StatePoint(\"statepoint.110.h5\")\n",
        "keff4 = estado4.k_generation\n",
        "plot(keff, label=\"fuente puntual\")\n",
        "plot(keff4, label=\"fuente distribuida\")\n",
        "legend()"
      ],
      "execution_count": 0,
      "outputs": [
        {
          "output_type": "execute_result",
          "data": {
            "text/plain": [
              "<matplotlib.legend.Legend at 0x7fd053ffed30>"
            ]
          },
          "metadata": {
            "tags": []
          },
          "execution_count": 26
        },
        {
          "output_type": "display_data",
          "data": {
            "image/png": "[encoded data removed]",
            "text/plain": [
              "<Figure size 432x288 with 1 Axes>"
            ]
          },
          "metadata": {
            "tags": []
          }
        }
      ]
    },
    {
      "cell_type": "code",
      "metadata": {
        "id": "crvruQHNfEXO",
        "colab_type": "code",
        "colab": {}
      },
      "source": [
        ""
      ],
      "execution_count": 0,
      "outputs": []
    }
  ]
}